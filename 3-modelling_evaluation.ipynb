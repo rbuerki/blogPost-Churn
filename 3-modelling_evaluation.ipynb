{
 "cells": [
  {
   "cell_type": "markdown",
   "metadata": {},
   "source": [
    "## Load packages and  the clean training and  test sets"
   ]
  },
  {
   "cell_type": "code",
   "execution_count": 1,
   "metadata": {},
   "outputs": [],
   "source": [
    "import numpy as np\n",
    "import pandas as pd\n",
    "import datetime\n",
    "from tqdm import tqdm, tqdm_notebook\n",
    "\n",
    "import funCleaning, funEDA, funChurn\n",
    "\n",
    "%matplotlib inline\n",
    "import matplotlib.pyplot as plt\n",
    "import seaborn as sns; sns.set()\n",
    "\n",
    "\n",
    "from sklearn.pipeline import Pipeline\n",
    "from sklearn.compose import ColumnTransformer\n",
    "from sklearn.preprocessing import StandardScaler, OneHotEncoder\n",
    "from sklearn.model_selection import cross_validate, StratifiedKFold, GridSearchCV, StratifiedShuffleSplit, learning_curve\n",
    "from sklearn.feature_selection import SelectFromModel, RFECV\n",
    "from sklearn.decomposition import PCA, TruncatedSVD\n",
    "from sklearn.metrics import make_scorer, fbeta_score, average_precision_score,  roc_curve, roc_auc_score, \\\n",
    "    precision_recall_curve, confusion_matrix\n",
    "# from sklearn.base import BaseEstimator, TransformerMixin  # to create custom transformers\n",
    "from sklearn.externals import joblib\n",
    "\n",
    "from sklearn.linear_model import LogisticRegression\n",
    "from sklearn.neighbors import KNeighborsClassifier\n",
    "from sklearn.svm import SVC\n",
    "from sklearn.naive_bayes import GaussianNB\n",
    "from sklearn.ensemble import RandomForestClassifier, GradientBoostingClassifier\n",
    "\n",
    "# display all columns of df\n",
    "from IPython.display import display\n",
    "pd.options.display.max_columns = None\n",
    "pd.options.display.max_rows = 80"
   ]
  },
  {
   "cell_type": "code",
   "execution_count": 2,
   "metadata": {},
   "outputs": [],
   "source": [
    "# load training and test sets generated at the beginning of EDA ipynb\n",
    "trainSet = pd.read_csv('data/churnTrainSet.csv', low_memory=False)\n",
    "testSet = pd.read_csv('data/churnTestSet.csv', low_memory=False)"
   ]
  },
  {
   "cell_type": "markdown",
   "metadata": {},
   "source": [
    "## Perform cleaning functions defined in EDA-Notebook\n",
    "\n",
    "(but not yet the outlier and NaN removal)"
   ]
  },
  {
   "cell_type": "code",
   "execution_count": 3,
   "metadata": {},
   "outputs": [],
   "source": [
    "# load lists with columns to delete, dtypes to fix, columns to log-transform (stored in EDA ipynb)\n",
    "%store -r colsToDel\n",
    "%store -r colsToCat\n",
    "%store -r colsToLog10"
   ]
  },
  {
   "cell_type": "code",
   "execution_count": 4,
   "metadata": {
    "scrolled": true
   },
   "outputs": [
    {
     "data": {
      "text/plain": [
       "'car_nr successfully deleted'"
      ]
     },
     "metadata": {},
     "output_type": "display_data"
    },
    {
     "data": {
      "text/plain": [
       "'ref_dt successfully deleted'"
      ]
     },
     "metadata": {},
     "output_type": "display_data"
    },
    {
     "data": {
      "text/plain": [
       "'ACCIDENT_CAR successfully deleted'"
      ]
     },
     "metadata": {},
     "output_type": "display_data"
    },
    {
     "data": {
      "text/plain": [
       "'DESCRIPTION_DE successfully deleted'"
      ]
     },
     "metadata": {},
     "output_type": "display_data"
    },
    {
     "data": {
      "text/plain": [
       "'DESCRIPTION_DE2 successfully deleted'"
      ]
     },
     "metadata": {},
     "output_type": "display_data"
    },
    {
     "data": {
      "text/plain": [
       "'BUDGET_TYPE_IMPORT successfully deleted'"
      ]
     },
     "metadata": {},
     "output_type": "display_data"
    },
    {
     "data": {
      "text/plain": [
       "'SALES_TYPE_IMPORT successfully deleted'"
      ]
     },
     "metadata": {},
     "output_type": "display_data"
    },
    {
     "data": {
      "text/plain": [
       "'FUNCTION_TYPE_UID successfully deleted'"
      ]
     },
     "metadata": {},
     "output_type": "display_data"
    },
    {
     "data": {
      "text/plain": [
       "'TITLE successfully deleted'"
      ]
     },
     "metadata": {},
     "output_type": "display_data"
    },
    {
     "data": {
      "text/plain": [
       "'POSITION successfully deleted'"
      ]
     },
     "metadata": {},
     "output_type": "display_data"
    },
    {
     "data": {
      "text/plain": [
       "'EVT_BIRTH successfully deleted'"
      ]
     },
     "metadata": {},
     "output_type": "display_data"
    },
    {
     "data": {
      "text/plain": [
       "'NAME successfully deleted'"
      ]
     },
     "metadata": {},
     "output_type": "display_data"
    },
    {
     "data": {
      "text/plain": [
       "'PERSON_CITY successfully deleted'"
      ]
     },
     "metadata": {},
     "output_type": "display_data"
    },
    {
     "data": {
      "text/plain": [
       "'SECTOR_UID successfully deleted'"
      ]
     },
     "metadata": {},
     "output_type": "display_data"
    },
    {
     "data": {
      "text/plain": [
       "'IS_RETAIL_PARTNER successfully deleted'"
      ]
     },
     "metadata": {},
     "output_type": "display_data"
    },
    {
     "data": {
      "text/plain": [
       "'IS_SERVICE_PARTNER successfully deleted'"
      ]
     },
     "metadata": {},
     "output_type": "display_data"
    },
    {
     "data": {
      "text/plain": [
       "'RATING_UID successfully deleted'"
      ]
     },
     "metadata": {},
     "output_type": "display_data"
    },
    {
     "data": {
      "text/plain": [
       "'PARTNER_ADRESS_TYPE_UID successfully deleted'"
      ]
     },
     "metadata": {},
     "output_type": "display_data"
    },
    {
     "data": {
      "text/plain": [
       "'Altersklasse5J successfully deleted'"
      ]
     },
     "metadata": {},
     "output_type": "display_data"
    },
    {
     "data": {
      "text/plain": [
       "'Kanton successfully deleted'"
      ]
     },
     "metadata": {},
     "output_type": "display_data"
    },
    {
     "data": {
      "text/plain": [
       "'CAR_OWNER_JOIN_NR successfully deleted'"
      ]
     },
     "metadata": {},
     "output_type": "display_data"
    },
    {
     "data": {
      "text/plain": [
       "'WEMFWirtschaftsgebiet successfully deleted'"
      ]
     },
     "metadata": {},
     "output_type": "display_data"
    },
    {
     "data": {
      "text/plain": [
       "'PERSON_STREET successfully deleted'"
      ]
     },
     "metadata": {},
     "output_type": "display_data"
    },
    {
     "data": {
      "text/plain": [
       "'PERSON_ZIP_CODE successfully deleted'"
      ]
     },
     "metadata": {},
     "output_type": "display_data"
    },
    {
     "data": {
      "text/plain": [
       "'PARTNER_STREET successfully deleted'"
      ]
     },
     "metadata": {},
     "output_type": "display_data"
    },
    {
     "data": {
      "text/plain": [
       "'PARTNER_ZIP_CODE successfully deleted'"
      ]
     },
     "metadata": {},
     "output_type": "display_data"
    },
    {
     "data": {
      "text/plain": [
       "'PARTNER_LAT successfully deleted'"
      ]
     },
     "metadata": {},
     "output_type": "display_data"
    },
    {
     "data": {
      "text/plain": [
       "'PARTNER_LNG successfully deleted'"
      ]
     },
     "metadata": {},
     "output_type": "display_data"
    },
    {
     "data": {
      "text/plain": [
       "'PARTNER_ADDRESS successfully deleted'"
      ]
     },
     "metadata": {},
     "output_type": "display_data"
    },
    {
     "data": {
      "text/plain": [
       "'PARTNER_COMPANY_NR successfully deleted'"
      ]
     },
     "metadata": {},
     "output_type": "display_data"
    },
    {
     "data": {
      "text/plain": [
       "'Sprachregion successfully deleted'"
      ]
     },
     "metadata": {},
     "output_type": "display_data"
    },
    {
     "data": {
      "text/plain": [
       "'SUM_INVOICE_AMOUNT_IN_SERVICE successfully deleted'"
      ]
     },
     "metadata": {},
     "output_type": "display_data"
    },
    {
     "data": {
      "text/plain": [
       "'Altersklasse1J successfully deleted'"
      ]
     },
     "metadata": {},
     "output_type": "display_data"
    },
    {
     "data": {
      "text/plain": [
       "'dist_seconds successfully deleted'"
      ]
     },
     "metadata": {},
     "output_type": "display_data"
    },
    {
     "data": {
      "text/plain": [
       "'ACTIVE successfully deleted'"
      ]
     },
     "metadata": {},
     "output_type": "display_data"
    },
    {
     "data": {
      "text/plain": [
       "'KANTON_LICENCE_PLATE successfully deleted'"
      ]
     },
     "metadata": {},
     "output_type": "display_data"
    },
    {
     "data": {
      "text/plain": [
       "'LAST_EVT successfully deleted'"
      ]
     },
     "metadata": {},
     "output_type": "display_data"
    },
    {
     "data": {
      "text/plain": [
       "'FIRST_EVT successfully deleted'"
      ]
     },
     "metadata": {},
     "output_type": "display_data"
    },
    {
     "data": {
      "text/plain": [
       "'EXTERIOR_COLOR_DE successfully deleted'"
      ]
     },
     "metadata": {},
     "output_type": "display_data"
    },
    {
     "data": {
      "text/plain": [
       "'INTERIOR_COLOR_DE successfully deleted'"
      ]
     },
     "metadata": {},
     "output_type": "display_data"
    }
   ],
   "source": [
    "# disable warning\n",
    "pd.set_option('mode.chained_assignment', None)\n",
    "\n",
    "# create pipeline to clean training set with same functions as used / defined in EDA notebook\n",
    "trainSet = (trainSet\n",
    " .pipe(funCleaning.fixDtypes, colsToCat=colsToCat)\n",
    " .pipe(funChurn.funCleanNumericals)\n",
    " .pipe(funCleaning.colsToLog10, colsToLog10=colsToLog10)\n",
    " .pipe(funChurn.funCleanCategoricals)\n",
    " .pipe(funChurn.funCleanStrings)\n",
    " .pipe(funChurn.funCleanMissingStates)\n",
    " .pipe(funCleaning.delCols, colsToDel=colsToDel)\n",
    ");"
   ]
  },
  {
   "cell_type": "code",
   "execution_count": 5,
   "metadata": {},
   "outputs": [
    {
     "name": "stdout",
     "output_type": "stream",
     "text": [
      "<class 'pandas.core.frame.DataFrame'>\n",
      "Int64Index: 41610 entries, 0 to 45421\n",
      "Data columns (total 42 columns):\n",
      "target_event               41610 non-null int64\n",
      "NUM_CONSEC_SERVICES        41610 non-null int64\n",
      "SUM_INVOICE_AMOUNT_log     29776 non-null float64\n",
      "NUM_EVENTS_log             41610 non-null float64\n",
      "LAST_MILEAGE_log           41610 non-null float64\n",
      "MEAN_MILEAGE_PER_MNTH      41610 non-null float64\n",
      "AVG_DIFF_MNTH              41610 non-null int64\n",
      "age_mnth                   41610 non-null int64\n",
      "INSPECTION_INTERVAL_UID    41610 non-null category\n",
      "LIST_PRICE_log             41609 non-null float64\n",
      "END_CUSTOMER_STATUS_UID    41609 non-null category\n",
      "CAR_BRAND_UID              41610 non-null category\n",
      "FUEL_TYPE_UID              41609 non-null category\n",
      "GEAR_TYPE_UID              41609 non-null category\n",
      "WHEEL_DRIVE_UID            41609 non-null category\n",
      "NUMBER_OF_DOORS_UID        40758 non-null category\n",
      "GEAR_COUNT                 41609 non-null category\n",
      "BASE_MARGIN                41610 non-null category\n",
      "SALES_TYPE                 41610 non-null category\n",
      "PERSON_LANGUAGE_UID        41610 non-null category\n",
      "PERSON_STATE               41477 non-null category\n",
      "PERSON_ADRESS_COUNT        41610 non-null category\n",
      "ownerAge                   38765 non-null float64\n",
      "REGION_UID                 41610 non-null category\n",
      "PARTNER_LANGUAGE_UID       41610 non-null category\n",
      "IS_PREFERRED_PARTNER       41610 non-null category\n",
      "IS_DEALER                  41610 non-null category\n",
      "PARTNER_STATE              41610 non-null category\n",
      "PARTNER_CITY               41610 non-null category\n",
      "PARTNER_ADRESS_COUNT       41610 non-null category\n",
      "Haushaltstyp               28112 non-null category\n",
      "Urbanitaet                 28112 non-null category\n",
      "Wohneigentumverhaeltnis    28112 non-null category\n",
      "Haushaltsgroesse           28112 non-null category\n",
      "KaufkraftindexGemeinde     28112 non-null category\n",
      "Fahrzeugtyp                28112 non-null category\n",
      "Haushaltseinkommen         28112 non-null category\n",
      "Fahrzeugklasse             28112 non-null category\n",
      "Lebensphase                28112 non-null category\n",
      "HaushaltsgroesseFein       28112 non-null category\n",
      "Fahrzeugart                28111 non-null category\n",
      "dist_metres_log            41610 non-null float64\n",
      "dtypes: category(31), float64(7), int64(4)\n",
      "memory usage: 5.1 MB\n"
     ]
    }
   ],
   "source": [
    "#check\n",
    "trainSet.info()"
   ]
  },
  {
   "cell_type": "markdown",
   "metadata": {},
   "source": [
    "## Remove NaN and outliers from training set"
   ]
  },
  {
   "cell_type": "code",
   "execution_count": 6,
   "metadata": {},
   "outputs": [
    {
     "data": {
      "text/plain": [
       "'ownerAge - median value to impute: 49.0'"
      ]
     },
     "metadata": {},
     "output_type": "display_data"
    },
    {
     "data": {
      "text/plain": [
       "'SUM_INVOICE_AMOUNT_log - median value to impute: 2.9860772029124125'"
      ]
     },
     "metadata": {},
     "output_type": "display_data"
    },
    {
     "data": {
      "text/plain": [
       "'NUMBER_OF_DOORS_UID - most frequent value to impute: 5.0'"
      ]
     },
     "metadata": {},
     "output_type": "display_data"
    }
   ],
   "source": [
    "# remove NaN\n",
    "colsToImputeNum = ['ownerAge', 'SUM_INVOICE_AMOUNT_log']\n",
    "colsToImputeCat = ['NUMBER_OF_DOORS_UID']\n",
    "colsToDrop = ['Haushaltstyp', 'Urbanitaet', 'Wohneigentumverhaeltnis', 'Haushaltsgroesse', 'KaufkraftindexGemeinde', \n",
    "             'Fahrzeugtyp', 'Haushaltseinkommen', 'Fahrzeugklasse', 'Lebensphase', 'HaushaltsgroesseFein', 'Fahrzeugart']\n",
    "\n",
    "trainSet = funCleaning.nanRemoval(trainSet, dropAll=True, colsToImputeNum=colsToImputeNum, \n",
    "                                  colsToImputeCat=colsToImputeCat, colsToDrop=colsToDrop)\n"
   ]
  },
  {
   "cell_type": "code",
   "execution_count": 7,
   "metadata": {},
   "outputs": [
    {
     "name": "stdout",
     "output_type": "stream",
     "text": [
      "target_event\n",
      "Outliers removed: 0\n",
      "\n",
      "NUM_CONSEC_SERVICES\n",
      "Outliers removed: 376\n",
      "\n",
      "SUM_INVOICE_AMOUNT_log\n",
      "Outliers removed: 3300\n",
      "\n",
      "NUM_EVENTS_log\n",
      "Outliers removed: 9\n",
      "\n",
      "LAST_MILEAGE_log\n",
      "Outliers removed: 598\n",
      "\n",
      "MEAN_MILEAGE_PER_MNTH\n",
      "Outliers removed: 1117\n",
      "\n",
      "AVG_DIFF_MNTH\n",
      "Outliers removed: 867\n",
      "\n",
      "age_mnth\n",
      "Outliers removed: 0\n",
      "\n",
      "LIST_PRICE_log\n",
      "Outliers removed: 175\n",
      "\n",
      "ownerAge\n",
      "Outliers removed: 30\n",
      "\n",
      "dist_metres_log\n",
      "Outliers removed: 317\n",
      "\n"
     ]
    }
   ],
   "source": [
    "# remove Outliers\n",
    "trainSet = funCleaning.outlierRemovalIQR(trainSet, dist=1.5);"
   ]
  },
  {
   "cell_type": "code",
   "execution_count": 8,
   "metadata": {},
   "outputs": [
    {
     "name": "stdout",
     "output_type": "stream",
     "text": [
      "Rows removed: 3\n"
     ]
    }
   ],
   "source": [
    "# remove categorical values that are not found in both sets (to make sure one-hot-encoding returns same set of cols)\n",
    "len1 = len(trainSet)\n",
    "trainSet = trainSet[trainSet['BASE_MARGIN'] != '7.2'] \n",
    "trainSet = trainSet[trainSet['FUEL_TYPE_UID'] != 'Elektro'] \n",
    "trainSet = trainSet[trainSet['FUEL_TYPE_UID'] != 'Plugin Hybrid Benzin']\n",
    "trainSet = trainSet[trainSet['SALES_TYPE'] != 'Praktik']\n",
    "trainSet = trainSet[trainSet['SALES_TYPE'] != 'e-up!']\n",
    "len2 = len(trainSet)\n",
    "print(\"Rows removed: {}\".format(len1-len2))"
   ]
  },
  {
   "cell_type": "code",
   "execution_count": 9,
   "metadata": {},
   "outputs": [
    {
     "name": "stdout",
     "output_type": "stream",
     "text": [
      "<class 'pandas.core.frame.DataFrame'>\n",
      "Int64Index: 34683 entries, 0 to 45419\n",
      "Data columns (total 31 columns):\n",
      "target_event               34683 non-null int64\n",
      "NUM_CONSEC_SERVICES        34683 non-null int64\n",
      "SUM_INVOICE_AMOUNT_log     34683 non-null float64\n",
      "NUM_EVENTS_log             34683 non-null float64\n",
      "LAST_MILEAGE_log           34683 non-null float64\n",
      "MEAN_MILEAGE_PER_MNTH      34683 non-null float64\n",
      "AVG_DIFF_MNTH              34683 non-null int64\n",
      "age_mnth                   34683 non-null int64\n",
      "INSPECTION_INTERVAL_UID    34683 non-null category\n",
      "LIST_PRICE_log             34683 non-null float64\n",
      "END_CUSTOMER_STATUS_UID    34683 non-null category\n",
      "CAR_BRAND_UID              34683 non-null category\n",
      "FUEL_TYPE_UID              34683 non-null category\n",
      "GEAR_TYPE_UID              34683 non-null category\n",
      "WHEEL_DRIVE_UID            34683 non-null category\n",
      "NUMBER_OF_DOORS_UID        34683 non-null category\n",
      "GEAR_COUNT                 34683 non-null category\n",
      "BASE_MARGIN                34683 non-null category\n",
      "SALES_TYPE                 34683 non-null category\n",
      "PERSON_LANGUAGE_UID        34683 non-null category\n",
      "PERSON_STATE               34683 non-null category\n",
      "PERSON_ADRESS_COUNT        34683 non-null category\n",
      "ownerAge                   34683 non-null float64\n",
      "REGION_UID                 34683 non-null category\n",
      "PARTNER_LANGUAGE_UID       34683 non-null category\n",
      "IS_PREFERRED_PARTNER       34683 non-null category\n",
      "IS_DEALER                  34683 non-null category\n",
      "PARTNER_STATE              34683 non-null category\n",
      "PARTNER_CITY               34683 non-null category\n",
      "PARTNER_ADRESS_COUNT       34683 non-null category\n",
      "dist_metres_log            34683 non-null float64\n",
      "dtypes: category(20), float64(7), int64(4)\n",
      "memory usage: 3.8 MB\n"
     ]
    }
   ],
   "source": [
    "#check\n",
    "trainSet.info()"
   ]
  },
  {
   "cell_type": "markdown",
   "metadata": {},
   "source": [
    "## Separate predictors from labels"
   ]
  },
  {
   "cell_type": "code",
   "execution_count": 10,
   "metadata": {},
   "outputs": [],
   "source": [
    "train = trainSet.drop('target_event', axis=1)  # note: .drop() creates a copy and does not affect trainSet\n",
    "trainLabels = trainSet['target_event'].copy()"
   ]
  },
  {
   "cell_type": "markdown",
   "metadata": {},
   "source": [
    "## Perform Preprocessing with Scikit-Learn Pipeline"
   ]
  },
  {
   "cell_type": "code",
   "execution_count": 11,
   "metadata": {},
   "outputs": [],
   "source": [
    "df = train\n",
    "numCols = list(df.select_dtypes(include = ['float64', 'int64']).columns)\n",
    "catCols = list(df.select_dtypes(include = 'category').columns)\n",
    "\n",
    "# make sure every value in all of the two column groups is of the same dtype for the encoding\n",
    "for col in numCols:\n",
    "    df[col] = df[col].astype(float) \n",
    "for col in catCols:\n",
    "    df[col] = df[col].astype(str)\n",
    "\n",
    "# pipeline for standardization and one-hot-encoding\n",
    "fullPipeline = ColumnTransformer([\n",
    "        ('std_scaler', StandardScaler(), numCols),\n",
    "        ('encoder', OneHotEncoder(), catCols),\n",
    "    ])\n",
    "\n",
    "train_prepared = fullPipeline.fit_transform(df)"
   ]
  },
  {
   "cell_type": "code",
   "execution_count": 12,
   "metadata": {},
   "outputs": [
    {
     "data": {
      "text/plain": [
       "<34683x228 sparse matrix of type '<class 'numpy.float64'>'\n",
       "\twith 1040490 stored elements in Compressed Sparse Row format>"
      ]
     },
     "execution_count": 12,
     "metadata": {},
     "output_type": "execute_result"
    }
   ],
   "source": [
    "# check\n",
    "train_prepared"
   ]
  },
  {
   "cell_type": "markdown",
   "metadata": {},
   "source": [
    "## Test promising models\n",
    "\n",
    "\n",
    "Train different models 'quick and dirty' and validate with stratified k-fold cross validation. Models are:\n",
    "- LogisticRegression \n",
    "- GaussianNB (Naïve Bayes) \n",
    "- KNeighborsClassifier \n",
    "- SVC \n",
    "- RandomForestClassifier \n",
    "- XGBClassifier"
   ]
  },
  {
   "cell_type": "code",
   "execution_count": 13,
   "metadata": {},
   "outputs": [],
   "source": [
    "# initialize the defined models\n",
    "classifiers = [\n",
    "    LogisticRegression(solver='liblinear'),\n",
    "    KNeighborsClassifier(3), # testscore of 76% with n=5, 74% with n=1\n",
    "    SVC(gamma='auto'), # parameter \"probability=True\" will only be set for final run to speed things up\n",
    "    GaussianNB(),\n",
    "    RandomForestClassifier(n_estimators=10),\n",
    "    GradientBoostingClassifier(n_estimators=100),\n",
    "    ]"
   ]
  },
  {
   "cell_type": "code",
   "execution_count": 15,
   "metadata": {},
   "outputs": [
    {
     "name": "stderr",
     "output_type": "stream",
     "text": [
      "100%|████████████████████████████████████████████████████████████████████████████████████| 6/6 [06:14<00:00, 44.32s/it]\n"
     ]
    }
   ],
   "source": [
    "# for each model, fit to train set and validate with stratified 5-fold cross validation, store results in a nested dict\n",
    "# cross_validate returns a dict with 'fit_time', 'score_time', 'test_score' for each run and each model\n",
    "results = {}\n",
    "for clf in tqdm(classifiers):\n",
    "    try:\n",
    "        clfName = clf.__class__.__name__\n",
    "        scores = cross_validate(clf, train_prepared, trainLabels, cv=StratifiedKFold(5), error_score='raise', n_jobs=-1,\n",
    "                                scoring=make_scorer(fbeta_score, beta=0.5), return_train_score=False, return_estimator=True)\n",
    "    except:  # exception for classifiers that need an array as input (GaussianNB)\n",
    "        clfName = clf.__class__.__name__ \n",
    "        scores = cross_validate(GaussianNB(), train_prepared.toarray(), trainLabels, cv=StratifiedKFold(5), n_jobs=-1,\n",
    "                        scoring=make_scorer(fbeta_score, beta=0.5), return_train_score=False, return_estimator=True)\n",
    "    results[clfName] = scores"
   ]
  },
  {
   "cell_type": "code",
   "execution_count": 16,
   "metadata": {},
   "outputs": [],
   "source": [
    "# define and call a function for storage of cv results in df 'longlistResults'\n",
    "def cvResultsDF(cvDict):\n",
    "    \"\"\"Store results of CV in Dataframe, including columns for 95% confidence interval for test score and mean test score.\"\"\"\n",
    "    df = pd.DataFrame(cvDict).transpose()\n",
    "    df['95_conf'] = df['test_score'].apply(lambda x: np.std(x) * 2)\n",
    "    for col in df.iloc[:,1:]:\n",
    "        df[col] = df[col].apply(lambda x: np.mean(x))\n",
    "    df['total_time'] = df['score_time'] + df['fit_time']\n",
    "    return df\n",
    "\n",
    "longlistResults = cvResultsDF(results)"
   ]
  },
  {
   "cell_type": "code",
   "execution_count": 17,
   "metadata": {},
   "outputs": [
    {
     "data": {
      "text/html": [
       "<div>\n",
       "<style scoped>\n",
       "    .dataframe tbody tr th:only-of-type {\n",
       "        vertical-align: middle;\n",
       "    }\n",
       "\n",
       "    .dataframe tbody tr th {\n",
       "        vertical-align: top;\n",
       "    }\n",
       "\n",
       "    .dataframe thead th {\n",
       "        text-align: right;\n",
       "    }\n",
       "</style>\n",
       "<table border=\"1\" class=\"dataframe\">\n",
       "  <thead>\n",
       "    <tr style=\"text-align: right;\">\n",
       "      <th></th>\n",
       "      <th>estimator</th>\n",
       "      <th>fit_time</th>\n",
       "      <th>score_time</th>\n",
       "      <th>test_score</th>\n",
       "      <th>95_conf</th>\n",
       "      <th>total_time</th>\n",
       "    </tr>\n",
       "  </thead>\n",
       "  <tbody>\n",
       "    <tr>\n",
       "      <th>LogisticRegression</th>\n",
       "      <td>(LogisticRegression(C=1.0, class_weight=None, ...</td>\n",
       "      <td>1.715612</td>\n",
       "      <td>0.003789</td>\n",
       "      <td>0.611634</td>\n",
       "      <td>0.020907</td>\n",
       "      <td>1.719401</td>\n",
       "    </tr>\n",
       "    <tr>\n",
       "      <th>KNeighborsClassifier</th>\n",
       "      <td>(KNeighborsClassifier(algorithm='auto', leaf_s...</td>\n",
       "      <td>0.040095</td>\n",
       "      <td>28.037824</td>\n",
       "      <td>0.431704</td>\n",
       "      <td>0.016418</td>\n",
       "      <td>28.077919</td>\n",
       "    </tr>\n",
       "    <tr>\n",
       "      <th>SVC</th>\n",
       "      <td>(SVC(C=1.0, cache_size=200, class_weight=None,...</td>\n",
       "      <td>133.330278</td>\n",
       "      <td>26.769424</td>\n",
       "      <td>0.664437</td>\n",
       "      <td>0.015328</td>\n",
       "      <td>160.099702</td>\n",
       "    </tr>\n",
       "    <tr>\n",
       "      <th>GaussianNB</th>\n",
       "      <td>(GaussianNB(priors=None, var_smoothing=1e-09),...</td>\n",
       "      <td>0.403121</td>\n",
       "      <td>0.072207</td>\n",
       "      <td>0.422598</td>\n",
       "      <td>0.016923</td>\n",
       "      <td>0.475328</td>\n",
       "    </tr>\n",
       "    <tr>\n",
       "      <th>RandomForestClassifier</th>\n",
       "      <td>((DecisionTreeClassifier(class_weight=None, cr...</td>\n",
       "      <td>6.539465</td>\n",
       "      <td>0.058248</td>\n",
       "      <td>0.473039</td>\n",
       "      <td>0.023664</td>\n",
       "      <td>6.597713</td>\n",
       "    </tr>\n",
       "    <tr>\n",
       "      <th>GradientBoostingClassifier</th>\n",
       "      <td>(([DecisionTreeRegressor(criterion='friedman_m...</td>\n",
       "      <td>15.438517</td>\n",
       "      <td>0.040891</td>\n",
       "      <td>0.637082</td>\n",
       "      <td>0.015782</td>\n",
       "      <td>15.479408</td>\n",
       "    </tr>\n",
       "  </tbody>\n",
       "</table>\n",
       "</div>"
      ],
      "text/plain": [
       "                                                                    estimator  \\\n",
       "LogisticRegression          (LogisticRegression(C=1.0, class_weight=None, ...   \n",
       "KNeighborsClassifier        (KNeighborsClassifier(algorithm='auto', leaf_s...   \n",
       "SVC                         (SVC(C=1.0, cache_size=200, class_weight=None,...   \n",
       "GaussianNB                  (GaussianNB(priors=None, var_smoothing=1e-09),...   \n",
       "RandomForestClassifier      ((DecisionTreeClassifier(class_weight=None, cr...   \n",
       "GradientBoostingClassifier  (([DecisionTreeRegressor(criterion='friedman_m...   \n",
       "\n",
       "                              fit_time  score_time  test_score   95_conf  \\\n",
       "LogisticRegression            1.715612    0.003789    0.611634  0.020907   \n",
       "KNeighborsClassifier          0.040095   28.037824    0.431704  0.016418   \n",
       "SVC                         133.330278   26.769424    0.664437  0.015328   \n",
       "GaussianNB                    0.403121    0.072207    0.422598  0.016923   \n",
       "RandomForestClassifier        6.539465    0.058248    0.473039  0.023664   \n",
       "GradientBoostingClassifier   15.438517    0.040891    0.637082  0.015782   \n",
       "\n",
       "                            total_time  \n",
       "LogisticRegression            1.719401  \n",
       "KNeighborsClassifier         28.077919  \n",
       "SVC                         160.099702  \n",
       "GaussianNB                    0.475328  \n",
       "RandomForestClassifier        6.597713  \n",
       "GradientBoostingClassifier   15.479408  "
      ]
     },
     "execution_count": 17,
     "metadata": {},
     "output_type": "execute_result"
    }
   ],
   "source": [
    "#check the results\n",
    "longlistResults"
   ]
  },
  {
   "cell_type": "code",
   "execution_count": 18,
   "metadata": {},
   "outputs": [
    {
     "data": {
      "image/png": "[encoded data removed]",
      "text/plain": [
       "<Figure size 1296x432 with 2 Axes>"
      ]
     },
     "metadata": {
      "needs_background": "light"
     },
     "output_type": "display_data"
    }
   ],
   "source": [
    "# define and call a function for plotting a comparision of F-beta scores and run times\n",
    "def cvResultsPlot(resultsDF):\n",
    "    \"\"\"Generates a plot of the test scores and run times for CV of different models.\"\"\"\n",
    "    data = resultsDF.sort_values(by='test_score', ascending=False)\n",
    "    plt.figure(figsize=(18,6));\n",
    "    plt.subplot(1,2,1)\n",
    "    # plot the mean test scores\n",
    "    sns.barplot(x='test_score', y=data.index, data=data, color=\"rebeccapurple\")\n",
    "    plt.xlabel(\"F-beta score (beta=0.5)\");\n",
    "    plt.subplot(1,2,2)\n",
    "    # Plot the mean total time\n",
    "    sns.set_color_codes(\"pastel\")\n",
    "    sns.barplot(x=\"total_time\", y=data.index, data=data,\n",
    "        label=\"Total\", color=\"rebeccapurple\")\n",
    "    # Plot the mean fit time\n",
    "    sns.set_color_codes(\"muted\")\n",
    "    sns.barplot(x='fit_time', y=data.index, data=data,\n",
    "        label=\"Fit\", color=\"yellow\")\n",
    "    plt.xlabel(\"Time for fitting (yellow) and scoring (purple)\");\n",
    "    \n",
    "cvResultsPlot(longlistResults)"
   ]
  },
  {
   "cell_type": "markdown",
   "metadata": {},
   "source": [
    "**Conclusions:**\n",
    "\n",
    "- Three top models are SVC (unfortunately the slowest model by far), LogReg and XGB. They make it on the shortlist and will be finetuned further.\n",
    "- Before Grid Search / Random Search is applied on them I will first look at feature importances and check if it makes sense to reduce dimensionality with help of PCA."
   ]
  },
  {
   "cell_type": "code",
   "execution_count": 19,
   "metadata": {},
   "outputs": [],
   "source": [
    "# create shortlist of top-performing models for further tuning\n",
    "shortlist = [\n",
    "    LogisticRegression(solver='liblinear'),\n",
    "    SVC(gamma='auto'),\n",
    "    GradientBoostingClassifier(n_estimators=100),\n",
    "    ]"
   ]
  },
  {
   "cell_type": "markdown",
   "metadata": {},
   "source": [
    "## Foray: Inspect feature importance (explored with XGB classifier)"
   ]
  },
  {
   "cell_type": "code",
   "execution_count": 20,
   "metadata": {},
   "outputs": [
    {
     "name": "stdout",
     "output_type": "stream",
     "text": [
      "[6.13829655e-02 1.94392442e-02 8.27706889e-02 4.65266862e-02\n",
      " 7.30474014e-02 4.57067894e-02 4.59200195e-01 4.00265002e-03\n",
      " 2.22766169e-02 9.67057435e-02 5.86296841e-03 4.83399591e-03\n",
      " 0.00000000e+00 0.00000000e+00 0.00000000e+00 0.00000000e+00\n",
      " 5.16562162e-02 0.00000000e+00 1.73169957e-04 0.00000000e+00\n",
      " 0.00000000e+00 0.00000000e+00 0.00000000e+00 0.00000000e+00\n",
      " 0.00000000e+00 0.00000000e+00 0.00000000e+00 0.00000000e+00\n",
      " 0.00000000e+00 0.00000000e+00 0.00000000e+00 0.00000000e+00\n",
      " 4.13270340e-04 0.00000000e+00 0.00000000e+00 0.00000000e+00\n",
      " 0.00000000e+00 0.00000000e+00 0.00000000e+00 0.00000000e+00\n",
      " 0.00000000e+00 0.00000000e+00 0.00000000e+00 2.44096553e-03\n",
      " 0.00000000e+00 0.00000000e+00 0.00000000e+00 0.00000000e+00\n",
      " 0.00000000e+00 0.00000000e+00 0.00000000e+00 0.00000000e+00\n",
      " 0.00000000e+00 0.00000000e+00 0.00000000e+00 0.00000000e+00\n",
      " 0.00000000e+00 0.00000000e+00 0.00000000e+00 0.00000000e+00\n",
      " 0.00000000e+00 0.00000000e+00 0.00000000e+00 0.00000000e+00\n",
      " 0.00000000e+00 0.00000000e+00 0.00000000e+00 0.00000000e+00\n",
      " 0.00000000e+00 0.00000000e+00 0.00000000e+00 0.00000000e+00\n",
      " 0.00000000e+00 0.00000000e+00 0.00000000e+00 0.00000000e+00\n",
      " 0.00000000e+00 0.00000000e+00 0.00000000e+00 0.00000000e+00\n",
      " 0.00000000e+00 0.00000000e+00 0.00000000e+00 0.00000000e+00\n",
      " 1.78444381e-04 0.00000000e+00 0.00000000e+00 0.00000000e+00\n",
      " 0.00000000e+00 0.00000000e+00 0.00000000e+00 0.00000000e+00\n",
      " 0.00000000e+00 0.00000000e+00 0.00000000e+00 0.00000000e+00\n",
      " 0.00000000e+00 0.00000000e+00 0.00000000e+00 0.00000000e+00\n",
      " 7.66220868e-05 0.00000000e+00 5.24608962e-04 0.00000000e+00\n",
      " 0.00000000e+00 0.00000000e+00 0.00000000e+00 0.00000000e+00\n",
      " 1.08263681e-03 0.00000000e+00 0.00000000e+00 0.00000000e+00\n",
      " 0.00000000e+00 0.00000000e+00 0.00000000e+00 0.00000000e+00\n",
      " 0.00000000e+00 5.13571363e-04 0.00000000e+00 0.00000000e+00\n",
      " 0.00000000e+00 3.71632728e-05 0.00000000e+00 0.00000000e+00\n",
      " 0.00000000e+00 0.00000000e+00 0.00000000e+00 0.00000000e+00\n",
      " 2.55003449e-03 0.00000000e+00 2.24234171e-04 8.85543310e-03\n",
      " 1.17239509e-03 0.00000000e+00 0.00000000e+00 0.00000000e+00\n",
      " 0.00000000e+00 0.00000000e+00 1.32703968e-03 0.00000000e+00\n",
      " 0.00000000e+00 0.00000000e+00 0.00000000e+00 0.00000000e+00\n",
      " 4.48939790e-03 9.60655026e-04 0.00000000e+00 0.00000000e+00\n",
      " 0.00000000e+00 0.00000000e+00 0.00000000e+00 0.00000000e+00\n",
      " 6.43444944e-04 0.00000000e+00 0.00000000e+00 0.00000000e+00\n",
      " 0.00000000e+00 0.00000000e+00 0.00000000e+00 0.00000000e+00\n",
      " 0.00000000e+00 0.00000000e+00 0.00000000e+00 0.00000000e+00\n",
      " 0.00000000e+00 0.00000000e+00 0.00000000e+00 1.39264270e-04\n",
      " 0.00000000e+00 0.00000000e+00 0.00000000e+00 0.00000000e+00\n",
      " 0.00000000e+00 0.00000000e+00 0.00000000e+00 0.00000000e+00\n",
      " 0.00000000e+00 0.00000000e+00 0.00000000e+00 1.71528083e-04\n",
      " 2.27971498e-05 0.00000000e+00 0.00000000e+00 0.00000000e+00\n",
      " 0.00000000e+00 0.00000000e+00 0.00000000e+00 1.30307916e-04\n",
      " 0.00000000e+00 0.00000000e+00 0.00000000e+00 0.00000000e+00\n",
      " 0.00000000e+00 0.00000000e+00 0.00000000e+00 0.00000000e+00\n",
      " 0.00000000e+00 0.00000000e+00 0.00000000e+00 0.00000000e+00\n",
      " 0.00000000e+00 2.18930504e-05 0.00000000e+00 0.00000000e+00\n",
      " 0.00000000e+00 0.00000000e+00 0.00000000e+00 0.00000000e+00\n",
      " 0.00000000e+00 0.00000000e+00 0.00000000e+00 0.00000000e+00\n",
      " 0.00000000e+00 0.00000000e+00 0.00000000e+00 0.00000000e+00\n",
      " 0.00000000e+00 0.00000000e+00 0.00000000e+00 0.00000000e+00\n",
      " 0.00000000e+00 0.00000000e+00 0.00000000e+00 0.00000000e+00\n",
      " 0.00000000e+00 0.00000000e+00 4.38961231e-04 0.00000000e+00]\n"
     ]
    }
   ],
   "source": [
    "# fit XGB to training data and print feature importances\n",
    "xgb = GradientBoostingClassifier(n_estimators=100)\n",
    "xgb.fit(train_prepared, trainLabels)\n",
    "xgbImportances = xgb.feature_importances_\n",
    "print(xgbImportances)"
   ]
  },
  {
   "cell_type": "code",
   "execution_count": 21,
   "metadata": {},
   "outputs": [
    {
     "data": {
      "text/plain": [
       "[(0.45920019452283983, 'age_mnth'),\n",
       " (0.0967057434588171, 'dist_metres_log'),\n",
       " (0.08277068893194821, 'NUM_EVENTS_log'),\n",
       " (0.07304740141774109, 'MEAN_MILEAGE_PER_MNTH'),\n",
       " (0.06138296549417755, 'NUM_CONSEC_SERVICES'),\n",
       " (0.051656216230343686, 'Audi'),\n",
       " (0.04652668624357261, 'LAST_MILEAGE_log'),\n",
       " (0.045706789419792754, 'AVG_DIFF_MNTH'),\n",
       " (0.022276616896176448, 'ownerAge'),\n",
       " (0.019439244247159895, 'SUM_INVOICE_AMOUNT_log'),\n",
       " (0.008855433101804581, '1.0'),\n",
       " (0.005862968411627684, '12 Monate'),\n",
       " (0.004833995907160692, '24 Monate'),\n",
       " (0.004489397903635078, 'Deutsch'),\n",
       " (0.004002650015473978, 'LIST_PRICE_log'),\n",
       " (0.0025500344868605346, 'VS'),\n",
       " (0.002440965529902134, '7.0'),\n",
       " (0.0013270396780085804, 'Genferseeregion'),\n",
       " (0.0011723950918735141, '2.0'),\n",
       " (0.0010826368064935433, 'BL'),\n",
       " (0.0009606550255023113, 'Französisch'),\n",
       " (0.0006434449444737269, 'BE'),\n",
       " (0.0005246089616827008, 'Französisch'),\n",
       " (0.0005135713633729163, 'NE'),\n",
       " (0.00043896123143639297, '3'),\n",
       " (0.00041327034027587706, '3.0'),\n",
       " (0.00022423417084305557, 'ZH'),\n",
       " (0.0001784443809579482, 'S3'),\n",
       " (0.00017316995708130877, 'SKODA'),\n",
       " (0.00017152808311638243, 'Crissier'),\n",
       " (0.00013926426972983802, 'Altstetten'),\n",
       " (0.00013030791616021982, 'Giubiasco'),\n",
       " (7.662208684592151e-05, 'up!'),\n",
       " (3.7163272849485935e-05, 'SH'),\n",
       " (2.2797149845371502e-05, 'Davos Platz'),\n",
       " (2.1893050417171803e-05, 'Oftringen'),\n",
       " (0.0, 'Zürich-Uto'),\n",
       " (0.0, 'Zürich-Skoda'),\n",
       " (0.0, 'Zürich'),\n",
       " (0.0, 'Zuchwil'),\n",
       " (0.0, 'Zentralschweiz'),\n",
       " (0.0, 'ZH'),\n",
       " (0.0, 'ZG'),\n",
       " (0.0, 'ZG'),\n",
       " (0.0, 'Yeti'),\n",
       " (0.0, 'Winterthur'),\n",
       " (0.0, 'Weinfelden'),\n",
       " (0.0, 'Volketswil'),\n",
       " (0.0, 'Vevey 1'),\n",
       " (0.0, 'Vernier'),\n",
       " (0.0, 'Vaduz'),\n",
       " (0.0, 'VW-PW'),\n",
       " (0.0, 'VW-NF'),\n",
       " (0.0, 'VD'),\n",
       " (0.0, 'VD'),\n",
       " (0.0, 'Uster-NF'),\n",
       " (0.0, 'Uster'),\n",
       " (0.0, 'UR'),\n",
       " (0.0, 'Touran'),\n",
       " (0.0, 'Touareg'),\n",
       " (0.0, 'Toledo'),\n",
       " (0.0, 'Tiguan'),\n",
       " (0.0, 'Thun'),\n",
       " (0.0, 'Tessin'),\n",
       " (0.0, 'TT'),\n",
       " (0.0, 'TI'),\n",
       " (0.0, 'TI'),\n",
       " (0.0, 'TG'),\n",
       " (0.0, 'TG'),\n",
       " (0.0, 'T5'),\n",
       " (0.0, 'Sursee'),\n",
       " (0.0, 'Superb'),\n",
       " (0.0, 'St-Légier-La Chiésaz'),\n",
       " (0.0, 'Sorengo'),\n",
       " (0.0, 'Sharan'),\n",
       " (0.0, 'Scirocco'),\n",
       " (0.0, 'Schlieren'),\n",
       " (0.0, 'Schinznach Bad'),\n",
       " (0.0, 'Schaltgetriebe'),\n",
       " (0.0, 'Schaffhausen'),\n",
       " (0.0, 'SZ'),\n",
       " (0.0, 'SQ5'),\n",
       " (0.0, 'SO'),\n",
       " (0.0, 'SO'),\n",
       " (0.0, 'SH'),\n",
       " (0.0, 'SG'),\n",
       " (0.0, 'SG'),\n",
       " (0.0, 'SEAT'),\n",
       " (0.0, 'S7'),\n",
       " (0.0, 'S6'),\n",
       " (0.0, 'S5'),\n",
       " (0.0, 'S4'),\n",
       " (0.0, 'S1'),\n",
       " (0.0, 'Roomster'),\n",
       " (0.0, 'Rolle'),\n",
       " (0.0, 'Rapid'),\n",
       " (0.0, 'Rain'),\n",
       " (0.0, 'RS5'),\n",
       " (0.0, 'RS4'),\n",
       " (0.0, 'RS3'),\n",
       " (0.0, 'RS'),\n",
       " (0.0, 'Q7'),\n",
       " (0.0, 'Q5'),\n",
       " (0.0, 'Q3'),\n",
       " (0.0, 'Prangins'),\n",
       " (0.0, 'Polo'),\n",
       " (0.0, 'Phaeton'),\n",
       " (0.0, 'Petit-Lancy'),\n",
       " (0.0, 'Passat'),\n",
       " (0.0, 'Ostschweiz'),\n",
       " (0.0, 'Octavia'),\n",
       " (0.0, 'OW'),\n",
       " (0.0, 'Noville'),\n",
       " (0.0, 'Nordwestschweiz'),\n",
       " (0.0, 'NW'),\n",
       " (0.0, 'Murten'),\n",
       " (0.0, 'Mii'),\n",
       " (0.0, 'Mendrisio'),\n",
       " (0.0, 'Lugano 4 Molino Nuovo Casel'),\n",
       " (0.0, 'Leon'),\n",
       " (0.0, 'Lausanne'),\n",
       " (0.0, 'LU'),\n",
       " (0.0, 'LU'),\n",
       " (0.0, 'Kriens'),\n",
       " (0.0, 'Kreuzlingen'),\n",
       " (0.0, 'Kloten'),\n",
       " (0.0, 'Jona'),\n",
       " (0.0, 'Jetta'),\n",
       " (0.0, 'JU'),\n",
       " (0.0, 'Italienisch'),\n",
       " (0.0, 'Italienisch'),\n",
       " (0.0, 'Ibiza'),\n",
       " (0.0, 'Horgen'),\n",
       " (0.0, 'Heerbrugg'),\n",
       " (0.0, 'Heckantrieb'),\n",
       " (0.0, 'Gümligen'),\n",
       " (0.0, 'Grenchen'),\n",
       " (0.0, 'Golf'),\n",
       " (0.0, 'Gas / Benzin'),\n",
       " (0.0, 'Gas'),\n",
       " (0.0, 'GR'),\n",
       " (0.0, 'GR'),\n",
       " (0.0, 'GL'),\n",
       " (0.0, 'GE'),\n",
       " (0.0, 'GE'),\n",
       " (0.0, 'Frontantrieb'),\n",
       " (0.0, 'Fribourg'),\n",
       " (0.0, 'Frauenfeld'),\n",
       " (0.0, 'Fox'),\n",
       " (0.0, 'Fabia'),\n",
       " (0.0, 'FR'),\n",
       " (0.0, 'FR'),\n",
       " (0.0, 'FL'),\n",
       " (0.0, 'FL'),\n",
       " (0.0, 'Exeo'),\n",
       " (0.0, 'Espace Mittelland'),\n",
       " (0.0, 'Eos'),\n",
       " (0.0, 'Emmen'),\n",
       " (0.0, 'Ebikon'),\n",
       " (0.0, 'Dübendorf'),\n",
       " (0.0, 'Dulliken'),\n",
       " (0.0, 'Diesel'),\n",
       " (0.0, 'Deutsch'),\n",
       " (0.0, 'Crafter'),\n",
       " (0.0, 'Coldrerio'),\n",
       " (0.0, 'Citigo'),\n",
       " (0.0, 'Châtelaine'),\n",
       " (0.0, 'Chur'),\n",
       " (0.0, 'Cham'),\n",
       " (0.0, 'Carouge'),\n",
       " (0.0, 'Caddy'),\n",
       " (0.0, 'CC'),\n",
       " (0.0, 'Buchs SG 1'),\n",
       " (0.0, 'Brügg'),\n",
       " (0.0, 'Breganzona'),\n",
       " (0.0, 'Bern'),\n",
       " (0.0, 'Benzin / Gas'),\n",
       " (0.0, 'Benzin'),\n",
       " (0.0, 'Bellinzona'),\n",
       " (0.0, 'Beetle'),\n",
       " (0.0, 'Bachenbülach'),\n",
       " (0.0, 'BS'),\n",
       " (0.0, 'BE'),\n",
       " (0.0, 'Automat'),\n",
       " (0.0, 'Ausland'),\n",
       " (0.0, 'Amarok'),\n",
       " (0.0, 'Altea'),\n",
       " (0.0, 'Allradantrieb'),\n",
       " (0.0, 'Alhambra'),\n",
       " (0.0, 'Aarau'),\n",
       " (0.0, 'AR'),\n",
       " (0.0, 'AI'),\n",
       " (0.0, 'AG'),\n",
       " (0.0, 'AG'),\n",
       " (0.0, 'A8'),\n",
       " (0.0, 'A7'),\n",
       " (0.0, 'A6'),\n",
       " (0.0, 'A5'),\n",
       " (0.0, 'A4'),\n",
       " (0.0, 'A3'),\n",
       " (0.0, 'A1'),\n",
       " (0.0, '9.0'),\n",
       " (0.0, '8.0'),\n",
       " (0.0, '8.0'),\n",
       " (0.0, '7.0'),\n",
       " (0.0, '6.0'),\n",
       " (0.0, '53 Privat Grossflottenfirma'),\n",
       " (0.0, '52 Privat Kleinflottenfirma'),\n",
       " (0.0, '5.0'),\n",
       " (0.0, '5.0'),\n",
       " (0.0, '5.0'),\n",
       " (0.0, '4.0'),\n",
       " (0.0, '4.0'),\n",
       " (0.0, '4'),\n",
       " (0.0, '3.0'),\n",
       " (0.0, '26 KMU Privatkunde'),\n",
       " (0.0, '2.0'),\n",
       " (0.0, '2'),\n",
       " (0.0, '12.0'),\n",
       " (0.0, '11.25'),\n",
       " (0.0, '11.2'),\n",
       " (0.0, '10.0'),\n",
       " (0.0, '1'),\n",
       " (0.0, '1'),\n",
       " (0.0, '1'),\n",
       " (0.0, '03 Privatkunde'),\n",
       " (0.0, '0'),\n",
       " (0.0, '0')]"
      ]
     },
     "execution_count": 21,
     "metadata": {},
     "output_type": "execute_result"
    }
   ],
   "source": [
    "# reconstruct feature names (numCols) & one-hot-encoded-attribute names (catCols) for dimensions in training_prepared\n",
    "encoder = fullPipeline.named_transformers_['encoder']\n",
    "oneHotAttribs = []\n",
    "for sublist in list(encoder.categories_):\n",
    "    for item in sublist:\n",
    "        oneHotAttribs.append(item)\n",
    "attribs = numCols + oneHotAttribs\n",
    "# zip names and importances, print list of tuples\n",
    "featureImportances = (sorted(zip(xgbImportances, attribs), reverse=True))\n",
    "featureImportances"
   ]
  },
  {
   "cell_type": "code",
   "execution_count": 22,
   "metadata": {},
   "outputs": [
    {
     "name": "stdout",
     "output_type": "stream",
     "text": [
      "Features / Attributes total: 228\n",
      "Features / Attributes with weight > 0: 36\n",
      "Features / Attributes with weight > 0.001: 20\n",
      "Features / Attributes with weight > 0.005: 12\n"
     ]
    }
   ],
   "source": [
    "# extract weights from tuples by flattening the list of tuples\n",
    "weights = np.array([x[0] for x in featureImportances])\n",
    "# print number of features / attributes for given threshold\n",
    "print(\"Features / Attributes total: {}\".format(len(weights)))\n",
    "print(\"Features / Attributes with weight > 0: {}\".format(len(weights[weights > 0])))\n",
    "print(\"Features / Attributes with weight > 0.001: {}\".format(len(weights[weights > 0.001])))\n",
    "print(\"Features / Attributes with weight > 0.005: {}\".format(len(weights[weights > 0.005])))"
   ]
  },
  {
   "cell_type": "code",
   "execution_count": 23,
   "metadata": {},
   "outputs": [
    {
     "data": {
      "image/png": "[encoded data removed]",
      "text/plain": [
       "<Figure size 1152x360 with 1 Axes>"
      ]
     },
     "metadata": {
      "needs_background": "light"
     },
     "output_type": "display_data"
    }
   ],
   "source": [
    "# create dataframe of featureImportances and \n",
    "dfPlot = pd.DataFrame(featureImportances)\n",
    "dfPlot = dfPlot[dfPlot[0] > 0.005]    \n",
    "# plot features / attributes with biggest weight\n",
    "fig = plt.figure(figsize = (16,5))\n",
    "plt.bar(np.arange(len(dfPlot)), dfPlot[0], width = 0.6, align=\"center\", color = 'yellow', \\\n",
    "      label = \"Feature / Attribute Weight\")\n",
    "plt.bar(np.arange(len(dfPlot)) - 0.3, np.cumsum(dfPlot[0]), width = 0.2, align = \"center\", color = 'rebeccapurple', \\\n",
    "      label = \"Cumulative Feature Weight\")\n",
    "# styling\n",
    "plt.title(\"Normalized Weights for Predictive Features / Attributes with Weight > 0.005\", fontsize = 12)\n",
    "plt.ylabel(\"Weights\", fontsize = 12)\n",
    "plt.xlabel(\"Features / Attributes\", fontsize = 12)\n",
    "plt.xticks(np.arange(len(dfPlot)), dfPlot[1], rotation=90)\n",
    "plt.legend(loc = 'upper left');"
   ]
  },
  {
   "cell_type": "markdown",
   "metadata": {},
   "source": [
    "**Observations:**\n",
    "- No suprises here, this is about what was to expect after the EDA. But it is intersting to see how much the numeric features dominate this list of high feature weights (9 out of the top 12)."
   ]
  },
  {
   "cell_type": "markdown",
   "metadata": {},
   "source": [
    "### Experiment with feature selection"
   ]
  },
  {
   "cell_type": "code",
   "execution_count": 25,
   "metadata": {},
   "outputs": [
    {
     "name": "stderr",
     "output_type": "stream",
     "text": [
      "100%|████████████████████████████████████████████████████████████████████████████████████| 3/3 [03:21<00:00, 54.86s/it]\n"
     ]
    }
   ],
   "source": [
    "# validate performance of shortlisted models for reduced training set (with given threshold for feature importance)\n",
    "threshold = 0.01\n",
    "\n",
    "shortlistResults = {}\n",
    "for clf in tqdm(shortlist):\n",
    "    clfName = clf.__class__.__name__\n",
    "   \n",
    "    shortPipeline = Pipeline([\n",
    "      ('feature_selection', SelectFromModel(xgb, threshold=threshold)),\n",
    "      ('classification', clf)\n",
    "    ])\n",
    " \n",
    "    scores = cross_validate(shortPipeline, train_prepared, trainLabels, cv=StratifiedKFold(5), n_jobs=-1,\n",
    "                                     scoring=make_scorer(fbeta_score, beta=0.5), return_train_score=False, return_estimator=True)\n",
    "    shortlistResults[clfName] = scores"
   ]
  },
  {
   "cell_type": "code",
   "execution_count": 26,
   "metadata": {},
   "outputs": [
    {
     "data": {
      "text/html": [
       "<div>\n",
       "<style scoped>\n",
       "    .dataframe tbody tr th:only-of-type {\n",
       "        vertical-align: middle;\n",
       "    }\n",
       "\n",
       "    .dataframe tbody tr th {\n",
       "        vertical-align: top;\n",
       "    }\n",
       "\n",
       "    .dataframe thead th {\n",
       "        text-align: right;\n",
       "    }\n",
       "</style>\n",
       "<table border=\"1\" class=\"dataframe\">\n",
       "  <thead>\n",
       "    <tr style=\"text-align: right;\">\n",
       "      <th></th>\n",
       "      <th>estimator</th>\n",
       "      <th>fit_time</th>\n",
       "      <th>score_time</th>\n",
       "      <th>test_score</th>\n",
       "      <th>95_conf</th>\n",
       "      <th>total_time</th>\n",
       "    </tr>\n",
       "  </thead>\n",
       "  <tbody>\n",
       "    <tr>\n",
       "      <th>LogisticRegression</th>\n",
       "      <td>(Pipeline(memory=None,\\n     steps=[('feature_...</td>\n",
       "      <td>16.435546</td>\n",
       "      <td>0.008776</td>\n",
       "      <td>0.594065</td>\n",
       "      <td>0.009496</td>\n",
       "      <td>16.444322</td>\n",
       "    </tr>\n",
       "    <tr>\n",
       "      <th>SVC</th>\n",
       "      <td>(Pipeline(memory=None,\\n     steps=[('feature_...</td>\n",
       "      <td>62.846948</td>\n",
       "      <td>6.631267</td>\n",
       "      <td>0.682342</td>\n",
       "      <td>0.010253</td>\n",
       "      <td>69.478216</td>\n",
       "    </tr>\n",
       "    <tr>\n",
       "      <th>GradientBoostingClassifier</th>\n",
       "      <td>(Pipeline(memory=None,\\n     steps=[('feature_...</td>\n",
       "      <td>30.699909</td>\n",
       "      <td>0.044681</td>\n",
       "      <td>0.633070</td>\n",
       "      <td>0.015401</td>\n",
       "      <td>30.744589</td>\n",
       "    </tr>\n",
       "  </tbody>\n",
       "</table>\n",
       "</div>"
      ],
      "text/plain": [
       "                                                                    estimator  \\\n",
       "LogisticRegression          (Pipeline(memory=None,\\n     steps=[('feature_...   \n",
       "SVC                         (Pipeline(memory=None,\\n     steps=[('feature_...   \n",
       "GradientBoostingClassifier  (Pipeline(memory=None,\\n     steps=[('feature_...   \n",
       "\n",
       "                             fit_time  score_time  test_score   95_conf  \\\n",
       "LogisticRegression          16.435546    0.008776    0.594065  0.009496   \n",
       "SVC                         62.846948    6.631267    0.682342  0.010253   \n",
       "GradientBoostingClassifier  30.699909    0.044681    0.633070  0.015401   \n",
       "\n",
       "                            total_time  \n",
       "LogisticRegression           16.444322  \n",
       "SVC                          69.478216  \n",
       "GradientBoostingClassifier   30.744589  "
      ]
     },
     "execution_count": 26,
     "metadata": {},
     "output_type": "execute_result"
    }
   ],
   "source": [
    "# transform shortlistResults to dataframe and display it\n",
    "shortlistResults = cvResultsDF(shortlistResults)\n",
    "shortlistResults"
   ]
  },
  {
   "cell_type": "code",
   "execution_count": 27,
   "metadata": {},
   "outputs": [
    {
     "data": {
      "image/png": "[encoded data removed]",
      "text/plain": [
       "<Figure size 1296x432 with 2 Axes>"
      ]
     },
     "metadata": {
      "needs_background": "light"
     },
     "output_type": "display_data"
    }
   ],
   "source": [
    "# plot the shortlistResults\n",
    "cvResultsPlot(shortlistResults)"
   ]
  },
  {
   "cell_type": "markdown",
   "metadata": {},
   "source": [
    "**Observations:**\n",
    "\n",
    "- A reduction from 231 to 20 features results in a slightly better score for the SVC-model (and more than halfed runtime).\n",
    "- The scores for LogReg and XGB are nearly the same as before / very slightly reduced.\n",
    "\n",
    "In the next step I will test the effect of different thresholds for the three models separately:"
   ]
  },
  {
   "cell_type": "code",
   "execution_count": 28,
   "metadata": {},
   "outputs": [
    {
     "name": "stdout",
     "output_type": "stream",
     "text": [
      "LogReg:\n",
      "Mean F-beta score without feature elimination: 61.16\n",
      "Thresh=0.000, n=36, mean F-beta score: 60.24\n",
      "Thresh=0.001, n=20, mean F-beta score: 60.25\n",
      "Thresh=0.005, n=12, mean F-beta score: 60.23\n",
      "Thresh=0.010, n=10, mean F-beta score: 59.41\n",
      "Thresh=0.050, n=6, mean F-beta score: 52.46\n"
     ]
    }
   ],
   "source": [
    "# check and display LogReg score for different thresholds \n",
    "print(\"LogReg:\\nMean F-beta score without feature elimination: {:.2f}\".format(float(longlistResults.iloc[0,3])*100))\n",
    "thresholds = [0.00000001, 0.001, 0.005, 0.01, 0.05]\n",
    "\n",
    "for thresh in thresholds:\n",
    "    # select features using threshold\n",
    "    selection = SelectFromModel(xgb, threshold=thresh, prefit=True)\n",
    "    selected_train = selection.transform(train_prepared)\n",
    "    # evaluate model with 5-fold CV\n",
    "    scores_selected = cross_validate(shortlist[0], selected_train, trainLabels,cv=StratifiedKFold(5), n_jobs=-1,\n",
    "                                     scoring=make_scorer(fbeta_score, beta=0.5), return_train_score=False)\n",
    "    print(\"Thresh={:.3f}, n={}, mean F-beta score: {:.2f}\".format(thresh, selected_train.shape[1], \n",
    "                                                            np.mean(scores_selected['test_score'])* 100.0))"
   ]
  },
  {
   "cell_type": "code",
   "execution_count": 29,
   "metadata": {},
   "outputs": [
    {
     "name": "stdout",
     "output_type": "stream",
     "text": [
      "SVC:\n",
      "Mean F-beta score without feature elimination: 66.44\n",
      "Thresh=0.000, n=36, mean F-beta score: 68.20\n",
      "Thresh=0.001, n=20, mean F-beta score: 68.24\n",
      "Thresh=0.005, n=12, mean F-beta score: 68.28\n",
      "Thresh=0.010, n=10, mean F-beta score: 68.23\n",
      "Thresh=0.050, n=6, mean F-beta score: 54.96\n"
     ]
    }
   ],
   "source": [
    "# check and display SVC score for different thresholds \n",
    "print(\"SVC:\\nMean F-beta score without feature elimination: {:.2f}\".format(float(longlistResults.iloc[2,3])*100))\n",
    "thresholds = [0.00000001, 0.001, 0.005, 0.01, 0.05]\n",
    "\n",
    "for thresh in thresholds:\n",
    "    # select features using threshold\n",
    "    selection = SelectFromModel(xgb, threshold=thresh, prefit=True)\n",
    "    selected_train = selection.transform(train_prepared)\n",
    "    # evaluate model with 5-fold CV\n",
    "    scores_selected = cross_validate(shortlist[1], selected_train, trainLabels,cv=StratifiedKFold(5), n_jobs=-1,\n",
    "                                     scoring=make_scorer(fbeta_score, beta=0.5), return_train_score=False)\n",
    "    print(\"Thresh={:.3f}, n={}, mean F-beta score: {:.2f}\".format(thresh, selected_train.shape[1], \n",
    "                                                            np.mean(scores_selected['test_score'])* 100.0))"
   ]
  },
  {
   "cell_type": "code",
   "execution_count": 30,
   "metadata": {},
   "outputs": [
    {
     "name": "stdout",
     "output_type": "stream",
     "text": [
      "XGB:\n",
      "Mean F-beta score without feature elimination: 63.71\n",
      "Thresh=0.000, n=36, mean F-beta score: 63.86\n",
      "Thresh=0.001, n=20, mean F-beta score: 63.47\n",
      "Thresh=0.005, n=12, mean F-beta score: 63.37\n",
      "Thresh=0.010, n=10, mean F-beta score: 63.31\n",
      "Thresh=0.050, n=6, mean F-beta score: 56.91\n"
     ]
    }
   ],
   "source": [
    "# check and display XGB score for different thresholds \n",
    "print(\"XGB:\\nMean F-beta score without feature elimination: {:.2f}\".format(float(longlistResults.iloc[5,3])*100))\n",
    "thresholds = [0.00000001, 0.001, 0.005, 0.01, 0.05]\n",
    "\n",
    "for thresh in thresholds:\n",
    "    # select features using threshold\n",
    "    selection = SelectFromModel(xgb, threshold=thresh, prefit=True)\n",
    "    selected_train = selection.transform(train_prepared)\n",
    "    # evaluate model with 5-fold CV\n",
    "    scores_selected = cross_validate(shortlist[2], selected_train, trainLabels,cv=StratifiedKFold(5), n_jobs=-1,\n",
    "                                     scoring=make_scorer(fbeta_score, beta=0.5), return_train_score=False)\n",
    "    print(\"Thresh={:.3f}, n={}, mean F-beta score: {:.2f}\".format(thresh, selected_train.shape[1], \n",
    "                                                            np.mean(scores_selected['test_score'])* 100.0))"
   ]
  },
  {
   "cell_type": "markdown",
   "metadata": {},
   "source": [
    "**Observations:**\n",
    "\n",
    "- XGB (a little bit) and especially SVC both score higher when only features with weight > 0 (--> 36 features) are kept. However a further reduction in the number of features also reduces the score for both models.\n",
    "\n",
    "Because Feature Importance cannot be automatically applied to the data sets, a dimensionality reduction with PCA will be tested in the next step."
   ]
  },
  {
   "cell_type": "markdown",
   "metadata": {},
   "source": [
    "## Apply dimensionality reduction with PCA"
   ]
  },
  {
   "cell_type": "code",
   "execution_count": 31,
   "metadata": {},
   "outputs": [
    {
     "data": {
      "image/png": "[encoded data removed]",
      "text/plain": [
       "<Figure size 1152x288 with 1 Axes>"
      ]
     },
     "metadata": {
      "needs_background": "light"
     },
     "output_type": "display_data"
    }
   ],
   "source": [
    "# fit PCA to training set\n",
    "pca = PCA()\n",
    "pca.fit(train_prepared.toarray())\n",
    "# plot cumulative explained variance curve\n",
    "varSum = np.cumsum(pca.explained_variance_ratio_)\n",
    "plt.figure(figsize=(16,4))\n",
    "sns.lineplot(data=varSum, color='rebeccapurple');\n",
    "plt.xticks([0, 10, 20, 30, 40, 50, 60, 230])\n",
    "plt.title(\"Cumulative Variance Explained relative to Number of Features\", fontsize = 12)\n",
    "plt.ylabel(\"Variance explained\", fontsize = 12)\n",
    "plt.xlabel(\"Number of Features / Attributes\", fontsize = 12);"
   ]
  },
  {
   "cell_type": "code",
   "execution_count": 34,
   "metadata": {},
   "outputs": [
    {
     "name": "stdout",
     "output_type": "stream",
     "text": [
      "Fitting 3 folds for each of 6 candidates, totalling 18 fits\n"
     ]
    },
    {
     "name": "stderr",
     "output_type": "stream",
     "text": [
      "[Parallel(n_jobs=-1)]: Using backend LokyBackend with 4 concurrent workers.\n",
      "[Parallel(n_jobs=-1)]: Done   5 tasks      | elapsed:  3.6min\n",
      "[Parallel(n_jobs=-1)]: Done  10 tasks      | elapsed:  4.6min\n",
      "[Parallel(n_jobs=-1)]: Done  13 out of  18 | elapsed:  5.1min remaining:  2.0min\n",
      "[Parallel(n_jobs=-1)]: Done  15 out of  18 | elapsed:  5.5min remaining:  1.1min\n",
      "[Parallel(n_jobs=-1)]: Done  18 out of  18 | elapsed:  6.0min finished\n"
     ]
    },
    {
     "data": {
      "text/plain": [
       "GridSearchCV(cv=3, error_score='raise-deprecating',\n",
       "       estimator=Pipeline(memory=None,\n",
       "     steps=[('reduce_dim', PCA(copy=True, iterated_power='auto', n_components=None, random_state=None,\n",
       "  svd_solver='auto', tol=0.0, whiten=False)), ('classify', SVC(C=1.0, cache_size=200, class_weight=None, coef0=0.0,\n",
       "  decision_function_shape='ovr', degree=3, gamma='auto', kernel='rbf',\n",
       "  max_iter=-1, probability=False, random_state=None, shrinking=True,\n",
       "  tol=0.001, verbose=False))]),\n",
       "       fit_params=None, iid='warn', n_jobs=-1,\n",
       "       param_grid=[{'reduce_dim__n_components': [0.94, 0.96, 0.98], 'classify': [SVC(C=1.0, cache_size=200, class_weight=None, coef0=0.0,\n",
       "  decision_function_shape='ovr', degree=3, gamma='auto', kernel='rbf',\n",
       "  max_iter=-1, probability=False, random_state=None, shrinking=True,\n",
       "  tol=0.001, verbose=False), ...   subsample=1.0, tol=0.0001, validation_fraction=0.1,\n",
       "              verbose=0, warm_start=False)]}],\n",
       "       pre_dispatch='2*n_jobs', refit=True, return_train_score='warn',\n",
       "       scoring=make_scorer(fbeta_score, beta=0.5), verbose=10)"
      ]
     },
     "execution_count": 34,
     "metadata": {},
     "output_type": "execute_result"
    }
   ],
   "source": [
    "# create pipeline with CV to check some params for PCA that optimize results of SVC and XGB \n",
    "dimPipe = Pipeline([\n",
    "    ('reduce_dim', PCA()), \n",
    "    ('classify', shortlist[1])]\n",
    ")                                        \n",
    "n_components_options = [0.94, 0.96, 0.98]\n",
    "param_grid = [\n",
    "    {\n",
    "        'reduce_dim__n_components': n_components_options,\n",
    "        'classify': [shortlist[1], shortlist[2]]\n",
    "    },\n",
    "]\n",
    "# reduced to cv=3 to save some time\n",
    "grid = GridSearchCV(dimPipe, cv=3, param_grid=param_grid, scoring=make_scorer(fbeta_score, beta=0.5), n_jobs=-1, verbose=10)\n",
    "grid.fit(train_prepared.toarray(), trainLabels)"
   ]
  },
  {
   "cell_type": "code",
   "execution_count": 37,
   "metadata": {},
   "outputs": [
    {
     "data": {
      "text/plain": [
       "Pipeline(memory=None,\n",
       "     steps=[('reduce_dim', PCA(copy=True, iterated_power='auto', n_components=0.96, random_state=None,\n",
       "  svd_solver='auto', tol=0.0, whiten=False)), ('classify', SVC(C=1.0, cache_size=200, class_weight=None, coef0=0.0,\n",
       "  decision_function_shape='ovr', degree=3, gamma='auto', kernel='rbf',\n",
       "  max_iter=-1, probability=False, random_state=None, shrinking=True,\n",
       "  tol=0.001, verbose=False))])"
      ]
     },
     "metadata": {},
     "output_type": "display_data"
    },
    {
     "data": {
      "text/plain": [
       "0.6746748924199739"
      ]
     },
     "metadata": {},
     "output_type": "display_data"
    },
    {
     "name": "stdout",
     "output_type": "stream",
     "text": [
      "Mean test scores for SVC: [0.67137253 0.67467489 0.67157561]\n",
      "Mean test scores for XGB: [0.61196721 0.61533049 0.61046431]\n"
     ]
    }
   ],
   "source": [
    "# display the results\n",
    "display(grid.best_estimator_)\n",
    "display(grid.best_score_)\n",
    "print(\"Mean test scores for SVC: {}\".format(grid.cv_results_['mean_test_score'][:3]))\n",
    "print(\"Mean test scores for XGB: {}\".format(grid.cv_results_['mean_test_score'][3:]))"
   ]
  },
  {
   "cell_type": "code",
   "execution_count": 28,
   "metadata": {},
   "outputs": [
    {
     "data": {
      "text/plain": [
       "66"
      ]
     },
     "execution_count": 28,
     "metadata": {},
     "output_type": "execute_result"
    }
   ],
   "source": [
    "# fit PCA with retained variance of 0.96 on training set\n",
    "pca96 = PCA(n_components = 0.96)\n",
    "train_reduced_96 = pca96.fit_transform(train_prepared.toarray())\n",
    "# print number of components\n",
    "len(pca96.explained_variance_ratio_)"
   ]
  },
  {
   "cell_type": "markdown",
   "metadata": {},
   "source": [
    "**Observations / conclusion:**\n",
    "- SVC scoring peaks when a PCA is applied that retains 96% of the original variance, which means a reduction to 66 components\n",
    "- The best score for SVC is only nearly as high as when Feature Reduction is applied, but PCA has the big advantage that it can automatically applied to the test set too.\n",
    "\n",
    "For finetuning of the 3 remaining models I will use:\n",
    " - PCA 96% for SVC\n",
    " - no dimensionality reduction for LogReg and XGB as they don't  seem to gain (much) from it"
   ]
  },
  {
   "cell_type": "markdown",
   "metadata": {},
   "source": [
    "## Finetuning of shortlisted models (grid search)"
   ]
  },
  {
   "cell_type": "code",
   "execution_count": 40,
   "metadata": {},
   "outputs": [
    {
     "name": "stdout",
     "output_type": "stream",
     "text": [
      "Fitting 5 folds for each of 6 candidates, totalling 30 fits\n"
     ]
    },
    {
     "name": "stderr",
     "output_type": "stream",
     "text": [
      "[Parallel(n_jobs=-1)]: Using backend LokyBackend with 4 concurrent workers.\n",
      "[Parallel(n_jobs=-1)]: Done  30 out of  30 | elapsed:   42.1s finished\n"
     ]
    }
   ],
   "source": [
    "# gridsearch for LogReg - fit to training set without dimensionality reduction\n",
    "logReg = LogisticRegression()\n",
    "param_grid = {'solver':['liblinear', 'saga'], 'C': [100.0, 200.0, 500.0]}\n",
    "grid = GridSearchCV(logReg, cv=StratifiedKFold(5), param_grid=param_grid, scoring=make_scorer(fbeta_score, beta=0.5), \n",
    "                    n_jobs=-1, verbose=1)\n",
    "logRegGrid = grid.fit(train_prepared, trainLabels)"
   ]
  },
  {
   "cell_type": "code",
   "execution_count": 41,
   "metadata": {},
   "outputs": [
    {
     "name": "stdout",
     "output_type": "stream",
     "text": [
      "LogReg:\n"
     ]
    },
    {
     "data": {
      "text/plain": [
       "LogisticRegression(C=500.0, class_weight=None, dual=False, fit_intercept=True,\n",
       "          intercept_scaling=1, max_iter=100, multi_class='warn',\n",
       "          n_jobs=None, penalty='l2', random_state=None, solver='liblinear',\n",
       "          tol=0.0001, verbose=0, warm_start=False)"
      ]
     },
     "metadata": {},
     "output_type": "display_data"
    },
    {
     "name": "stdout",
     "output_type": "stream",
     "text": [
      "Best mean test score: 61.19\n"
     ]
    }
   ],
   "source": [
    "# display the best estimator and best score\n",
    "print(\"LogReg:\")\n",
    "display(logRegGrid.best_estimator_)\n",
    "print(\"Best mean test score: {:.2f}\".format(logRegGrid.best_score_*100))"
   ]
  },
  {
   "cell_type": "code",
   "execution_count": 42,
   "metadata": {},
   "outputs": [
    {
     "name": "stdout",
     "output_type": "stream",
     "text": [
      "Fitting 5 folds for each of 18 candidates, totalling 90 fits\n"
     ]
    },
    {
     "name": "stderr",
     "output_type": "stream",
     "text": [
      "[Parallel(n_jobs=-1)]: Using backend LokyBackend with 4 concurrent workers.\n",
      "[Parallel(n_jobs=-1)]: Done  42 tasks      | elapsed: 29.7min\n",
      "[Parallel(n_jobs=-1)]: Done  90 out of  90 | elapsed: 67.0min finished\n"
     ]
    }
   ],
   "source": [
    "# gridsearch for XGB - fit to training set without dimensionality reduction\n",
    "xgb = GradientBoostingClassifier()\n",
    "param_grid = {'n_estimators':[200, 500, 1000], 'learning_rate': [0.01, 0.05, 0.1], 'max_depth' : [3, 6]}\n",
    "grid = GridSearchCV(xgb, cv=StratifiedKFold(5), param_grid=param_grid, scoring=make_scorer(fbeta_score, beta=0.5),\n",
    "                    n_jobs=-1, verbose=1)\n",
    "xgbGrid = grid.fit(train_prepared, trainLabels)"
   ]
  },
  {
   "cell_type": "code",
   "execution_count": 43,
   "metadata": {},
   "outputs": [
    {
     "name": "stdout",
     "output_type": "stream",
     "text": [
      "XGB:\n"
     ]
    },
    {
     "data": {
      "text/plain": [
       "GradientBoostingClassifier(criterion='friedman_mse', init=None,\n",
       "              learning_rate=0.05, loss='deviance', max_depth=6,\n",
       "              max_features=None, max_leaf_nodes=None,\n",
       "              min_impurity_decrease=0.0, min_impurity_split=None,\n",
       "              min_samples_leaf=1, min_samples_split=2,\n",
       "              min_weight_fraction_leaf=0.0, n_estimators=500,\n",
       "              n_iter_no_change=None, presort='auto', random_state=None,\n",
       "              subsample=1.0, tol=0.0001, validation_fraction=0.1,\n",
       "              verbose=0, warm_start=False)"
      ]
     },
     "metadata": {},
     "output_type": "display_data"
    },
    {
     "name": "stdout",
     "output_type": "stream",
     "text": [
      "Best mean test score: 69.08\n"
     ]
    }
   ],
   "source": [
    "# display the best estimator and best score\n",
    "print(\"XGB:\")\n",
    "display(xgbGrid.best_estimator_)\n",
    "print(\"Best mean test score: {:.2f}\".format(xgbGrid.best_score_*100))"
   ]
  },
  {
   "cell_type": "code",
   "execution_count": 44,
   "metadata": {},
   "outputs": [
    {
     "name": "stdout",
     "output_type": "stream",
     "text": [
      "Fitting 3 folds for each of 11 candidates, totalling 33 fits\n"
     ]
    },
    {
     "name": "stderr",
     "output_type": "stream",
     "text": [
      "[Parallel(n_jobs=-1)]: Using backend LokyBackend with 4 concurrent workers.\n",
      "[Parallel(n_jobs=-1)]: Done  33 out of  33 | elapsed: 37.9min finished\n"
     ]
    }
   ],
   "source": [
    "# gridsearch for SVC - fit to training set with PCA applied\n",
    "svc = SVC()\n",
    "param_grid = [\n",
    "        {'kernel': ['poly'], 'C': [1, 10]},\n",
    "        {'kernel': ['rbf'], 'C': [1, 10, 100],\n",
    "         'gamma': [0.001, 0.01, 0.1]},\n",
    "    ]\n",
    "grid = GridSearchCV(svc, cv=StratifiedKFold(3), param_grid=param_grid, scoring=make_scorer(fbeta_score, beta=0.5), \n",
    "                    n_jobs=-1, verbose=1)\n",
    "svcGrid = grid.fit(train_reduced_96, trainLabels)"
   ]
  },
  {
   "cell_type": "code",
   "execution_count": 45,
   "metadata": {},
   "outputs": [
    {
     "data": {
      "text/plain": [
       "'SVC:'"
      ]
     },
     "metadata": {},
     "output_type": "display_data"
    },
    {
     "data": {
      "text/plain": [
       "SVC(C=10, cache_size=200, class_weight=None, coef0=0.0,\n",
       "  decision_function_shape='ovr', degree=3, gamma=0.01, kernel='rbf',\n",
       "  max_iter=-1, probability=False, random_state=None, shrinking=True,\n",
       "  tol=0.001, verbose=False)"
      ]
     },
     "metadata": {},
     "output_type": "display_data"
    },
    {
     "data": {
      "text/plain": [
       "'Best mean test score: 67.82336940908476'"
      ]
     },
     "metadata": {},
     "output_type": "display_data"
    }
   ],
   "source": [
    "# display the best estimator and best score\n",
    "display(\"SVC:\")\n",
    "display(svcGrid.best_estimator_)\n",
    "display(\"Best mean test score: {}\".format(svcGrid.best_score_*100))"
   ]
  },
  {
   "cell_type": "markdown",
   "metadata": {},
   "source": [
    "**Conclusion:** After finetuning a much more complex version of XGB has overtaken SVC. But it might well be that this XGB model is now overfitting the data and I will check that by computing the learning curves of XGB vs. SVC in the next step. "
   ]
  },
  {
   "cell_type": "markdown",
   "metadata": {},
   "source": [
    "## Fit XGB and SVC and validate learning curves"
   ]
  },
  {
   "cell_type": "markdown",
   "metadata": {},
   "source": [
    "### Validate XGB - full version and with early stopping"
   ]
  },
  {
   "cell_type": "code",
   "execution_count": 13,
   "metadata": {},
   "outputs": [],
   "source": [
    "# initialize best model as xgbChurn\n",
    "xgbChurn = GradientBoostingClassifier(criterion='friedman_mse', init=None, learning_rate=0.05, loss='deviance', max_depth=6,\n",
    "                                      max_features=None, max_leaf_nodes=None, min_impurity_decrease=0.0, \n",
    "                                      min_impurity_split=None, min_samples_leaf=1, min_samples_split=2, \n",
    "                                      min_weight_fraction_leaf=0.0, n_estimators=500, n_iter_no_change=None, presort='auto', \n",
    "                                      random_state=None, subsample=1.0, tol=0.0001, validation_fraction=0.1, verbose=1, \n",
    "                                      warm_start=False)"
   ]
  },
  {
   "cell_type": "code",
   "execution_count": 14,
   "metadata": {},
   "outputs": [
    {
     "name": "stdout",
     "output_type": "stream",
     "text": [
      "[learning_curve] Training set sizes: [  231  1435  2640  3845  5050  6255  7459  8664  9869 11074 12278 13483\n",
      " 14688 15893 17098 18302 19507 20712 21917 23122]\n"
     ]
    },
    {
     "name": "stderr",
     "output_type": "stream",
     "text": [
      "[Parallel(n_jobs=-1)]: Using backend LokyBackend with 4 concurrent workers.\n",
      "[Parallel(n_jobs=-1)]: Done   5 out of  60 | elapsed:   41.6s remaining:  7.6min\n",
      "[Parallel(n_jobs=-1)]: Done  12 out of  60 | elapsed:  3.6min remaining: 14.4min\n",
      "[Parallel(n_jobs=-1)]: Done  19 out of  60 | elapsed:  7.3min remaining: 15.7min\n",
      "[Parallel(n_jobs=-1)]: Done  26 out of  60 | elapsed:  9.8min remaining: 12.8min\n",
      "[Parallel(n_jobs=-1)]: Done  33 out of  60 | elapsed: 12.8min remaining: 10.5min\n",
      "[Parallel(n_jobs=-1)]: Done  40 out of  60 | elapsed: 16.0min remaining:  8.0min\n",
      "[Parallel(n_jobs=-1)]: Done  47 out of  60 | elapsed: 18.0min remaining:  5.0min\n",
      "[Parallel(n_jobs=-1)]: Done  54 out of  60 | elapsed: 21.6min remaining:  2.4min\n",
      "[Parallel(n_jobs=-1)]: Done  60 out of  60 | elapsed: 25.6min finished\n"
     ]
    }
   ],
   "source": [
    "# for xgbChurn apply sklearns learning_curve utility on training set with 3-fold CV\n",
    "N, trainCurve, valCurve = learning_curve(xgbChurn, train_prepared, trainLabels, cv=StratifiedKFold(3), \n",
    "                                         scoring=make_scorer(fbeta_score, beta=0.5), train_sizes=np.linspace(0.01,1.0,20),\n",
    "                                         n_jobs=-1, verbose=10)"
   ]
  },
  {
   "cell_type": "code",
   "execution_count": 15,
   "metadata": {},
   "outputs": [
    {
     "data": {
      "image/png": "[encoded data removed]",
      "text/plain": [
       "<Figure size 1152x288 with 1 Axes>"
      ]
     },
     "metadata": {
      "needs_background": "light"
     },
     "output_type": "display_data"
    }
   ],
   "source": [
    "# calculate means and std deviation\n",
    "trainCurveMean = np.mean(trainCurve, axis=1)\n",
    "valCurveMean = np.mean(valCurve, axis=1)\n",
    "trainCurveStd = np.std(trainCurve, axis=1)\n",
    "valCurveStd = np.std(valCurve, axis=1)\n",
    "# plot learning curves\n",
    "plt.figure(figsize=(16,4))\n",
    "plt.plot(N, trainCurveMean, color='rebeccapurple', marker='o', label='training score')\n",
    "plt.plot(N, valCurveMean, color='yellow', marker='o', label='validation score')\n",
    "plt.fill_between(N, trainCurveMean - trainCurveStd,trainCurveMean + trainCurveStd, alpha=0.2, color=\"rebeccapurple\")\n",
    "plt.fill_between(N, valCurveMean - valCurveStd, valCurveMean + valCurveStd, alpha=0.2, color=\"yellow\")\n",
    "plt.hlines(np.mean([trainCurveMean[-1], valCurveMean[-1]]), N[0], N[-1], color='black', linestyle='dashed')\n",
    "# styling\n",
    "plt.ylim(0,1)\n",
    "plt.xlim(N[0], N[-1])\n",
    "plt.xlabel('training size')\n",
    "plt.ylabel('score')\n",
    "plt.title(\"Learning Curves F-Beta-Score (beta=0.5)\")\n",
    "plt.legend(loc='lower right');"
   ]
  },
  {
   "cell_type": "markdown",
   "metadata": {},
   "source": [
    "**Observation:** The curves do not converge well. There is a big gap that can not be closed with the training data - which means that we have a lot of variance in the model and it is overfitting. One solution for regularization could be early stopping. This will be tested in the next step."
   ]
  },
  {
   "cell_type": "code",
   "execution_count": 16,
   "metadata": {},
   "outputs": [],
   "source": [
    "# check if early stopping is an option for variance reduction with a second model xgbChurnES\n",
    "xgbChurnES = GradientBoostingClassifier(criterion='friedman_mse', init=None, learning_rate=0.05, loss='deviance', max_depth=6,\n",
    "                                      max_features=None, max_leaf_nodes=None, min_impurity_decrease=0.0, \n",
    "                                      min_impurity_split=None, min_samples_leaf=1, min_samples_split=2, \n",
    "                                      min_weight_fraction_leaf=0.0, n_estimators=500, n_iter_no_change=25, presort='auto', \n",
    "                                      random_state=None, subsample=1.0, tol=0.0001, validation_fraction=0.1, verbose=1, \n",
    "                                      warm_start=False)"
   ]
  },
  {
   "cell_type": "code",
   "execution_count": 17,
   "metadata": {},
   "outputs": [
    {
     "name": "stdout",
     "output_type": "stream",
     "text": [
      "      Iter       Train Loss   Remaining Time \n",
      "         1           1.2342            3.34m\n",
      "         2           1.2174            3.05m\n",
      "         3           1.2020            2.92m\n",
      "         4           1.1873            3.08m\n",
      "         5           1.1734            3.15m\n",
      "         6           1.1607            3.11m\n",
      "         7           1.1484            3.07m\n",
      "         8           1.1372            3.04m\n",
      "         9           1.1260            3.01m\n",
      "        10           1.1150            2.98m\n",
      "        20           1.0346            2.95m\n",
      "        30           0.9763            2.85m\n",
      "        40           0.9314            2.82m\n",
      "        50           0.9021            2.73m\n",
      "        60           0.8779            2.61m\n",
      "        70           0.8570            2.51m\n",
      "        80           0.8367            2.43m\n",
      "        90           0.8198            2.34m\n",
      "       100           0.8057            2.26m\n",
      "       200           0.7182            1.58m\n",
      "       300           0.6666            1.01m\n",
      "       400           0.6274           29.25s\n"
     ]
    },
    {
     "data": {
      "text/plain": [
       "GradientBoostingClassifier(criterion='friedman_mse', init=None,\n",
       "              learning_rate=0.05, loss='deviance', max_depth=6,\n",
       "              max_features=None, max_leaf_nodes=None,\n",
       "              min_impurity_decrease=0.0, min_impurity_split=None,\n",
       "              min_samples_leaf=1, min_samples_split=2,\n",
       "              min_weight_fraction_leaf=0.0, n_estimators=500,\n",
       "              n_iter_no_change=25, presort='auto', random_state=None,\n",
       "              subsample=1.0, tol=0.0001, validation_fraction=0.1,\n",
       "              verbose=1, warm_start=False)"
      ]
     },
     "execution_count": 17,
     "metadata": {},
     "output_type": "execute_result"
    }
   ],
   "source": [
    "xgbChurnES.fit(train_prepared, trainLabels)"
   ]
  },
  {
   "cell_type": "code",
   "execution_count": 44,
   "metadata": {},
   "outputs": [
    {
     "name": "stdout",
     "output_type": "stream",
     "text": [
      "Number of estimators: 500\n",
      "Training score / deviance: 0.6519\n"
     ]
    }
   ],
   "source": [
    "print(\"Number of estimators: {}\".format(xgbChurnES.n_estimators_))\n",
    "print(\"Training score / deviance: {:.4f}\".format(xgbChurnES.train_score_[328]))"
   ]
  },
  {
   "cell_type": "markdown",
   "metadata": {},
   "source": [
    "**Conclusion:** Early stopping with the chosen parameters has no effect and will not be applied."
   ]
  },
  {
   "cell_type": "code",
   "execution_count": 18,
   "metadata": {},
   "outputs": [],
   "source": [
    "# initialize best SVC model as svcChurn - NOTE: activate probability only after calculation of training curves \n",
    "svcChurn = SVC(C=10, cache_size=200, class_weight=None, coef0=0.0,\n",
    "  decision_function_shape='ovr', degree=3, gamma=0.01, kernel='rbf',\n",
    "  max_iter=-1, probability=True, random_state=None, shrinking=True,\n",
    "  tol=0.001, verbose=False)"
   ]
  },
  {
   "cell_type": "code",
   "execution_count": 16,
   "metadata": {},
   "outputs": [
    {
     "name": "stdout",
     "output_type": "stream",
     "text": [
      "[learning_curve] Training set sizes: [  231  2312  4393  6474  8555 10636 12717 14798 16879 18960 21041 23122]\n"
     ]
    },
    {
     "name": "stderr",
     "output_type": "stream",
     "text": [
      "[Parallel(n_jobs=-1)]: Using backend LokyBackend with 4 concurrent workers.\n",
      "[Parallel(n_jobs=-1)]: Done   1 out of  36 | elapsed:    4.2s remaining:  2.5min\n",
      "[Parallel(n_jobs=-1)]: Done   5 out of  36 | elapsed:   24.7s remaining:  2.6min\n",
      "[Parallel(n_jobs=-1)]: Done   9 out of  36 | elapsed:  1.6min remaining:  4.7min\n",
      "[Parallel(n_jobs=-1)]: Done  13 out of  36 | elapsed:  2.0min remaining:  3.5min\n",
      "[Parallel(n_jobs=-1)]: Done  17 out of  36 | elapsed:  2.7min remaining:  3.0min\n",
      "[Parallel(n_jobs=-1)]: Done  21 out of  36 | elapsed:  3.8min remaining:  2.7min\n",
      "[Parallel(n_jobs=-1)]: Done  25 out of  36 | elapsed:  4.2min remaining:  1.9min\n",
      "[Parallel(n_jobs=-1)]: Done  29 out of  36 | elapsed:  5.1min remaining:  1.2min\n",
      "[Parallel(n_jobs=-1)]: Done  33 out of  36 | elapsed:  6.2min remaining:   33.9s\n",
      "[Parallel(n_jobs=-1)]: Done  36 out of  36 | elapsed:  7.5min finished\n"
     ]
    }
   ],
   "source": [
    "# apply sklearns learning_curve utility on training set with 3-fold CV (with 12 steps only and PCA reduction applied)\n",
    "N, trainCurve, valCurve = learning_curve(svcChurn, train_reduced_96, trainLabels, cv=StratifiedKFold(3), \n",
    "                                         scoring=make_scorer(fbeta_score, beta=0.5), train_sizes=np.linspace(0.01,1.0,12),\n",
    "                                         n_jobs=-1, verbose=10)"
   ]
  },
  {
   "cell_type": "code",
   "execution_count": 17,
   "metadata": {},
   "outputs": [
    {
     "data": {
      "image/png": "[encoded data removed]",
      "text/plain": [
       "<Figure size 1152x288 with 1 Axes>"
      ]
     },
     "metadata": {
      "needs_background": "light"
     },
     "output_type": "display_data"
    }
   ],
   "source": [
    "# calculate means and std deviation\n",
    "trainCurveMean = np.mean(trainCurve, axis=1)\n",
    "valCurveMean = np.mean(valCurve, axis=1)\n",
    "trainCurveStd = np.std(trainCurve, axis=1)\n",
    "valCurveStd = np.std(valCurve, axis=1)\n",
    "# plot learning curves\n",
    "plt.figure(figsize=(16,4))\n",
    "plt.plot(N, trainCurveMean, color='rebeccapurple', marker='o', label='training score')\n",
    "plt.plot(N, valCurveMean, color='yellow', marker='o', label='validation score')\n",
    "plt.fill_between(N, trainCurveMean - trainCurveStd,trainCurveMean + trainCurveStd, alpha=0.2, color=\"rebeccapurple\")\n",
    "plt.fill_between(N, valCurveMean - valCurveStd, valCurveMean + valCurveStd, alpha=0.2, color=\"yellow\")\n",
    "plt.hlines(np.mean([trainCurveMean[-1], valCurveMean[-1]]), N[0], N[-1], color='black', linestyle='dashed')\n",
    "# styling\n",
    "plt.ylim(0,1)\n",
    "plt.xlim(N[0], N[-1])\n",
    "plt.xlabel('training size')\n",
    "plt.ylabel('score')\n",
    "plt.title(\"Learning Curves F-Beta-Score (beta=0.5)\")\n",
    "plt.legend(loc='lower right');"
   ]
  },
  {
   "cell_type": "markdown",
   "metadata": {},
   "source": [
    "**Observation:** Bias higher than with XGB but variance looks good now. This model is definitely less prone to overfitting than the XGB versions."
   ]
  },
  {
   "cell_type": "markdown",
   "metadata": {},
   "source": [
    "### Fit models to training data"
   ]
  },
  {
   "cell_type": "code",
   "execution_count": 18,
   "metadata": {},
   "outputs": [
    {
     "name": "stdout",
     "output_type": "stream",
     "text": [
      "      Iter       Train Loss   Remaining Time \n",
      "         1           1.2334            3.38m\n",
      "         2           1.2164            3.47m\n",
      "         3           1.2006            3.35m\n",
      "         4           1.1862            3.27m\n",
      "         5           1.1728            3.32m\n",
      "         6           1.1607            3.31m\n",
      "         7           1.1487            3.29m\n",
      "         8           1.1372            3.32m\n",
      "         9           1.1260            3.28m\n",
      "        10           1.1153            3.27m\n",
      "        20           1.0356            3.18m\n",
      "        30           0.9771            3.12m\n",
      "        40           0.9330            3.08m\n",
      "        50           0.9031            3.03m\n",
      "        60           0.8784            2.98m\n",
      "        70           0.8594            2.88m\n",
      "        80           0.8394            2.78m\n",
      "        90           0.8233            2.68m\n",
      "       100           0.8094            2.58m\n",
      "       200           0.7237            1.80m\n",
      "       300           0.6749            1.13m\n",
      "       400           0.6388           32.70s\n",
      "       500           0.6079            0.00s\n"
     ]
    },
    {
     "data": {
      "text/plain": [
       "GradientBoostingClassifier(criterion='friedman_mse', init=None,\n",
       "              learning_rate=0.05, loss='deviance', max_depth=6,\n",
       "              max_features=None, max_leaf_nodes=None,\n",
       "              min_impurity_decrease=0.0, min_impurity_split=None,\n",
       "              min_samples_leaf=1, min_samples_split=2,\n",
       "              min_weight_fraction_leaf=0.0, n_estimators=500,\n",
       "              n_iter_no_change=None, presort='auto', random_state=None,\n",
       "              subsample=1.0, tol=0.0001, validation_fraction=0.1,\n",
       "              verbose=1, warm_start=False)"
      ]
     },
     "execution_count": 18,
     "metadata": {},
     "output_type": "execute_result"
    }
   ],
   "source": [
    "xgbChurn.fit(train_prepared, trainLabels)"
   ]
  },
  {
   "cell_type": "code",
   "execution_count": 32,
   "metadata": {},
   "outputs": [
    {
     "name": "stdout",
     "output_type": "stream",
     "text": [
      "Loaded model from: xgbChurn.joblib.dat\n"
     ]
    }
   ],
   "source": [
    "# save model to file for later reuse\n",
    "# joblib.dump(xgbChurn, \"xgbChurn.joblib.dat\") \n",
    "# print(\"Saved model to: xgbChurn.joblib.dat\")\n",
    "\n",
    "# reload model if needed\n",
    "xgbChurn = joblib.load(\"xgbChurn.joblib.dat\") \n",
    "print(\"Loaded model from: xgbChurn.joblib.dat\")"
   ]
  },
  {
   "cell_type": "code",
   "execution_count": 20,
   "metadata": {},
   "outputs": [
    {
     "data": {
      "text/plain": [
       "SVC(C=10, cache_size=200, class_weight=None, coef0=0.0,\n",
       "  decision_function_shape='ovr', degree=3, gamma=0.01, kernel='rbf',\n",
       "  max_iter=-1, probability=True, random_state=None, shrinking=True,\n",
       "  tol=0.001, verbose=False)"
      ]
     },
     "execution_count": 20,
     "metadata": {},
     "output_type": "execute_result"
    }
   ],
   "source": [
    "svcChurn.fit(train_reduced_96, trainLabels)"
   ]
  },
  {
   "cell_type": "code",
   "execution_count": 33,
   "metadata": {},
   "outputs": [
    {
     "name": "stdout",
     "output_type": "stream",
     "text": [
      "Loaded model from: svcChurn.joblib.dat\n"
     ]
    }
   ],
   "source": [
    "# save model to file for later reuse\n",
    "# joblib.dump(svcChurn, \"svcChurn.joblib.dat\") \n",
    "# print(\"Saved model to: svcChurn.joblib.dat\")\n",
    "\n",
    "# reload model if needed\n",
    "svcChurn = joblib.load(\"svcChurn.joblib.dat\") \n",
    "print(\"Loaded model from: svcChurn.joblib.dat\")"
   ]
  },
  {
   "cell_type": "markdown",
   "metadata": {},
   "source": [
    "## Prepare Test Set"
   ]
  },
  {
   "cell_type": "code",
   "execution_count": 21,
   "metadata": {},
   "outputs": [
    {
     "data": {
      "text/plain": [
       "'car_nr successfully deleted'"
      ]
     },
     "metadata": {},
     "output_type": "display_data"
    },
    {
     "data": {
      "text/plain": [
       "'ref_dt successfully deleted'"
      ]
     },
     "metadata": {},
     "output_type": "display_data"
    },
    {
     "data": {
      "text/plain": [
       "'ACCIDENT_CAR successfully deleted'"
      ]
     },
     "metadata": {},
     "output_type": "display_data"
    },
    {
     "data": {
      "text/plain": [
       "'DESCRIPTION_DE successfully deleted'"
      ]
     },
     "metadata": {},
     "output_type": "display_data"
    },
    {
     "data": {
      "text/plain": [
       "'DESCRIPTION_DE2 successfully deleted'"
      ]
     },
     "metadata": {},
     "output_type": "display_data"
    },
    {
     "data": {
      "text/plain": [
       "'BUDGET_TYPE_IMPORT successfully deleted'"
      ]
     },
     "metadata": {},
     "output_type": "display_data"
    },
    {
     "data": {
      "text/plain": [
       "'SALES_TYPE_IMPORT successfully deleted'"
      ]
     },
     "metadata": {},
     "output_type": "display_data"
    },
    {
     "data": {
      "text/plain": [
       "'FUNCTION_TYPE_UID successfully deleted'"
      ]
     },
     "metadata": {},
     "output_type": "display_data"
    },
    {
     "data": {
      "text/plain": [
       "'TITLE successfully deleted'"
      ]
     },
     "metadata": {},
     "output_type": "display_data"
    },
    {
     "data": {
      "text/plain": [
       "'POSITION successfully deleted'"
      ]
     },
     "metadata": {},
     "output_type": "display_data"
    },
    {
     "data": {
      "text/plain": [
       "'EVT_BIRTH successfully deleted'"
      ]
     },
     "metadata": {},
     "output_type": "display_data"
    },
    {
     "data": {
      "text/plain": [
       "'NAME successfully deleted'"
      ]
     },
     "metadata": {},
     "output_type": "display_data"
    },
    {
     "data": {
      "text/plain": [
       "'PERSON_CITY successfully deleted'"
      ]
     },
     "metadata": {},
     "output_type": "display_data"
    },
    {
     "data": {
      "text/plain": [
       "'SECTOR_UID successfully deleted'"
      ]
     },
     "metadata": {},
     "output_type": "display_data"
    },
    {
     "data": {
      "text/plain": [
       "'IS_RETAIL_PARTNER successfully deleted'"
      ]
     },
     "metadata": {},
     "output_type": "display_data"
    },
    {
     "data": {
      "text/plain": [
       "'IS_SERVICE_PARTNER successfully deleted'"
      ]
     },
     "metadata": {},
     "output_type": "display_data"
    },
    {
     "data": {
      "text/plain": [
       "'RATING_UID successfully deleted'"
      ]
     },
     "metadata": {},
     "output_type": "display_data"
    },
    {
     "data": {
      "text/plain": [
       "'PARTNER_ADRESS_TYPE_UID successfully deleted'"
      ]
     },
     "metadata": {},
     "output_type": "display_data"
    },
    {
     "data": {
      "text/plain": [
       "'Altersklasse5J successfully deleted'"
      ]
     },
     "metadata": {},
     "output_type": "display_data"
    },
    {
     "data": {
      "text/plain": [
       "'Kanton successfully deleted'"
      ]
     },
     "metadata": {},
     "output_type": "display_data"
    },
    {
     "data": {
      "text/plain": [
       "'CAR_OWNER_JOIN_NR successfully deleted'"
      ]
     },
     "metadata": {},
     "output_type": "display_data"
    },
    {
     "data": {
      "text/plain": [
       "'WEMFWirtschaftsgebiet successfully deleted'"
      ]
     },
     "metadata": {},
     "output_type": "display_data"
    },
    {
     "data": {
      "text/plain": [
       "'PERSON_STREET successfully deleted'"
      ]
     },
     "metadata": {},
     "output_type": "display_data"
    },
    {
     "data": {
      "text/plain": [
       "'PERSON_ZIP_CODE successfully deleted'"
      ]
     },
     "metadata": {},
     "output_type": "display_data"
    },
    {
     "data": {
      "text/plain": [
       "'PARTNER_STREET successfully deleted'"
      ]
     },
     "metadata": {},
     "output_type": "display_data"
    },
    {
     "data": {
      "text/plain": [
       "'PARTNER_ZIP_CODE successfully deleted'"
      ]
     },
     "metadata": {},
     "output_type": "display_data"
    },
    {
     "data": {
      "text/plain": [
       "'PARTNER_LAT successfully deleted'"
      ]
     },
     "metadata": {},
     "output_type": "display_data"
    },
    {
     "data": {
      "text/plain": [
       "'PARTNER_LNG successfully deleted'"
      ]
     },
     "metadata": {},
     "output_type": "display_data"
    },
    {
     "data": {
      "text/plain": [
       "'PARTNER_ADDRESS successfully deleted'"
      ]
     },
     "metadata": {},
     "output_type": "display_data"
    },
    {
     "data": {
      "text/plain": [
       "'PARTNER_COMPANY_NR successfully deleted'"
      ]
     },
     "metadata": {},
     "output_type": "display_data"
    },
    {
     "data": {
      "text/plain": [
       "'Sprachregion successfully deleted'"
      ]
     },
     "metadata": {},
     "output_type": "display_data"
    },
    {
     "data": {
      "text/plain": [
       "'SUM_INVOICE_AMOUNT_IN_SERVICE successfully deleted'"
      ]
     },
     "metadata": {},
     "output_type": "display_data"
    },
    {
     "data": {
      "text/plain": [
       "'Altersklasse1J successfully deleted'"
      ]
     },
     "metadata": {},
     "output_type": "display_data"
    },
    {
     "data": {
      "text/plain": [
       "'dist_seconds successfully deleted'"
      ]
     },
     "metadata": {},
     "output_type": "display_data"
    },
    {
     "data": {
      "text/plain": [
       "'ACTIVE successfully deleted'"
      ]
     },
     "metadata": {},
     "output_type": "display_data"
    },
    {
     "data": {
      "text/plain": [
       "'KANTON_LICENCE_PLATE successfully deleted'"
      ]
     },
     "metadata": {},
     "output_type": "display_data"
    },
    {
     "data": {
      "text/plain": [
       "'LAST_EVT successfully deleted'"
      ]
     },
     "metadata": {},
     "output_type": "display_data"
    },
    {
     "data": {
      "text/plain": [
       "'FIRST_EVT successfully deleted'"
      ]
     },
     "metadata": {},
     "output_type": "display_data"
    },
    {
     "data": {
      "text/plain": [
       "'EXTERIOR_COLOR_DE successfully deleted'"
      ]
     },
     "metadata": {},
     "output_type": "display_data"
    },
    {
     "data": {
      "text/plain": [
       "'INTERIOR_COLOR_DE successfully deleted'"
      ]
     },
     "metadata": {},
     "output_type": "display_data"
    }
   ],
   "source": [
    "# disable warning\n",
    "pd.set_option('mode.chained_assignment', None) \n",
    "\n",
    "# pipeline to clean our test set with same functions as used / defined in EDA notebook\n",
    "testSet = (testSet\n",
    " .pipe(funCleaning.fixDtypes, colsToCat=colsToCat)\n",
    " .pipe(funChurn.funCleanNumericals)\n",
    " .pipe(funCleaning.colsToLog10, colsToLog10=colsToLog10)\n",
    " .pipe(funChurn.funCleanCategoricals)\n",
    " .pipe(funChurn.funCleanStrings)\n",
    " .pipe(funChurn.funCleanMissingStates)\n",
    " .pipe(funCleaning.delCols, colsToDel=colsToDel)\n",
    ");"
   ]
  },
  {
   "cell_type": "code",
   "execution_count": 22,
   "metadata": {},
   "outputs": [],
   "source": [
    "# remove NaN - impute defined NaN-values with values calculated from train set\n",
    "testSet['ownerAge'] = testSet['ownerAge'].fillna(49.0)\n",
    "testSet['SUM_INVOICE_AMOUNT_log'] = testSet['SUM_INVOICE_AMOUNT_log'].fillna(2.9860772029124125)\n",
    "testSet['NUMBER_OF_DOORS_UID'] = testSet['NUMBER_OF_DOORS_UID'].fillna(5.0)\n",
    "# drop the rest according to strategies performed on train set\n",
    "testSet = funCleaning.nanRemoval(testSet, dropAll=True, colsToDrop=colsToDrop)"
   ]
  },
  {
   "cell_type": "code",
   "execution_count": 23,
   "metadata": {},
   "outputs": [
    {
     "name": "stdout",
     "output_type": "stream",
     "text": [
      "Rows removed: 35\n"
     ]
    }
   ],
   "source": [
    "# remove categorical values that are not found in both sets to make sure one-hot-encoding returns same number of cols\n",
    "len1 = len(testSet)\n",
    "testSet = testSet[testSet['END_CUSTOMER_STATUS_UID'] != '64 Mitarbeiter AMAG Filiale'] \n",
    "testSet = testSet[testSet['SALES_TYPE'] != 'R8'] \n",
    "testSet = testSet[testSet['SALES_TYPE'] != 'RS6']\n",
    "testSet = testSet[testSet['SALES_TYPE'] != 'RS7']\n",
    "testSet = testSet[testSet['SALES_TYPE'] != 'S8']\n",
    "testSet = testSet[testSet['PERSON_ADRESS_COUNT'] != 6.0]\n",
    "len2 = len(testSet)\n",
    "print(\"Rows removed: {}\".format(len1-len2))"
   ]
  },
  {
   "cell_type": "code",
   "execution_count": 24,
   "metadata": {},
   "outputs": [],
   "source": [
    "# separate target variable from rest of test set\n",
    "test = testSet.drop('target_event', axis=1)\n",
    "testLabels = testSet['target_event'].copy()"
   ]
  },
  {
   "cell_type": "code",
   "execution_count": 25,
   "metadata": {},
   "outputs": [],
   "source": [
    "# feature preprocessing with scikit-learn pipeline\n",
    "df = test\n",
    "numCols = list(df.select_dtypes(include = ['float64', 'int64']).columns)\n",
    "catCols = list(df.select_dtypes(include = 'category').columns)\n",
    "# make sure every value in all of the two column groups is of the same dtype for the encoding\n",
    "for col in numCols:\n",
    "    df[col] = df[col].astype(float) \n",
    "for col in catCols:\n",
    "    df[col] = df[col].astype(str)\n",
    "# pipeline for standardization and one-hot-encoding\n",
    "fullPipelineTest = ColumnTransformer([\n",
    "        ('std_scaler', StandardScaler(), numCols),\n",
    "        ('encoder', OneHotEncoder(), catCols),\n",
    "    ])\n",
    "\n",
    "test_prepared = fullPipelineTest.fit_transform(df)"
   ]
  },
  {
   "cell_type": "code",
   "execution_count": 26,
   "metadata": {},
   "outputs": [
    {
     "data": {
      "text/plain": [
       "<10284x228 sparse matrix of type '<class 'numpy.float64'>'\n",
       "\twith 308520 stored elements in Compressed Sparse Row format>"
      ]
     },
     "metadata": {},
     "output_type": "display_data"
    }
   ],
   "source": [
    "#check\n",
    "display(test_prepared)"
   ]
  },
  {
   "cell_type": "code",
   "execution_count": 29,
   "metadata": {},
   "outputs": [
    {
     "data": {
      "text/plain": [
       "66"
      ]
     },
     "execution_count": 29,
     "metadata": {},
     "output_type": "execute_result"
    }
   ],
   "source": [
    "# fit PCA with retained variance of 0.96 on test set (for SVC evaluation only)\n",
    "test_reduced_96 = pca96.transform(test_prepared.toarray())\n",
    "# print number of components\n",
    "len(pca96.explained_variance_ratio_)"
   ]
  },
  {
   "cell_type": "markdown",
   "metadata": {},
   "source": [
    "## Final evaluation on test set"
   ]
  },
  {
   "cell_type": "code",
   "execution_count": 34,
   "metadata": {},
   "outputs": [
    {
     "name": "stdout",
     "output_type": "stream",
     "text": [
      "Final F-Beta-Score on the testing data: 0.6473\n"
     ]
    }
   ],
   "source": [
    "# make predictions for test set\n",
    "predictions = xgbChurn.predict(test_prepared) \n",
    "# evaluate predictions \n",
    "fBetaFinal = fbeta_score(testLabels, predictions, beta = 0.5) \n",
    "print(\"Final F-Beta-Score on the testing data: {:.4f}\".format(fBetaFinal))"
   ]
  },
  {
   "cell_type": "code",
   "execution_count": 35,
   "metadata": {},
   "outputs": [
    {
     "name": "stdout",
     "output_type": "stream",
     "text": [
      "Final F-Beta-Score on the testing data: 0.6211\n"
     ]
    }
   ],
   "source": [
    "# make predictions for test set with PCA applied\n",
    "predictions = svcChurn.predict(test_reduced_96) \n",
    "# evaluate predictions \n",
    "fBetaFinal = fbeta_score(testLabels, predictions, beta = 0.5) \n",
    "print(\"Final F-Beta-Score on the testing data: {:.4f}\".format(fBetaFinal))"
   ]
  },
  {
   "cell_type": "markdown",
   "metadata": {},
   "source": [
    "### Plot ROC curves"
   ]
  },
  {
   "cell_type": "code",
   "execution_count": 36,
   "metadata": {},
   "outputs": [
    {
     "data": {
      "image/png": "[encoded data removed]",
      "text/plain": [
       "<Figure size 576x576 with 1 Axes>"
      ]
     },
     "metadata": {
      "needs_background": "light"
     },
     "output_type": "display_data"
    }
   ],
   "source": [
    "modelsDict = {xgbChurn : 'xgbChurn', svcChurn : 'svcChurn'}\n",
    "\n",
    "plt.figure(figsize=(8, 8))\n",
    "for model, name in modelsDict.items():\n",
    "    # get probabilities of class membership for instances in test set (2nd col is probability for CHURN)\n",
    "    try:\n",
    "        probabilities = model.predict_proba(test_prepared)\n",
    "    except:\n",
    "        probabilities = model.predict_proba(test_reduced_96)\n",
    "    # calculate ROC curve elements\n",
    "    fpr, tpr, thresholds = roc_curve(testLabels, probabilities[:,1])\n",
    "    roc_auc = roc_auc_score(testLabels, probabilities[:,1])\n",
    "    # plot ROC curve\n",
    "    plt.plot(fpr, tpr, label= \"{} (area = {:.3f})\".format(name, roc_auc))\n",
    "    plt.plot([0, 1], [0, 1], 'k--')\n",
    "# styling\n",
    "plt.xlim([0.0, 1.0])\n",
    "plt.ylim([0.0, 1.0])\n",
    "plt.xlabel('False Positive Rate (1 - Specificity)', size=12)\n",
    "plt.ylabel('True Positive Rate (Sensitivity)', size=12)\n",
    "plt.title('ROC Curve', size=12)\n",
    "plt.legend(loc='best');"
   ]
  },
  {
   "cell_type": "markdown",
   "metadata": {},
   "source": [
    "### Calculate some metrics"
   ]
  },
  {
   "cell_type": "code",
   "execution_count": 37,
   "metadata": {},
   "outputs": [
    {
     "name": "stdout",
     "output_type": "stream",
     "text": [
      "\n",
      "xgbChurn\n",
      "CHURNERS identified correctly (true positives): 1765 (0.53% of total CHURN)\n",
      "ACTIVES misclassified as CHURN (false positives): 810 (0.31% of all positives)\n",
      "Precision: 0.69\n",
      "\n",
      "svcChurn\n",
      "CHURNERS identified correctly (true positives): 1989 (0.60% of total CHURN)\n",
      "ACTIVES misclassified as CHURN (false positives): 1181 (0.37% of all positives)\n",
      "Precision: 0.63\n"
     ]
    }
   ],
   "source": [
    "for model, name in modelsDict.items():\n",
    "    try:\n",
    "        predictions = model.predict(test_prepared)\n",
    "    except:\n",
    "        predictions = model.predict(test_reduced_96)\n",
    "    tn, fp, fn, tp = confusion_matrix(testLabels, predictions).ravel()\n",
    "    print(\"\\n{}\".format(name))\n",
    "    print(\"CHURNERS identified correctly (true positives): {} ({:.2f}% of total CHURN)\".format(tp, (tp/(tp+fn))))\n",
    "    print(\"ACTIVES misclassified as CHURN (false positives): {} ({:.2f}% of all positives)\".format(fp, (fp/(tp+fp))))\n",
    "    print(\"Precision: {:.2f}\".format(tp/(tp+fp)))\n",
    "    "
   ]
  },
  {
   "cell_type": "markdown",
   "metadata": {},
   "source": [
    "### Analyze precision for different levels of predicted churn probability"
   ]
  },
  {
   "cell_type": "code",
   "execution_count": 38,
   "metadata": {},
   "outputs": [
    {
     "name": "stdout",
     "output_type": "stream",
     "text": [
      "\n",
      "xgbChurn\n",
      "Probability threshold for CHURN prediction: 50.0% (100.00% of all CHURN predictions)\n",
      "  Precision: 68.54%\n",
      "Probability threshold for CHURN prediction: 60.0% (67.77% of all CHURN predictions)\n",
      "  Precision: 73.47%\n",
      "Probability threshold for CHURN prediction: 70.0% (39.42% of all CHURN predictions)\n",
      "  Precision: 77.73%\n",
      "Probability threshold for CHURN prediction: 80.0% (18.64% of all CHURN predictions)\n",
      "  Precision: 82.71%\n",
      "Probability threshold for CHURN prediction: 90.0% (5.51% of all CHURN predictions)\n",
      "  Precision: 86.62%\n",
      "\n",
      "svcChurn\n",
      "Probability threshold for CHURN prediction: 50.0% (81.23% of all CHURN predictions)\n",
      "  Precision: 70.54%\n",
      "Probability threshold for CHURN prediction: 60.0% (55.05% of all CHURN predictions)\n",
      "  Precision: 74.28%\n",
      "Probability threshold for CHURN prediction: 70.0% (32.02% of all CHURN predictions)\n",
      "  Precision: 78.15%\n",
      "Probability threshold for CHURN prediction: 80.0% (15.14% of all CHURN predictions)\n",
      "  Precision: 82.58%\n",
      "Probability threshold for CHURN prediction: 90.0% (4.48% of all CHURN predictions)\n",
      "  Precision: 86.43%\n"
     ]
    }
   ],
   "source": [
    "# combine probabilities for CHURN, predictions and testLabels in dataframe ordered by probability (highest)\n",
    "for model, name in modelsDict.items():\n",
    "    try:\n",
    "        predictions = model.predict(test_prepared)\n",
    "        probabilities = model.predict_proba(test_prepared)[:,1]\n",
    "    except:\n",
    "        predictions = model.predict(test_reduced_96)\n",
    "        probalities = model.predict_proba(test_reduced_96)[:,1]\n",
    "    finalResultsDF = pd.DataFrame({'proba': probabilities, 'pred' : predictions, 'label' : np.array(testLabels)}\n",
    "                             ).sort_values('proba', ascending=False).reset_index().drop('index', axis=1)\n",
    "    totalChurnPred = finalResultsDF['pred'].sum()\n",
    "    print(\"\\n{}\".format(name))\n",
    "    # calculate some metrics for different thresholds of predicted CHURN probabilty\n",
    "    probThresholds = np.arange(0.5, 1.0, 0.1)\n",
    "    for threshold in probThresholds:\n",
    "        df = finalResultsDF[finalResultsDF['proba'] >= threshold]\n",
    "        tn, fp, fn, tp = confusion_matrix(df['label'], df['pred']).ravel()\n",
    "        print(\"Probability threshold for CHURN prediction: {:.1f}% ({:.2f}% of all CHURN predictions)\".format(\n",
    "            threshold*100, (len(df)/totalChurnPred)*100))\n",
    "        print(\"  Precision: {:.2f}%\".format((tp/(tp+fp)*100)))\n",
    "    "
   ]
  },
  {
   "cell_type": "markdown",
   "metadata": {},
   "source": [
    "### Plot precision-recall curve"
   ]
  },
  {
   "cell_type": "code",
   "execution_count": 40,
   "metadata": {},
   "outputs": [
    {
     "data": {
      "image/png": "[encoded data removed]",
      "text/plain": [
       "<Figure size 1152x360 with 1 Axes>"
      ]
     },
     "metadata": {
      "needs_background": "light"
     },
     "output_type": "display_data"
    }
   ],
   "source": [
    "plt.figure(figsize=(16,5))\n",
    "for model, name in modelsDict.items():\n",
    "    # get probabilities of class membership for instances in test set (2nd col is probability for CHURN)\n",
    "    try:\n",
    "        probabilities = model.predict_proba(test_prepared)[:,1]\n",
    "    except:\n",
    "        probabilities = model.predict_proba(test_reduced_96)[:,1]\n",
    "    # calculate precision-recall curve (xgbChurn)\n",
    "    average_precision = average_precision_score(testLabels, probabilities)\n",
    "    precision, recall, thresholds = precision_recall_curve(testLabels, probabilities)\n",
    "    # plot precision-recall curve\n",
    "    plt.plot(recall, precision, label=name)\n",
    "# styling\n",
    "plt.xlabel('Recall')\n",
    "plt.ylabel('Precision')\n",
    "plt.ylim([0.0, 1.0])\n",
    "plt.xlim([0.0, 1.0])\n",
    "plt.title('2-class Precision-Recall curve'.format( average_precision))\n",
    "plt.legend(loc='best');"
   ]
  },
  {
   "cell_type": "markdown",
   "metadata": {},
   "source": [
    "# Back-up"
   ]
  },
  {
   "cell_type": "code",
   "execution_count": 79,
   "metadata": {},
   "outputs": [
    {
     "data": {
      "image/png": "[encoded data removed]",
      "text/plain": [
       "<Figure size 432x288 with 1 Axes>"
      ]
     },
     "metadata": {},
     "output_type": "display_data"
    }
   ],
   "source": [
    "# quickcheck distribution of returned probabilities for an instance beeing classified as CHURN\n",
    "churnProbability = xgbChurn.predict_proba(test_prepared)[:,1]\n",
    "churnPrediction = xgbChurn.predict(test_prepared)\n",
    "sns.distplot(churnProbability, color='rebeccapurple')\n",
    "plt.title('Distribution of probabilities for predicting CHURN', size=12);"
   ]
  },
  {
   "cell_type": "markdown",
   "metadata": {},
   "source": [
    "**Observation**: The model seems more confident in predicting with high probability which instances are ACTIVE than which are CHURN."
   ]
  },
  {
   "cell_type": "markdown",
   "metadata": {},
   "source": [
    "### Re-examine feature importances"
   ]
  },
  {
   "cell_type": "code",
   "execution_count": 106,
   "metadata": {},
   "outputs": [
    {
     "name": "stdout",
     "output_type": "stream",
     "text": [
      "[5.10253972e-02 3.87290556e-02 6.36988649e-02 1.07871647e-01\n",
      " 1.27256735e-01 4.28111936e-02 2.56695980e-01 3.15932290e-02\n",
      " 3.49015251e-02 7.61918124e-02 2.38280840e-03 2.54162905e-03\n",
      " 1.19413224e-03 9.29175522e-04 1.52691598e-03 1.10136338e-03\n",
      " 2.26759015e-02 6.74726197e-04 7.39115312e-04 2.69578991e-04\n",
      " 8.41684837e-04 9.69643118e-04 1.90888004e-04 1.98652006e-03\n",
      " 1.16290273e-04 0.00000000e+00 9.22670819e-04 8.98625595e-04\n",
      " 7.31112340e-04 3.95961279e-04 1.03536025e-04 8.71681315e-04\n",
      " 1.84589493e-03 5.75423151e-04 8.42032937e-04 9.06338114e-04\n",
      " 1.13179455e-03 1.59392186e-03 4.13788598e-04 8.28415605e-04\n",
      " 7.60654070e-05 3.25698229e-04 1.13999466e-03 1.66510133e-03\n",
      " 3.63335610e-04 5.97432020e-04 6.18403687e-04 1.04399664e-03\n",
      " 7.88998258e-04 8.07459175e-04 5.07123456e-04 2.95128865e-04\n",
      " 4.04955866e-05 5.14245786e-04 3.26728611e-04 5.22911723e-04\n",
      " 6.32108261e-04 3.38023826e-04 1.71783553e-04 4.23072022e-04\n",
      " 1.45879749e-05 5.67488673e-04 5.22366877e-04 1.04381624e-03\n",
      " 3.34208105e-04 1.44302018e-03 8.42970637e-04 1.54738801e-04\n",
      " 8.86815598e-04 2.26185728e-05 1.26366284e-03 1.01037415e-03\n",
      " 0.00000000e+00 8.83709802e-04 4.06553913e-04 4.68708023e-04\n",
      " 2.26484041e-04 1.49016548e-05 5.15353005e-04 5.43483384e-04\n",
      " 2.03965345e-04 1.57900401e-04 6.06862919e-04 1.66470816e-05\n",
      " 5.06276676e-04 1.89202854e-04 4.08449113e-04 3.14687163e-05\n",
      " 0.00000000e+00 1.68604930e-04 7.87224233e-04 8.64781720e-04\n",
      " 3.75308936e-04 1.38442163e-03 2.18485102e-04 8.74816580e-04\n",
      " 1.00213125e-04 2.87504705e-04 2.70179420e-03 5.76356453e-04\n",
      " 4.27823701e-04 9.07077228e-04 1.35132022e-03 4.07548131e-04\n",
      " 6.94212424e-04 3.56277939e-06 1.39004688e-04 1.15817080e-03\n",
      " 1.34519954e-03 3.62778467e-04 1.41890206e-04 1.33413391e-03\n",
      " 1.00081835e-03 1.44715814e-04 6.57385633e-04 2.29822105e-04\n",
      " 7.09097320e-04 4.53241352e-04 3.36418095e-04 2.51422578e-04\n",
      " 5.13090453e-04 3.59575914e-04 8.14243073e-04 5.76441328e-04\n",
      " 6.22705986e-04 3.27372553e-04 1.80301309e-04 8.38712559e-04\n",
      " 1.70302158e-03 4.56171338e-04 1.65844524e-03 5.20437217e-03\n",
      " 1.99027106e-03 8.32621873e-04 3.48785961e-04 2.52918974e-04\n",
      " 2.20662625e-04 1.07580417e-03 1.73882231e-03 3.02776731e-04\n",
      " 4.62067631e-04 1.99642490e-04 5.00339303e-04 5.93199714e-04\n",
      " 2.71038271e-03 4.50733981e-04 8.63116166e-05 8.60479017e-04\n",
      " 6.23944034e-04 5.11915973e-04 2.80508287e-04 3.58608035e-04\n",
      " 1.09277900e-03 1.09202899e-04 3.07557046e-04 6.60894205e-04\n",
      " 8.71289066e-04 3.64956628e-04 3.70240684e-04 1.61032612e-04\n",
      " 2.95251802e-04 1.68206340e-04 1.51897621e-04 5.40439194e-04\n",
      " 4.94088180e-04 5.39103027e-04 7.64918975e-04 4.80272208e-04\n",
      " 2.44620806e-04 7.43815478e-04 6.85860293e-04 7.31007503e-04\n",
      " 8.43211681e-04 9.07164688e-04 1.14762987e-03 6.15393826e-04\n",
      " 2.50346507e-04 8.05691298e-04 5.94077259e-04 6.08666709e-04\n",
      " 2.49038218e-04 6.43243431e-04 9.58589535e-04 6.27122591e-04\n",
      " 8.68156883e-04 5.76495946e-04 7.11305915e-04 9.22074821e-04\n",
      " 3.99309053e-04 1.12103011e-03 4.75047388e-04 6.23751681e-04\n",
      " 3.30547330e-04 6.24433609e-04 1.95234456e-04 3.55283388e-04\n",
      " 1.50670154e-03 9.45883104e-04 9.48018689e-04 7.37049455e-04\n",
      " 6.71127954e-04 2.41906984e-04 1.01795529e-03 5.01747207e-04\n",
      " 7.34420640e-04 7.39128150e-04 2.18215057e-04 7.37872210e-04\n",
      " 8.72934199e-04 4.25586973e-04 4.67861414e-04 7.27265574e-04\n",
      " 7.75521886e-04 4.24185319e-04 5.90312002e-04 1.35280966e-04\n",
      " 4.44187053e-04 9.50183910e-04 2.68970939e-04 8.73438654e-04\n",
      " 9.50746414e-04 4.63459587e-04 7.18005375e-04 8.44103864e-04\n",
      " 8.71785392e-04 5.79499106e-04 6.20388097e-04 2.53820133e-04]\n"
     ]
    }
   ],
   "source": [
    "xgbChurnImportances = xgbChurn.feature_importances_\n",
    "print(xgbChurnImportances)"
   ]
  },
  {
   "cell_type": "code",
   "execution_count": 107,
   "metadata": {
    "scrolled": true
   },
   "outputs": [
    {
     "data": {
      "image/png": "[encoded data removed]",
      "text/plain": [
       "<Figure size 1152x360 with 1 Axes>"
      ]
     },
     "metadata": {},
     "output_type": "display_data"
    }
   ],
   "source": [
    "# reconstruct feature names (numCols) & one-hot-encoded-attribute names (catCols) for dimensions in test_prepared\n",
    "encoderTest = fullPipelineTest.named_transformers_['encoder']\n",
    "oneHotAttribs = []\n",
    "for sublist in list(encoderTest.categories_):\n",
    "    for item in sublist:\n",
    "        oneHotAttribs.append(item)\n",
    "attribs = numCols + oneHotAttribs\n",
    "# zip feature names and importances\n",
    "featureImportancesTest = (sorted(zip(xgbChurnImportances, attribs), reverse=True))\n",
    "# create dataframe of featureImportancesTest, select features with biggest weights\n",
    "dfPlot = pd.DataFrame(featureImportancesTest)\n",
    "dfPlot = dfPlot[dfPlot[0] > 0.005]    \n",
    "# plot features with biggest weight\n",
    "fig = plt.figure(figsize = (16,5))\n",
    "plt.bar(np.arange(len(dfPlot)), dfPlot[0], width = 0.6, align=\"center\", color = 'yellow', \\\n",
    "      label = \"Feature / Attribute Weight\")\n",
    "plt.bar(np.arange(len(dfPlot)) - 0.3, np.cumsum(dfPlot[0]), width = 0.2, align = \"center\", color = 'rebeccapurple', \\\n",
    "      label = \"Cumulative Feature Weight\")\n",
    "# styling\n",
    "plt.title(\"Normalized Weights for Predictive Features / Attributes with Weight > 0.005\", fontsize = 12)\n",
    "plt.ylabel(\"Weights\", fontsize = 12)\n",
    "plt.xlabel(\"Features / Attributes\", fontsize = 12)\n",
    "plt.xticks(np.arange(len(dfPlot)), dfPlot[1], rotation=90)\n",
    "plt.legend(loc = 'upper left');"
   ]
  },
  {
   "cell_type": "markdown",
   "metadata": {},
   "source": [
    "**Conclusions:**\n",
    "- it is very interesting to see how many more of the features have got a weight > 0 (nearly all). That looked very different for the first Feature Importance calculation with the simple XGB model.\n",
    "- It is also remarkable how the order of the most important features has changed. For example dist_metres is now less important than MEAN_MILEAGE and LAST_MILEAGE - it seems the more complex model has been able to exploit those latter features better than the simpler one."
   ]
  },
  {
   "cell_type": "markdown",
   "metadata": {},
   "source": [
    "## old code"
   ]
  },
  {
   "cell_type": "code",
   "execution_count": 94,
   "metadata": {},
   "outputs": [
    {
     "data": {
      "image/png": "[encoded data removed]",
      "text/plain": [
       "<Figure size 576x576 with 1 Axes>"
      ]
     },
     "metadata": {},
     "output_type": "display_data"
    }
   ],
   "source": [
    "# calculate precision-recall curve (xgbChurn)\n",
    "average_precision = average_precision_score(testLabels, churnProbability)\n",
    "precision, recall, thresholds = precision_recall_curve(\n",
    "    testLabels, churnProbability)\n",
    "# plot precision-recall curve\n",
    "plt.figure(figsize=(8,8))\n",
    "plt.step(recall, precision, color='rebeccapurple', alpha=0.2, where='post')\n",
    "# plt.fill_between(recall, precision, alpha=0.2, color='rebeccapurple')\n",
    "# styling\n",
    "plt.xlabel('Recall')\n",
    "plt.ylabel('Precision')\n",
    "plt.ylim([0.0, 1.05])\n",
    "plt.xlim([0.0, 1.0])\n",
    "plt.title('2-class Precision-Recall curve: AP={0:0.2f}'.format( average_precision));"
   ]
  },
  {
   "cell_type": "code",
   "execution_count": null,
   "metadata": {},
   "outputs": [],
   "source": [
    "# old pipeline\n",
    "\n",
    "df = train\n",
    "\n",
    "numCols = list(df.select_dtypes(include = ['float64', 'int64']).columns)\n",
    "catCols = list(df.select_dtypes(include = 'category').columns)\n",
    "\n",
    "# make sure every value in all of the cat column is of the same dtype for the encoding - NaN removal has changed some objects \n",
    "for col in catCols:\n",
    "    df[col] = df[col].astype(str)\n",
    "\n",
    "numPipeline = Pipeline([\n",
    "    ('std_scaler', StandardScaler()),\n",
    "])\n",
    "\n",
    "catPipeline = Pipeline([\n",
    "    ('encoder', OneHotEncoder()),\n",
    "])\n",
    "\n",
    "fullPipeline = ColumnTransformer([\n",
    "        (\"num\", numPipeline, numCols),\n",
    "        (\"cat\", catPipeline, catCols),\n",
    "    ])\n",
    "\n",
    "train_prepared = fullPipeline.fit_transform(df)"
   ]
  },
  {
   "cell_type": "code",
   "execution_count": null,
   "metadata": {},
   "outputs": [],
   "source": [
    "# # Create the RFE object and compute a cross-validated score\n",
    "# logReg = LogisticRegression()\n",
    "# rfecv = RFECV(estimator=logReg, step=1, cv=StratifiedKFold(2), scoring=make_scorer(fbeta_score, beta=0.5))\n",
    "# rfecv.fit(train_prepared, trainLabels)\n",
    "\n",
    "# print(\"Optimal number of features : %d\" % rfecv.n_features_)\n",
    "\n",
    "# # Plot number of features VS. cross-validation scores\n",
    "# plt.figure()\n",
    "# plt.xlabel(\"Number of features selected\")\n",
    "# plt.ylabel(\"Cross validation score\")\n",
    "# plt.plot(range(1, len(rfecv.grid_scores_) + 1), rfecv.grid_scores_);"
   ]
  },
  {
   "cell_type": "code",
   "execution_count": null,
   "metadata": {},
   "outputs": [],
   "source": [
    "# rfecv.support_"
   ]
  },
  {
   "cell_type": "code",
   "execution_count": null,
   "metadata": {},
   "outputs": [],
   "source": [
    "\n",
    "# sorted(scores.keys())\n",
    "\n",
    "# print(scores['test_score'])\n",
    "# print(\"F-Beta: {:.2f} (+/- {:.2f})\".format(np.mean(scores['test_score']), np.std(scores['test_score']) * 2))"
   ]
  }
 ],
 "metadata": {
  "kernelspec": {
   "display_name": "Python [conda env:Anaconda3]",
   "language": "python",
   "name": "conda-env-Anaconda3-py"
  },
  "language_info": {
   "codemirror_mode": {
    "name": "ipython",
    "version": 3
   },
   "file_extension": ".py",
   "mimetype": "text/x-python",
   "name": "python",
   "nbconvert_exporter": "python",
   "pygments_lexer": "ipython3",
   "version": "3.6.3"
  }
 },
 "nbformat": 4,
 "nbformat_minor": 2
}
