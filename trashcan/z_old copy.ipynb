{
 "cells": [
  {
   "cell_type": "markdown",
   "metadata": {},
   "source": [
    "## Load packages and  the clean training and  test sets"
   ]
  },
  {
   "cell_type": "code",
   "execution_count": 2,
   "metadata": {},
   "outputs": [],
   "source": [
    "import numpy as np\n",
    "import pandas as pd\n",
    "import datetime\n",
    "from tqdm import tqdm, tqdm_notebook\n",
    "\n",
    "import funCleaning, funEDA, funChurn\n",
    "\n",
    "%matplotlib inline\n",
    "import matplotlib.pyplot as plt\n",
    "import seaborn as sns; sns.set()\n",
    "\n",
    "\n",
    "from sklearn.pipeline import Pipeline\n",
    "from sklearn.compose import ColumnTransformer\n",
    "from sklearn.preprocessing import StandardScaler, OneHotEncoder\n",
    "from sklearn.model_selection import cross_validate, StratifiedKFold, GridSearchCV, StratifiedShuffleSplit, learning_curve\n",
    "from sklearn.feature_selection import SelectFromModel, RFECV\n",
    "from sklearn.decomposition import PCA, TruncatedSVD\n",
    "from sklearn.metrics import make_scorer, fbeta_score, average_precision_score,  roc_curve, roc_auc_score, precision_recall_curve\n",
    "# from sklearn.base import BaseEstimator, TransformerMixin  # to create custom transformers\n",
    "from sklearn.externals import joblib\n",
    "\n",
    "from sklearn.linear_model import LogisticRegression\n",
    "from sklearn.neighbors import KNeighborsClassifier\n",
    "from sklearn.svm import SVC\n",
    "from sklearn.naive_bayes import GaussianNB\n",
    "from sklearn.ensemble import RandomForestClassifier, GradientBoostingClassifier\n",
    "\n",
    "# display all columns of df\n",
    "from IPython.display import display\n",
    "pd.options.display.max_columns = None\n",
    "pd.options.display.max_rows = 80"
   ]
  },
  {
   "cell_type": "code",
   "execution_count": 6,
   "metadata": {},
   "outputs": [],
   "source": [
    "# load training and test sets generated at the beginning of EDA ipynb\n",
    "trainSet = pd.read_csv('churnTrainSet.csv', low_memory=False)\n",
    "testSet = pd.read_csv('churnTestSet.csv', low_memory=False)"
   ]
  },
  {
   "cell_type": "markdown",
   "metadata": {},
   "source": [
    "## Perform cleaning functions defined in EDA-Notebook\n",
    "\n",
    "(but not yet the outlier and NaN removal)"
   ]
  },
  {
   "cell_type": "code",
   "execution_count": 7,
   "metadata": {},
   "outputs": [],
   "source": [
    "# load lists with columns to delete, dtypes to fix, columns to log-transform (stored in EDA ipynb)\n",
    "%store -r colsToDel\n",
    "%store -r colsToCat\n",
    "%store -r colsToLog10"
   ]
  },
  {
   "cell_type": "code",
   "execution_count": 10,
   "metadata": {
    "scrolled": true
   },
   "outputs": [
    {
     "data": {
      "text/plain": [
       "'car_nr successfully deleted'"
      ]
     },
     "metadata": {},
     "output_type": "display_data"
    },
    {
     "data": {
      "text/plain": [
       "'ref_dt successfully deleted'"
      ]
     },
     "metadata": {},
     "output_type": "display_data"
    },
    {
     "data": {
      "text/plain": [
       "'ACCIDENT_CAR successfully deleted'"
      ]
     },
     "metadata": {},
     "output_type": "display_data"
    },
    {
     "data": {
      "text/plain": [
       "'DESCRIPTION_DE successfully deleted'"
      ]
     },
     "metadata": {},
     "output_type": "display_data"
    },
    {
     "data": {
      "text/plain": [
       "'DESCRIPTION_DE2 successfully deleted'"
      ]
     },
     "metadata": {},
     "output_type": "display_data"
    },
    {
     "data": {
      "text/plain": [
       "'BUDGET_TYPE_IMPORT successfully deleted'"
      ]
     },
     "metadata": {},
     "output_type": "display_data"
    },
    {
     "data": {
      "text/plain": [
       "'SALES_TYPE_IMPORT successfully deleted'"
      ]
     },
     "metadata": {},
     "output_type": "display_data"
    },
    {
     "data": {
      "text/plain": [
       "'FUNCTION_TYPE_UID successfully deleted'"
      ]
     },
     "metadata": {},
     "output_type": "display_data"
    },
    {
     "data": {
      "text/plain": [
       "'TITLE successfully deleted'"
      ]
     },
     "metadata": {},
     "output_type": "display_data"
    },
    {
     "data": {
      "text/plain": [
       "'POSITION successfully deleted'"
      ]
     },
     "metadata": {},
     "output_type": "display_data"
    },
    {
     "data": {
      "text/plain": [
       "'EVT_BIRTH successfully deleted'"
      ]
     },
     "metadata": {},
     "output_type": "display_data"
    },
    {
     "data": {
      "text/plain": [
       "'NAME successfully deleted'"
      ]
     },
     "metadata": {},
     "output_type": "display_data"
    },
    {
     "data": {
      "text/plain": [
       "'PERSON_CITY successfully deleted'"
      ]
     },
     "metadata": {},
     "output_type": "display_data"
    },
    {
     "data": {
      "text/plain": [
       "'SECTOR_UID successfully deleted'"
      ]
     },
     "metadata": {},
     "output_type": "display_data"
    },
    {
     "data": {
      "text/plain": [
       "'IS_RETAIL_PARTNER successfully deleted'"
      ]
     },
     "metadata": {},
     "output_type": "display_data"
    },
    {
     "data": {
      "text/plain": [
       "'IS_SERVICE_PARTNER successfully deleted'"
      ]
     },
     "metadata": {},
     "output_type": "display_data"
    },
    {
     "data": {
      "text/plain": [
       "'RATING_UID successfully deleted'"
      ]
     },
     "metadata": {},
     "output_type": "display_data"
    },
    {
     "data": {
      "text/plain": [
       "'PARTNER_ADRESS_TYPE_UID successfully deleted'"
      ]
     },
     "metadata": {},
     "output_type": "display_data"
    },
    {
     "data": {
      "text/plain": [
       "'Altersklasse5J successfully deleted'"
      ]
     },
     "metadata": {},
     "output_type": "display_data"
    },
    {
     "data": {
      "text/plain": [
       "'Kanton successfully deleted'"
      ]
     },
     "metadata": {},
     "output_type": "display_data"
    },
    {
     "data": {
      "text/plain": [
       "'CAR_OWNER_JOIN_NR successfully deleted'"
      ]
     },
     "metadata": {},
     "output_type": "display_data"
    },
    {
     "data": {
      "text/plain": [
       "'WEMFWirtschaftsgebiet successfully deleted'"
      ]
     },
     "metadata": {},
     "output_type": "display_data"
    },
    {
     "data": {
      "text/plain": [
       "'PERSON_STREET successfully deleted'"
      ]
     },
     "metadata": {},
     "output_type": "display_data"
    },
    {
     "data": {
      "text/plain": [
       "'PERSON_ZIP_CODE successfully deleted'"
      ]
     },
     "metadata": {},
     "output_type": "display_data"
    },
    {
     "data": {
      "text/plain": [
       "'PARTNER_STREET successfully deleted'"
      ]
     },
     "metadata": {},
     "output_type": "display_data"
    },
    {
     "data": {
      "text/plain": [
       "'PARTNER_ZIP_CODE successfully deleted'"
      ]
     },
     "metadata": {},
     "output_type": "display_data"
    },
    {
     "data": {
      "text/plain": [
       "'PARTNER_LAT successfully deleted'"
      ]
     },
     "metadata": {},
     "output_type": "display_data"
    },
    {
     "data": {
      "text/plain": [
       "'PARTNER_LNG successfully deleted'"
      ]
     },
     "metadata": {},
     "output_type": "display_data"
    },
    {
     "data": {
      "text/plain": [
       "'PARTNER_ADDRESS successfully deleted'"
      ]
     },
     "metadata": {},
     "output_type": "display_data"
    },
    {
     "data": {
      "text/plain": [
       "'PARTNER_COMPANY_NR successfully deleted'"
      ]
     },
     "metadata": {},
     "output_type": "display_data"
    },
    {
     "data": {
      "text/plain": [
       "'Sprachregion successfully deleted'"
      ]
     },
     "metadata": {},
     "output_type": "display_data"
    },
    {
     "data": {
      "text/plain": [
       "'SUM_INVOICE_AMOUNT_IN_SERVICE successfully deleted'"
      ]
     },
     "metadata": {},
     "output_type": "display_data"
    },
    {
     "data": {
      "text/plain": [
       "'Altersklasse1J successfully deleted'"
      ]
     },
     "metadata": {},
     "output_type": "display_data"
    },
    {
     "data": {
      "text/plain": [
       "'dist_seconds successfully deleted'"
      ]
     },
     "metadata": {},
     "output_type": "display_data"
    },
    {
     "data": {
      "text/plain": [
       "'ACTIVE successfully deleted'"
      ]
     },
     "metadata": {},
     "output_type": "display_data"
    },
    {
     "data": {
      "text/plain": [
       "'KANTON_LICENCE_PLATE successfully deleted'"
      ]
     },
     "metadata": {},
     "output_type": "display_data"
    },
    {
     "data": {
      "text/plain": [
       "'LAST_EVT successfully deleted'"
      ]
     },
     "metadata": {},
     "output_type": "display_data"
    },
    {
     "data": {
      "text/plain": [
       "'FIRST_EVT successfully deleted'"
      ]
     },
     "metadata": {},
     "output_type": "display_data"
    },
    {
     "data": {
      "text/plain": [
       "'EXTERIOR_COLOR_DE successfully deleted'"
      ]
     },
     "metadata": {},
     "output_type": "display_data"
    },
    {
     "data": {
      "text/plain": [
       "'INTERIOR_COLOR_DE successfully deleted'"
      ]
     },
     "metadata": {},
     "output_type": "display_data"
    }
   ],
   "source": [
    "# disable warning\n",
    "pd.set_option('mode.chained_assignment', None)\n",
    "\n",
    "# create pipeline to clean training set with same functions as used / defined in EDA notebook\n",
    "trainSet = (trainSet\n",
    " .pipe(funCleaning.fixDtypes, colsToCat=colsToCat)\n",
    " .pipe(funChurn.funCleanNumericals)\n",
    " .pipe(funCleaning.colsToLog10, colsToLog10=colsToLog10)\n",
    " .pipe(funChurn.funCleanCategoricals)\n",
    " .pipe(funChurn.funCleanStrings)\n",
    " .pipe(funChurn.funCleanMissingStates)\n",
    " .pipe(funCleaning.delCols, colsToDel=colsToDel)\n",
    ");"
   ]
  },
  {
   "cell_type": "code",
   "execution_count": 11,
   "metadata": {},
   "outputs": [
    {
     "name": "stdout",
     "output_type": "stream",
     "text": [
      "<class 'pandas.core.frame.DataFrame'>\n",
      "Int64Index: 41610 entries, 0 to 45421\n",
      "Data columns (total 42 columns):\n",
      "target_event               41610 non-null int64\n",
      "NUM_CONSEC_SERVICES        41610 non-null int64\n",
      "SUM_INVOICE_AMOUNT_log     29776 non-null float64\n",
      "NUM_EVENTS_log             41610 non-null float64\n",
      "LAST_MILEAGE_log           41610 non-null float64\n",
      "MEAN_MILEAGE_PER_MNTH      41610 non-null float64\n",
      "AVG_DIFF_MNTH              41610 non-null int64\n",
      "age_mnth                   41610 non-null int64\n",
      "INSPECTION_INTERVAL_UID    41610 non-null category\n",
      "LIST_PRICE_log             41609 non-null float64\n",
      "END_CUSTOMER_STATUS_UID    41609 non-null category\n",
      "CAR_BRAND_UID              41610 non-null category\n",
      "FUEL_TYPE_UID              41609 non-null category\n",
      "GEAR_TYPE_UID              41609 non-null category\n",
      "WHEEL_DRIVE_UID            41609 non-null category\n",
      "NUMBER_OF_DOORS_UID        40758 non-null category\n",
      "GEAR_COUNT                 41609 non-null category\n",
      "BASE_MARGIN                41610 non-null category\n",
      "SALES_TYPE                 41610 non-null category\n",
      "PERSON_LANGUAGE_UID        41610 non-null category\n",
      "PERSON_STATE               41477 non-null category\n",
      "PERSON_ADRESS_COUNT        41610 non-null category\n",
      "ownerAge                   38765 non-null float64\n",
      "REGION_UID                 41610 non-null category\n",
      "PARTNER_LANGUAGE_UID       41610 non-null category\n",
      "IS_PREFERRED_PARTNER       41610 non-null category\n",
      "IS_DEALER                  41610 non-null category\n",
      "PARTNER_STATE              41610 non-null category\n",
      "PARTNER_CITY               41610 non-null category\n",
      "PARTNER_ADRESS_COUNT       41610 non-null category\n",
      "Haushaltstyp               28112 non-null category\n",
      "Urbanitaet                 28112 non-null category\n",
      "Wohneigentumverhaeltnis    28112 non-null category\n",
      "Haushaltsgroesse           28112 non-null category\n",
      "KaufkraftindexGemeinde     28112 non-null category\n",
      "Fahrzeugtyp                28112 non-null category\n",
      "Haushaltseinkommen         28112 non-null category\n",
      "Fahrzeugklasse             28112 non-null category\n",
      "Lebensphase                28112 non-null category\n",
      "HaushaltsgroesseFein       28112 non-null category\n",
      "Fahrzeugart                28111 non-null category\n",
      "dist_metres_log            41610 non-null float64\n",
      "dtypes: category(31), float64(7), int64(4)\n",
      "memory usage: 5.1 MB\n"
     ]
    }
   ],
   "source": [
    "#check\n",
    "trainSet.info()"
   ]
  },
  {
   "cell_type": "markdown",
   "metadata": {},
   "source": [
    "## Remove NaN and outliers from training set"
   ]
  },
  {
   "cell_type": "code",
   "execution_count": 12,
   "metadata": {},
   "outputs": [
    {
     "data": {
      "text/plain": [
       "'ownerAge - median value to impute: 49.0'"
      ]
     },
     "metadata": {},
     "output_type": "display_data"
    },
    {
     "data": {
      "text/plain": [
       "'SUM_INVOICE_AMOUNT_log - median value to impute: 2.9860772029124125'"
      ]
     },
     "metadata": {},
     "output_type": "display_data"
    },
    {
     "data": {
      "text/plain": [
       "'NUMBER_OF_DOORS_UID - most frequent value to impute: 5.0'"
      ]
     },
     "metadata": {},
     "output_type": "display_data"
    }
   ],
   "source": [
    "# remove NaN\n",
    "colsToImputeNum = ['ownerAge', 'SUM_INVOICE_AMOUNT_log']\n",
    "colsToImputeCat = ['NUMBER_OF_DOORS_UID']\n",
    "colsToDrop = ['Haushaltstyp', 'Urbanitaet', 'Wohneigentumverhaeltnis', 'Haushaltsgroesse', 'KaufkraftindexGemeinde', \n",
    "             'Fahrzeugtyp', 'Haushaltseinkommen', 'Fahrzeugklasse', 'Lebensphase', 'HaushaltsgroesseFein', 'Fahrzeugart']\n",
    "\n",
    "trainSet = funCleaning.nanRemoval(trainSet, dropAll=True, colsToImputeNum=colsToImputeNum, \n",
    "                                  colsToImputeCat=colsToImputeCat, colsToDrop=colsToDrop)\n"
   ]
  },
  {
   "cell_type": "code",
   "execution_count": 13,
   "metadata": {},
   "outputs": [
    {
     "name": "stdout",
     "output_type": "stream",
     "text": [
      "target_event\n",
      "Outliers removed: 0\n",
      "\n",
      "NUM_CONSEC_SERVICES\n",
      "Outliers removed: 376\n",
      "\n",
      "SUM_INVOICE_AMOUNT_log\n",
      "Outliers removed: 3300\n",
      "\n",
      "NUM_EVENTS_log\n",
      "Outliers removed: 9\n",
      "\n",
      "LAST_MILEAGE_log\n",
      "Outliers removed: 598\n",
      "\n",
      "MEAN_MILEAGE_PER_MNTH\n",
      "Outliers removed: 1117\n",
      "\n",
      "AVG_DIFF_MNTH\n",
      "Outliers removed: 867\n",
      "\n",
      "age_mnth\n",
      "Outliers removed: 0\n",
      "\n",
      "LIST_PRICE_log\n",
      "Outliers removed: 175\n",
      "\n",
      "ownerAge\n",
      "Outliers removed: 30\n",
      "\n",
      "dist_metres_log\n",
      "Outliers removed: 317\n",
      "\n"
     ]
    }
   ],
   "source": [
    "# remove Outliers\n",
    "trainSet = funCleaning.outlierRemovalIQR(trainSet, dist=1.5);"
   ]
  },
  {
   "cell_type": "code",
   "execution_count": 14,
   "metadata": {},
   "outputs": [
    {
     "name": "stdout",
     "output_type": "stream",
     "text": [
      "Rows removed: 3\n"
     ]
    }
   ],
   "source": [
    "# remove categorical values that are not found in both sets (to make sure one-hot-encoding returns same number of cols)\n",
    "len1 = len(trainSet)\n",
    "trainSet = trainSet[trainSet['BASE_MARGIN'] != '7.2'] \n",
    "trainSet = trainSet[trainSet['FUEL_TYPE_UID'] != 'Elektro'] \n",
    "trainSet = trainSet[trainSet['FUEL_TYPE_UID'] != 'Plugin Hybrid Benzin']\n",
    "trainSet = trainSet[trainSet['SALES_TYPE'] != 'Praktik']\n",
    "trainSet = trainSet[trainSet['SALES_TYPE'] != 'e-up!']\n",
    "len2 = len(trainSet)\n",
    "print(\"Rows removed: {}\".format(len1-len2))"
   ]
  },
  {
   "cell_type": "code",
   "execution_count": 15,
   "metadata": {},
   "outputs": [
    {
     "name": "stdout",
     "output_type": "stream",
     "text": [
      "<class 'pandas.core.frame.DataFrame'>\n",
      "Int64Index: 34683 entries, 0 to 45419\n",
      "Data columns (total 31 columns):\n",
      "target_event               34683 non-null int64\n",
      "NUM_CONSEC_SERVICES        34683 non-null int64\n",
      "SUM_INVOICE_AMOUNT_log     34683 non-null float64\n",
      "NUM_EVENTS_log             34683 non-null float64\n",
      "LAST_MILEAGE_log           34683 non-null float64\n",
      "MEAN_MILEAGE_PER_MNTH      34683 non-null float64\n",
      "AVG_DIFF_MNTH              34683 non-null int64\n",
      "age_mnth                   34683 non-null int64\n",
      "INSPECTION_INTERVAL_UID    34683 non-null category\n",
      "LIST_PRICE_log             34683 non-null float64\n",
      "END_CUSTOMER_STATUS_UID    34683 non-null category\n",
      "CAR_BRAND_UID              34683 non-null category\n",
      "FUEL_TYPE_UID              34683 non-null category\n",
      "GEAR_TYPE_UID              34683 non-null category\n",
      "WHEEL_DRIVE_UID            34683 non-null category\n",
      "NUMBER_OF_DOORS_UID        34683 non-null category\n",
      "GEAR_COUNT                 34683 non-null category\n",
      "BASE_MARGIN                34683 non-null category\n",
      "SALES_TYPE                 34683 non-null category\n",
      "PERSON_LANGUAGE_UID        34683 non-null category\n",
      "PERSON_STATE               34683 non-null category\n",
      "PERSON_ADRESS_COUNT        34683 non-null category\n",
      "ownerAge                   34683 non-null float64\n",
      "REGION_UID                 34683 non-null category\n",
      "PARTNER_LANGUAGE_UID       34683 non-null category\n",
      "IS_PREFERRED_PARTNER       34683 non-null category\n",
      "IS_DEALER                  34683 non-null category\n",
      "PARTNER_STATE              34683 non-null category\n",
      "PARTNER_CITY               34683 non-null category\n",
      "PARTNER_ADRESS_COUNT       34683 non-null category\n",
      "dist_metres_log            34683 non-null float64\n",
      "dtypes: category(20), float64(7), int64(4)\n",
      "memory usage: 3.8 MB\n"
     ]
    }
   ],
   "source": [
    "#check\n",
    "trainSet.info()"
   ]
  },
  {
   "cell_type": "markdown",
   "metadata": {},
   "source": [
    "## Separate predictors from labels"
   ]
  },
  {
   "cell_type": "code",
   "execution_count": 16,
   "metadata": {},
   "outputs": [],
   "source": [
    "train = trainSet.drop('target_event', axis=1)  # note: .drop() creates a copy and does not affect trainSet\n",
    "trainLabels = trainSet['target_event'].copy()"
   ]
  },
  {
   "cell_type": "markdown",
   "metadata": {},
   "source": [
    "## Perform Preprocessing with Scikit-Learn Pipeline"
   ]
  },
  {
   "cell_type": "code",
   "execution_count": 17,
   "metadata": {},
   "outputs": [],
   "source": [
    "df = train\n",
    "numCols = list(df.select_dtypes(include = ['float64', 'int64']).columns)\n",
    "catCols = list(df.select_dtypes(include = 'category').columns)\n",
    "\n",
    "# make sure every value in all of the two column groups is of the same dtype for the encoding\n",
    "for col in numCols:\n",
    "    df[col] = df[col].astype(float) \n",
    "for col in catCols:\n",
    "    df[col] = df[col].astype(str)\n",
    "\n",
    "# pipeline for standardization and one-hot-encoding\n",
    "fullPipeline = ColumnTransformer([\n",
    "        ('std_scaler', StandardScaler(), numCols),\n",
    "        ('encoder', OneHotEncoder(), catCols),\n",
    "    ])\n",
    "\n",
    "train_prepared = fullPipeline.fit_transform(df)"
   ]
  },
  {
   "cell_type": "code",
   "execution_count": 18,
   "metadata": {},
   "outputs": [
    {
     "data": {
      "text/plain": [
       "<34683x228 sparse matrix of type '<class 'numpy.float64'>'\n",
       "\twith 1040490 stored elements in Compressed Sparse Row format>"
      ]
     },
     "execution_count": 18,
     "metadata": {},
     "output_type": "execute_result"
    }
   ],
   "source": [
    "# check\n",
    "train_prepared"
   ]
  },
  {
   "cell_type": "markdown",
   "metadata": {},
   "source": [
    "## Test promising models\n",
    "\n",
    "\n",
    "Train different models 'quick and dirty' and validate with stratified k-fold cross validation. Models are:\n",
    "- LogisticRegression \n",
    "- GaussianNB (Naïve Bayes) \n",
    "- KNeighborsClassifier \n",
    "- SVC \n",
    "- RandomForestClassifier \n",
    "- XGBClassifier"
   ]
  },
  {
   "cell_type": "code",
   "execution_count": 175,
   "metadata": {},
   "outputs": [],
   "source": [
    "# initialize the defined models\n",
    "classifiers = [\n",
    "    LogisticRegression(solver='liblinear'),\n",
    "    KNeighborsClassifier(3), # testscore of 76% with n=5, 74% with n=1\n",
    "    SVC(gamma='auto'), # parameter \"probability=True\" will only be set for final run to speed things up\n",
    "    GaussianNB(),\n",
    "    RandomForestClassifier(n_estimators=10),\n",
    "    GradientBoostingClassifier(n_estimators=100),\n",
    "    ]"
   ]
  },
  {
   "cell_type": "code",
   "execution_count": 176,
   "metadata": {},
   "outputs": [
    {
     "name": "stderr",
     "output_type": "stream",
     "text": [
      "100%|████████████████████████████████████████████████████████████████████████████████████| 6/6 [12:36<00:00, 88.03s/it]\n"
     ]
    }
   ],
   "source": [
    "# for each model, fit to train set and validate with stratified 5-fold cross validation, store results in a nested dict\n",
    "# cross_validate returns a dict with 'fit_time', 'score_time', 'test_score' for each run and each model\n",
    "results = {}\n",
    "for clf in tqdm(classifiers):\n",
    "    try:\n",
    "        clfName = clf.__class__.__name__\n",
    "        scores = cross_validate(clf, train_prepared, trainLabels, cv=StratifiedKFold(5), error_score='raise',\n",
    "                                scoring=make_scorer(fbeta_score, beta=0.5), return_train_score=False, return_estimator=True)\n",
    "    except:  # exception for classifiers that need an array as input (GaussianNB)\n",
    "        clfName = clf.__class__.__name__ \n",
    "        scores = cross_validate(GaussianNB(), train_prepared.toarray(), trainLabels, cv=StratifiedKFold(5), \n",
    "                        scoring=make_scorer(fbeta_score, beta=0.5), return_train_score=False, return_estimator=True)\n",
    "    results[clfName] = scores"
   ]
  },
  {
   "cell_type": "code",
   "execution_count": 17,
   "metadata": {},
   "outputs": [],
   "source": [
    "# define and call a function for storage of cv results in df 'longlistResults'\n",
    "def cvResultsDF(cvDict):\n",
    "    \"\"\"Store results of CV in Dataframe, including columns for 95% confidence interval for test score and mean test score.\"\"\"\n",
    "    df = pd.DataFrame(cvDict).transpose()\n",
    "    df['95_conf'] = df['test_score'].apply(lambda x: np.std(x) * 2)\n",
    "    for col in df.iloc[:,1:]:\n",
    "        df[col] = df[col].apply(lambda x: np.mean(x))\n",
    "    df['total_time'] = df['score_time'] + df['fit_time']\n",
    "    return df\n",
    "\n",
    "longlistResults = cvResultsDF(results)"
   ]
  },
  {
   "cell_type": "code",
   "execution_count": 18,
   "metadata": {},
   "outputs": [
    {
     "data": {
      "text/html": [
       "<div>\n",
       "<style scoped>\n",
       "    .dataframe tbody tr th:only-of-type {\n",
       "        vertical-align: middle;\n",
       "    }\n",
       "\n",
       "    .dataframe tbody tr th {\n",
       "        vertical-align: top;\n",
       "    }\n",
       "\n",
       "    .dataframe thead th {\n",
       "        text-align: right;\n",
       "    }\n",
       "</style>\n",
       "<table border=\"1\" class=\"dataframe\">\n",
       "  <thead>\n",
       "    <tr style=\"text-align: right;\">\n",
       "      <th></th>\n",
       "      <th>estimator</th>\n",
       "      <th>fit_time</th>\n",
       "      <th>score_time</th>\n",
       "      <th>test_score</th>\n",
       "      <th>95_conf</th>\n",
       "      <th>total_time</th>\n",
       "    </tr>\n",
       "  </thead>\n",
       "  <tbody>\n",
       "    <tr>\n",
       "      <th>LogisticRegression</th>\n",
       "      <td>(LogisticRegression(C=1.0, class_weight=None, ...</td>\n",
       "      <td>1.050288</td>\n",
       "      <td>0.006248</td>\n",
       "      <td>0.802217</td>\n",
       "      <td>0.005951</td>\n",
       "      <td>1.056537</td>\n",
       "    </tr>\n",
       "    <tr>\n",
       "      <th>KNeighborsClassifier</th>\n",
       "      <td>(KNeighborsClassifier(algorithm='auto', leaf_s...</td>\n",
       "      <td>0.014563</td>\n",
       "      <td>12.625543</td>\n",
       "      <td>0.741632</td>\n",
       "      <td>0.005374</td>\n",
       "      <td>12.640106</td>\n",
       "    </tr>\n",
       "    <tr>\n",
       "      <th>SVC</th>\n",
       "      <td>(SVC(C=1.0, cache_size=200, class_weight=None,...</td>\n",
       "      <td>106.096052</td>\n",
       "      <td>17.379157</td>\n",
       "      <td>0.818011</td>\n",
       "      <td>0.005054</td>\n",
       "      <td>123.475209</td>\n",
       "    </tr>\n",
       "    <tr>\n",
       "      <th>GaussianNB</th>\n",
       "      <td>(GaussianNB(priors=None, var_smoothing=1e-09),...</td>\n",
       "      <td>0.164748</td>\n",
       "      <td>0.046482</td>\n",
       "      <td>0.378644</td>\n",
       "      <td>0.217364</td>\n",
       "      <td>0.211230</td>\n",
       "    </tr>\n",
       "    <tr>\n",
       "      <th>RandomForestClassifier</th>\n",
       "      <td>((DecisionTreeClassifier(class_weight=None, cr...</td>\n",
       "      <td>4.568505</td>\n",
       "      <td>0.025736</td>\n",
       "      <td>0.771383</td>\n",
       "      <td>0.006416</td>\n",
       "      <td>4.594241</td>\n",
       "    </tr>\n",
       "    <tr>\n",
       "      <th>GradientBoostingClassifier</th>\n",
       "      <td>(([DecisionTreeRegressor(criterion='friedman_m...</td>\n",
       "      <td>9.772064</td>\n",
       "      <td>0.024148</td>\n",
       "      <td>0.801017</td>\n",
       "      <td>0.002576</td>\n",
       "      <td>9.796212</td>\n",
       "    </tr>\n",
       "  </tbody>\n",
       "</table>\n",
       "</div>"
      ],
      "text/plain": [
       "                                                                    estimator  \\\n",
       "LogisticRegression          (LogisticRegression(C=1.0, class_weight=None, ...   \n",
       "KNeighborsClassifier        (KNeighborsClassifier(algorithm='auto', leaf_s...   \n",
       "SVC                         (SVC(C=1.0, cache_size=200, class_weight=None,...   \n",
       "GaussianNB                  (GaussianNB(priors=None, var_smoothing=1e-09),...   \n",
       "RandomForestClassifier      ((DecisionTreeClassifier(class_weight=None, cr...   \n",
       "GradientBoostingClassifier  (([DecisionTreeRegressor(criterion='friedman_m...   \n",
       "\n",
       "                              fit_time  score_time  test_score   95_conf  \\\n",
       "LogisticRegression            1.050288    0.006248    0.802217  0.005951   \n",
       "KNeighborsClassifier          0.014563   12.625543    0.741632  0.005374   \n",
       "SVC                         106.096052   17.379157    0.818011  0.005054   \n",
       "GaussianNB                    0.164748    0.046482    0.378644  0.217364   \n",
       "RandomForestClassifier        4.568505    0.025736    0.771383  0.006416   \n",
       "GradientBoostingClassifier    9.772064    0.024148    0.801017  0.002576   \n",
       "\n",
       "                            total_time  \n",
       "LogisticRegression            1.056537  \n",
       "KNeighborsClassifier         12.640106  \n",
       "SVC                         123.475209  \n",
       "GaussianNB                    0.211230  \n",
       "RandomForestClassifier        4.594241  \n",
       "GradientBoostingClassifier    9.796212  "
      ]
     },
     "execution_count": 18,
     "metadata": {},
     "output_type": "execute_result"
    }
   ],
   "source": [
    "#check the results\n",
    "longlistResults"
   ]
  },
  {
   "cell_type": "code",
   "execution_count": 19,
   "metadata": {},
   "outputs": [
    {
     "data": {
      "image/png": "[encoded data removed]",
      "text/plain": [
       "<Figure size 1296x432 with 2 Axes>"
      ]
     },
     "metadata": {
      "needs_background": "light"
     },
     "output_type": "display_data"
    }
   ],
   "source": [
    "# define and call a function for plotting a comparision of F-beta scores and run times\n",
    "def cvResultsPlot(resultsDF):\n",
    "    \"\"\"Generates a plot of the test scores and run times for CV of different models.\"\"\"\n",
    "    data = resultsDF.sort_values(by='test_score', ascending=False)\n",
    "    plt.figure(figsize=(18,6));\n",
    "    plt.subplot(1,2,1)\n",
    "    # plot the mean test scores\n",
    "    sns.barplot(x='test_score', y=data.index, data=data, color=\"rebeccapurple\")\n",
    "    plt.xlabel(\"F-beta score (beta=0.5)\");\n",
    "    plt.subplot(1,2,2)\n",
    "    # Plot the mean total time\n",
    "    sns.set_color_codes(\"pastel\")\n",
    "    sns.barplot(x=\"total_time\", y=data.index, data=data,\n",
    "        label=\"Total\", color=\"rebeccapurple\")\n",
    "    # Plot the mean fit time\n",
    "    sns.set_color_codes(\"muted\")\n",
    "    sns.barplot(x='fit_time', y=data.index, data=data,\n",
    "        label=\"Fit\", color=\"yellow\")\n",
    "    plt.xlabel(\"Time for fitting (yellow) and scoring (purple)\");\n",
    "    \n",
    "cvResultsPlot(longlistResults)"
   ]
  },
  {
   "cell_type": "markdown",
   "metadata": {},
   "source": [
    "**Conclusions:**\n",
    "\n",
    "- Three top models are SVC (unfortunately the slowest model by far), LogReg and XGB. They make it on the shortlist and will be finetuned further.\n",
    "- Before Grid Search / Random Search is applied on them I will first look at feature importances and check if it makes sense to reduce dimensionality with help of PCA."
   ]
  },
  {
   "cell_type": "code",
   "execution_count": 178,
   "metadata": {},
   "outputs": [],
   "source": [
    "# create shortlist of top-performing models for further tuning\n",
    "shortlist = [\n",
    "    LogisticRegression(solver='liblinear'),\n",
    "    SVC(gamma='auto'),\n",
    "    GradientBoostingClassifier(n_estimators=100),\n",
    "    ]"
   ]
  },
  {
   "cell_type": "markdown",
   "metadata": {},
   "source": [
    "## Foray: Inspect feature importance (explored with XGB classifier)"
   ]
  },
  {
   "cell_type": "code",
   "execution_count": 21,
   "metadata": {},
   "outputs": [
    {
     "name": "stdout",
     "output_type": "stream",
     "text": [
      "[6.30075672e-02 2.28065113e-02 8.19335107e-02 5.59856236e-02\n",
      " 7.36202488e-02 4.41346509e-02 4.45523732e-01 4.90573941e-03\n",
      " 2.29295147e-02 9.80030281e-02 5.81426833e-03 4.89343484e-03\n",
      " 0.00000000e+00 0.00000000e+00 0.00000000e+00 0.00000000e+00\n",
      " 5.08908270e-02 0.00000000e+00 0.00000000e+00 0.00000000e+00\n",
      " 0.00000000e+00 0.00000000e+00 0.00000000e+00 0.00000000e+00\n",
      " 0.00000000e+00 0.00000000e+00 0.00000000e+00 2.04430379e-06\n",
      " 1.63036443e-04 0.00000000e+00 0.00000000e+00 1.24437562e-04\n",
      " 0.00000000e+00 0.00000000e+00 5.10969942e-04 0.00000000e+00\n",
      " 0.00000000e+00 0.00000000e+00 0.00000000e+00 0.00000000e+00\n",
      " 0.00000000e+00 0.00000000e+00 0.00000000e+00 0.00000000e+00\n",
      " 0.00000000e+00 0.00000000e+00 0.00000000e+00 2.30740074e-03\n",
      " 0.00000000e+00 0.00000000e+00 0.00000000e+00 0.00000000e+00\n",
      " 0.00000000e+00 0.00000000e+00 0.00000000e+00 0.00000000e+00\n",
      " 0.00000000e+00 0.00000000e+00 0.00000000e+00 0.00000000e+00\n",
      " 0.00000000e+00 0.00000000e+00 0.00000000e+00 0.00000000e+00\n",
      " 0.00000000e+00 0.00000000e+00 0.00000000e+00 0.00000000e+00\n",
      " 0.00000000e+00 0.00000000e+00 0.00000000e+00 0.00000000e+00\n",
      " 0.00000000e+00 0.00000000e+00 0.00000000e+00 0.00000000e+00\n",
      " 0.00000000e+00 0.00000000e+00 0.00000000e+00 0.00000000e+00\n",
      " 0.00000000e+00 0.00000000e+00 0.00000000e+00 0.00000000e+00\n",
      " 0.00000000e+00 0.00000000e+00 0.00000000e+00 0.00000000e+00\n",
      " 0.00000000e+00 0.00000000e+00 0.00000000e+00 0.00000000e+00\n",
      " 0.00000000e+00 0.00000000e+00 0.00000000e+00 0.00000000e+00\n",
      " 0.00000000e+00 0.00000000e+00 0.00000000e+00 0.00000000e+00\n",
      " 0.00000000e+00 0.00000000e+00 0.00000000e+00 0.00000000e+00\n",
      " 0.00000000e+00 0.00000000e+00 0.00000000e+00 8.77093432e-05\n",
      " 0.00000000e+00 3.86712335e-04 0.00000000e+00 0.00000000e+00\n",
      " 0.00000000e+00 0.00000000e+00 0.00000000e+00 6.03376367e-04\n",
      " 0.00000000e+00 0.00000000e+00 3.84127365e-04 0.00000000e+00\n",
      " 0.00000000e+00 0.00000000e+00 0.00000000e+00 0.00000000e+00\n",
      " 2.73998398e-04 0.00000000e+00 0.00000000e+00 0.00000000e+00\n",
      " 3.73821386e-05 0.00000000e+00 0.00000000e+00 0.00000000e+00\n",
      " 0.00000000e+00 0.00000000e+00 0.00000000e+00 2.27978512e-03\n",
      " 0.00000000e+00 2.46844942e-04 7.15311799e-03 2.32919127e-03\n",
      " 0.00000000e+00 0.00000000e+00 0.00000000e+00 0.00000000e+00\n",
      " 0.00000000e+00 1.53676951e-03 0.00000000e+00 0.00000000e+00\n",
      " 0.00000000e+00 0.00000000e+00 0.00000000e+00 4.65102011e-03\n",
      " 1.16887285e-03 8.17639367e-05 0.00000000e+00 0.00000000e+00\n",
      " 0.00000000e+00 0.00000000e+00 0.00000000e+00 6.12361035e-04\n",
      " 0.00000000e+00 0.00000000e+00 0.00000000e+00 0.00000000e+00\n",
      " 0.00000000e+00 0.00000000e+00 0.00000000e+00 0.00000000e+00\n",
      " 0.00000000e+00 0.00000000e+00 0.00000000e+00 0.00000000e+00\n",
      " 0.00000000e+00 0.00000000e+00 0.00000000e+00 0.00000000e+00\n",
      " 0.00000000e+00 0.00000000e+00 0.00000000e+00 0.00000000e+00\n",
      " 8.10712530e-05 0.00000000e+00 0.00000000e+00 0.00000000e+00\n",
      " 0.00000000e+00 0.00000000e+00 0.00000000e+00 0.00000000e+00\n",
      " 0.00000000e+00 0.00000000e+00 0.00000000e+00 0.00000000e+00\n",
      " 0.00000000e+00 0.00000000e+00 0.00000000e+00 0.00000000e+00\n",
      " 0.00000000e+00 0.00000000e+00 1.26533644e-04 0.00000000e+00\n",
      " 0.00000000e+00 0.00000000e+00 0.00000000e+00 0.00000000e+00\n",
      " 0.00000000e+00 0.00000000e+00 0.00000000e+00 0.00000000e+00\n",
      " 1.34208453e-05 0.00000000e+00 0.00000000e+00 0.00000000e+00\n",
      " 0.00000000e+00 0.00000000e+00 0.00000000e+00 0.00000000e+00\n",
      " 0.00000000e+00 0.00000000e+00 0.00000000e+00 0.00000000e+00\n",
      " 0.00000000e+00 0.00000000e+00 0.00000000e+00 0.00000000e+00\n",
      " 0.00000000e+00 0.00000000e+00 0.00000000e+00 0.00000000e+00\n",
      " 0.00000000e+00 0.00000000e+00 0.00000000e+00 0.00000000e+00\n",
      " 0.00000000e+00 3.89395040e-04 0.00000000e+00]\n"
     ]
    }
   ],
   "source": [
    "# fit XGB to training data and print feature importances\n",
    "xgb = GradientBoostingClassifier(n_estimators=100)\n",
    "xgb.fit(train_prepared, trainLabels)\n",
    "xgbImportances = xgb.feature_importances_\n",
    "print(xgbImportances)"
   ]
  },
  {
   "cell_type": "code",
   "execution_count": 22,
   "metadata": {},
   "outputs": [
    {
     "data": {
      "text/plain": [
       "[(0.44552373247853677, 'age_mnth'),\n",
       " (0.09800302813141072, 'dist_metres_log'),\n",
       " (0.08193351074070018, 'NUM_EVENTS_log'),\n",
       " (0.07362024883288054, 'MEAN_MILEAGE_PER_MNTH'),\n",
       " (0.06300756718838191, 'NUM_CONSEC_SERVICES'),\n",
       " (0.05598562361289879, 'LAST_MILEAGE_log'),\n",
       " (0.05089082703518586, 'Audi'),\n",
       " (0.04413465092520833, 'AVG_DIFF_MNTH'),\n",
       " (0.022929514707036695, 'ownerAge'),\n",
       " (0.02280651126564608, 'SUM_INVOICE_AMOUNT_log'),\n",
       " (0.007153117994001276, '1.0'),\n",
       " (0.0058142683255315766, '12 Monate'),\n",
       " (0.004905739410608908, 'LIST_PRICE_log'),\n",
       " (0.004893434844127614, '24 Monate'),\n",
       " (0.00465102010895125, 'Deutsch'),\n",
       " (0.002329191272032573, '2.0'),\n",
       " (0.0023074007422643076, '7.0'),\n",
       " (0.0022797851220730464, 'VS'),\n",
       " (0.0015367695143071354, 'Genferseeregion'),\n",
       " (0.0011688728547276674, 'Französisch'),\n",
       " (0.0006123610347877214, 'BE'),\n",
       " (0.0006033763672793787, 'BL'),\n",
       " (0.0005109699416284386, '3.0'),\n",
       " (0.00038939504039669283, '3'),\n",
       " (0.0003867123348738666, 'Französisch'),\n",
       " (0.0003841273648202553, 'FR'),\n",
       " (0.00027399839791378755, 'NE'),\n",
       " (0.0002468449421565875, 'ZH'),\n",
       " (0.000163036443464813, 'Automat'),\n",
       " (0.00012653364374262666, 'Horgen'),\n",
       " (0.00012443756168101057, 'Frontantrieb'),\n",
       " (8.770934324306347e-05, 'up!'),\n",
       " (8.176393674035112e-05, 'Italienisch'),\n",
       " (8.107125299265464e-05, 'Buchs SG 1'),\n",
       " (3.7382138633550395e-05, 'SH'),\n",
       " (1.3420845340838785e-05, 'Oftringen'),\n",
       " (2.0443037931233044e-06, 'Plugin Hybrid Benzin'),\n",
       " (0.0, 'e-up!'),\n",
       " (0.0, 'Zürich-Uto'),\n",
       " (0.0, 'Zürich-Skoda'),\n",
       " (0.0, 'Zürich'),\n",
       " (0.0, 'Zuchwil'),\n",
       " (0.0, 'Zentralschweiz'),\n",
       " (0.0, 'ZH'),\n",
       " (0.0, 'ZG'),\n",
       " (0.0, 'ZG'),\n",
       " (0.0, 'Yeti'),\n",
       " (0.0, 'Winterthur'),\n",
       " (0.0, 'Weinfelden'),\n",
       " (0.0, 'Volketswil'),\n",
       " (0.0, 'Vevey 1'),\n",
       " (0.0, 'Vernier'),\n",
       " (0.0, 'Vaduz'),\n",
       " (0.0, 'VW-PW'),\n",
       " (0.0, 'VW-NF'),\n",
       " (0.0, 'VD'),\n",
       " (0.0, 'VD'),\n",
       " (0.0, 'Uster-NF'),\n",
       " (0.0, 'Uster'),\n",
       " (0.0, 'UR'),\n",
       " (0.0, 'Touran'),\n",
       " (0.0, 'Touareg'),\n",
       " (0.0, 'Toledo'),\n",
       " (0.0, 'Tiguan'),\n",
       " (0.0, 'Thun'),\n",
       " (0.0, 'Tessin'),\n",
       " (0.0, 'TT'),\n",
       " (0.0, 'TI'),\n",
       " (0.0, 'TI'),\n",
       " (0.0, 'TG'),\n",
       " (0.0, 'TG'),\n",
       " (0.0, 'T5'),\n",
       " (0.0, 'Sursee'),\n",
       " (0.0, 'Superb'),\n",
       " (0.0, 'St-Légier-La Chiésaz'),\n",
       " (0.0, 'Sorengo'),\n",
       " (0.0, 'Sharan'),\n",
       " (0.0, 'Scirocco'),\n",
       " (0.0, 'Schlieren'),\n",
       " (0.0, 'Schinznach Bad'),\n",
       " (0.0, 'Schaltgetriebe'),\n",
       " (0.0, 'Schaffhausen'),\n",
       " (0.0, 'SZ'),\n",
       " (0.0, 'SQ5'),\n",
       " (0.0, 'SO'),\n",
       " (0.0, 'SO'),\n",
       " (0.0, 'SKODA'),\n",
       " (0.0, 'SH'),\n",
       " (0.0, 'SG'),\n",
       " (0.0, 'SG'),\n",
       " (0.0, 'SEAT'),\n",
       " (0.0, 'S7'),\n",
       " (0.0, 'S6'),\n",
       " (0.0, 'S5'),\n",
       " (0.0, 'S4'),\n",
       " (0.0, 'S3'),\n",
       " (0.0, 'S1'),\n",
       " (0.0, 'Roomster'),\n",
       " (0.0, 'Rolle'),\n",
       " (0.0, 'Rapid'),\n",
       " (0.0, 'Rain'),\n",
       " (0.0, 'RS5'),\n",
       " (0.0, 'RS4'),\n",
       " (0.0, 'RS3'),\n",
       " (0.0, 'RS'),\n",
       " (0.0, 'Q7'),\n",
       " (0.0, 'Q5'),\n",
       " (0.0, 'Q3'),\n",
       " (0.0, 'Prangins'),\n",
       " (0.0, 'Praktik'),\n",
       " (0.0, 'Polo'),\n",
       " (0.0, 'Phaeton'),\n",
       " (0.0, 'Petit-Lancy'),\n",
       " (0.0, 'Passat'),\n",
       " (0.0, 'Ostschweiz'),\n",
       " (0.0, 'Octavia'),\n",
       " (0.0, 'OW'),\n",
       " (0.0, 'Noville'),\n",
       " (0.0, 'Nordwestschweiz'),\n",
       " (0.0, 'NW'),\n",
       " (0.0, 'Murten'),\n",
       " (0.0, 'Mii'),\n",
       " (0.0, 'Mendrisio'),\n",
       " (0.0, 'Lugano 4 Molino Nuovo Casel'),\n",
       " (0.0, 'Leon'),\n",
       " (0.0, 'Lausanne'),\n",
       " (0.0, 'LU'),\n",
       " (0.0, 'LU'),\n",
       " (0.0, 'Kriens'),\n",
       " (0.0, 'Kreuzlingen'),\n",
       " (0.0, 'Kloten'),\n",
       " (0.0, 'Jona'),\n",
       " (0.0, 'Jetta'),\n",
       " (0.0, 'JU'),\n",
       " (0.0, 'Italienisch'),\n",
       " (0.0, 'Ibiza'),\n",
       " (0.0, 'Heerbrugg'),\n",
       " (0.0, 'Heckantrieb'),\n",
       " (0.0, 'Gümligen'),\n",
       " (0.0, 'Grenchen'),\n",
       " (0.0, 'Golf'),\n",
       " (0.0, 'Giubiasco'),\n",
       " (0.0, 'Gas / Benzin'),\n",
       " (0.0, 'Gas'),\n",
       " (0.0, 'GR'),\n",
       " (0.0, 'GR'),\n",
       " (0.0, 'GL'),\n",
       " (0.0, 'GE'),\n",
       " (0.0, 'GE'),\n",
       " (0.0, 'Fribourg'),\n",
       " (0.0, 'Frauenfeld'),\n",
       " (0.0, 'Fox'),\n",
       " (0.0, 'Fabia'),\n",
       " (0.0, 'FR'),\n",
       " (0.0, 'FL'),\n",
       " (0.0, 'FL'),\n",
       " (0.0, 'Exeo'),\n",
       " (0.0, 'Espace Mittelland'),\n",
       " (0.0, 'Eos'),\n",
       " (0.0, 'Emmen'),\n",
       " (0.0, 'Elektro'),\n",
       " (0.0, 'Ebikon'),\n",
       " (0.0, 'Dübendorf'),\n",
       " (0.0, 'Dulliken'),\n",
       " (0.0, 'Diesel'),\n",
       " (0.0, 'Deutsch'),\n",
       " (0.0, 'Davos Platz'),\n",
       " (0.0, 'Crissier'),\n",
       " (0.0, 'Crafter'),\n",
       " (0.0, 'Coldrerio'),\n",
       " (0.0, 'Citigo'),\n",
       " (0.0, 'Châtelaine'),\n",
       " (0.0, 'Chur'),\n",
       " (0.0, 'Cham'),\n",
       " (0.0, 'Carouge'),\n",
       " (0.0, 'Caddy'),\n",
       " (0.0, 'CC'),\n",
       " (0.0, 'Brügg'),\n",
       " (0.0, 'Breganzona'),\n",
       " (0.0, 'Bern'),\n",
       " (0.0, 'Benzin / Gas'),\n",
       " (0.0, 'Benzin'),\n",
       " (0.0, 'Bellinzona'),\n",
       " (0.0, 'Beetle'),\n",
       " (0.0, 'Bachenbülach'),\n",
       " (0.0, 'BS'),\n",
       " (0.0, 'BE'),\n",
       " (0.0, 'Ausland'),\n",
       " (0.0, 'Amarok'),\n",
       " (0.0, 'Altstetten'),\n",
       " (0.0, 'Altea'),\n",
       " (0.0, 'Allradantrieb'),\n",
       " (0.0, 'Alhambra'),\n",
       " (0.0, 'Aarau'),\n",
       " (0.0, 'AR'),\n",
       " (0.0, 'AI'),\n",
       " (0.0, 'AG'),\n",
       " (0.0, 'AG'),\n",
       " (0.0, 'A8'),\n",
       " (0.0, 'A7'),\n",
       " (0.0, 'A6'),\n",
       " (0.0, 'A5'),\n",
       " (0.0, 'A4'),\n",
       " (0.0, 'A3'),\n",
       " (0.0, 'A1'),\n",
       " (0.0, '9.0'),\n",
       " (0.0, '8.0'),\n",
       " (0.0, '8.0'),\n",
       " (0.0, '7.2'),\n",
       " (0.0, '7.0'),\n",
       " (0.0, '6.0'),\n",
       " (0.0, '53 Privat Grossflottenfirma'),\n",
       " (0.0, '52 Privat Kleinflottenfirma'),\n",
       " (0.0, '5.0'),\n",
       " (0.0, '5.0'),\n",
       " (0.0, '5.0'),\n",
       " (0.0, '5.0'),\n",
       " (0.0, '4.0'),\n",
       " (0.0, '4.0'),\n",
       " (0.0, '4'),\n",
       " (0.0, '3.0'),\n",
       " (0.0, '26 KMU Privatkunde'),\n",
       " (0.0, '2.0'),\n",
       " (0.0, '2'),\n",
       " (0.0, '12.0'),\n",
       " (0.0, '11.25'),\n",
       " (0.0, '11.2'),\n",
       " (0.0, '10.0'),\n",
       " (0.0, '1.0'),\n",
       " (0.0, '1'),\n",
       " (0.0, '1'),\n",
       " (0.0, '1'),\n",
       " (0.0, '03 Privatkunde'),\n",
       " (0.0, '0'),\n",
       " (0.0, '0')]"
      ]
     },
     "execution_count": 22,
     "metadata": {},
     "output_type": "execute_result"
    }
   ],
   "source": [
    "# reconstruct feature names (numCols) & one-hot-encoded-attribute names (catCols) for dimensions in training_prepared\n",
    "encoder = fullPipeline.named_transformers_['encoder']\n",
    "oneHotAttribs = []\n",
    "for sublist in list(encoder.categories_):\n",
    "    for item in sublist:\n",
    "        oneHotAttribs.append(item)\n",
    "attribs = numCols + oneHotAttribs\n",
    "# zip names and importances, print list of tuples\n",
    "featureImportances = (sorted(zip(xgbImportances, attribs), reverse=True))\n",
    "featureImportances"
   ]
  },
  {
   "cell_type": "code",
   "execution_count": 23,
   "metadata": {},
   "outputs": [
    {
     "name": "stdout",
     "output_type": "stream",
     "text": [
      "Features / Attributes total: 235\n",
      "Features / Attributes with weight > 0: 37\n",
      "Features / Attributes with weight > 0.001: 20\n",
      "Features / Attributes with weight > 0.005: 12\n"
     ]
    }
   ],
   "source": [
    "# extract weights from tuples by flattening the list of tuples\n",
    "weights = np.array([x[0] for x in featureImportances])\n",
    "# print number of features / attributes for given threshold\n",
    "print(\"Features / Attributes total: {}\".format(len(weights)))\n",
    "print(\"Features / Attributes with weight > 0: {}\".format(len(weights[weights > 0])))\n",
    "print(\"Features / Attributes with weight > 0.001: {}\".format(len(weights[weights > 0.001])))\n",
    "print(\"Features / Attributes with weight > 0.005: {}\".format(len(weights[weights > 0.005])))"
   ]
  },
  {
   "cell_type": "code",
   "execution_count": 24,
   "metadata": {},
   "outputs": [
    {
     "data": {
      "image/png": "[encoded data removed]",
      "text/plain": [
       "<Figure size 1152x360 with 1 Axes>"
      ]
     },
     "metadata": {
      "needs_background": "light"
     },
     "output_type": "display_data"
    }
   ],
   "source": [
    "# create dataframe of featureImportances and \n",
    "dfPlot = pd.DataFrame(featureImportances)\n",
    "dfPlot = dfPlot[dfPlot[0] > 0.005]    \n",
    "# plot features / attributes with biggest weight\n",
    "fig = plt.figure(figsize = (16,5))\n",
    "plt.bar(np.arange(len(dfPlot)), dfPlot[0], width = 0.6, align=\"center\", color = 'yellow', \\\n",
    "      label = \"Feature / Attribute Weight\")\n",
    "plt.bar(np.arange(len(dfPlot)) - 0.3, np.cumsum(dfPlot[0]), width = 0.2, align = \"center\", color = 'rebeccapurple', \\\n",
    "      label = \"Cumulative Feature Weight\")\n",
    "# styling\n",
    "plt.title(\"Normalized Weights for Predictive Features / Attributes with Weight > 0.005\", fontsize = 12)\n",
    "plt.ylabel(\"Weights\", fontsize = 12)\n",
    "plt.xlabel(\"Features / Attributes\", fontsize = 12)\n",
    "plt.xticks(np.arange(len(dfPlot)), dfPlot[1], rotation=90)\n",
    "plt.legend(loc = 'upper left');"
   ]
  },
  {
   "cell_type": "markdown",
   "metadata": {},
   "source": [
    "**Observations:**\n",
    "- No suprises here, this is about what was to expect after the EDA. But it is intersting to see how much the numeric features dominate this list of high feature weights (9 out of the top 12)."
   ]
  },
  {
   "cell_type": "markdown",
   "metadata": {},
   "source": [
    "### Experiment with feature selection"
   ]
  },
  {
   "cell_type": "code",
   "execution_count": 25,
   "metadata": {},
   "outputs": [
    {
     "name": "stderr",
     "output_type": "stream",
     "text": [
      "100%|████████████████████████████████████████████████████████████████████████████████████| 3/3 [06:11<00:00, 99.54s/it]\n"
     ]
    }
   ],
   "source": [
    "# validate performance of shortlisted models for reduced training set (with given threshold for feature importance)\n",
    "threshold = 0.01\n",
    "\n",
    "shortlistResults = {}\n",
    "for clf in tqdm(shortlist):\n",
    "    clfName = clf.__class__.__name__\n",
    "   \n",
    "    shortPipeline = Pipeline([\n",
    "      ('feature_selection', SelectFromModel(xgb, threshold=threshold)),\n",
    "      ('classification', clf)\n",
    "    ])\n",
    " \n",
    "    scores = cross_validate(shortPipeline, train_prepared, trainLabels, cv=StratifiedKFold(5), \n",
    "                                     scoring=make_scorer(fbeta_score, beta=0.5), return_train_score=False, return_estimator=True)\n",
    "    shortlistResults[clfName] = scores"
   ]
  },
  {
   "cell_type": "code",
   "execution_count": 30,
   "metadata": {},
   "outputs": [
    {
     "data": {
      "text/html": [
       "<div>\n",
       "<style scoped>\n",
       "    .dataframe tbody tr th:only-of-type {\n",
       "        vertical-align: middle;\n",
       "    }\n",
       "\n",
       "    .dataframe tbody tr th {\n",
       "        vertical-align: top;\n",
       "    }\n",
       "\n",
       "    .dataframe thead th {\n",
       "        text-align: right;\n",
       "    }\n",
       "</style>\n",
       "<table border=\"1\" class=\"dataframe\">\n",
       "  <thead>\n",
       "    <tr style=\"text-align: right;\">\n",
       "      <th></th>\n",
       "      <th>estimator</th>\n",
       "      <th>fit_time</th>\n",
       "      <th>score_time</th>\n",
       "      <th>test_score</th>\n",
       "      <th>95_conf</th>\n",
       "      <th>total_time</th>\n",
       "    </tr>\n",
       "  </thead>\n",
       "  <tbody>\n",
       "    <tr>\n",
       "      <th>LogisticRegression</th>\n",
       "      <td>(Pipeline(memory=None,\\n     steps=[('feature_...</td>\n",
       "      <td>9.977327</td>\n",
       "      <td>0.004388</td>\n",
       "      <td>0.795688</td>\n",
       "      <td>0.002604</td>\n",
       "      <td>9.981716</td>\n",
       "    </tr>\n",
       "    <tr>\n",
       "      <th>SVC</th>\n",
       "      <td>(Pipeline(memory=None,\\n     steps=[('feature_...</td>\n",
       "      <td>44.739839</td>\n",
       "      <td>3.018642</td>\n",
       "      <td>0.830491</td>\n",
       "      <td>0.004819</td>\n",
       "      <td>47.758481</td>\n",
       "    </tr>\n",
       "    <tr>\n",
       "      <th>GradientBoostingClassifier</th>\n",
       "      <td>(Pipeline(memory=None,\\n     steps=[('feature_...</td>\n",
       "      <td>16.572344</td>\n",
       "      <td>0.023148</td>\n",
       "      <td>0.801308</td>\n",
       "      <td>0.003396</td>\n",
       "      <td>16.595492</td>\n",
       "    </tr>\n",
       "  </tbody>\n",
       "</table>\n",
       "</div>"
      ],
      "text/plain": [
       "                                                                    estimator  \\\n",
       "LogisticRegression          (Pipeline(memory=None,\\n     steps=[('feature_...   \n",
       "SVC                         (Pipeline(memory=None,\\n     steps=[('feature_...   \n",
       "GradientBoostingClassifier  (Pipeline(memory=None,\\n     steps=[('feature_...   \n",
       "\n",
       "                             fit_time  score_time  test_score   95_conf  \\\n",
       "LogisticRegression           9.977327    0.004388    0.795688  0.002604   \n",
       "SVC                         44.739839    3.018642    0.830491  0.004819   \n",
       "GradientBoostingClassifier  16.572344    0.023148    0.801308  0.003396   \n",
       "\n",
       "                            total_time  \n",
       "LogisticRegression            9.981716  \n",
       "SVC                          47.758481  \n",
       "GradientBoostingClassifier   16.595492  "
      ]
     },
     "execution_count": 30,
     "metadata": {},
     "output_type": "execute_result"
    }
   ],
   "source": [
    "# transform shortlistResults to dataframe and display it\n",
    "shortlistResults = cvResultsDF(shortlistResults)\n",
    "shortlistResults"
   ]
  },
  {
   "cell_type": "code",
   "execution_count": 29,
   "metadata": {},
   "outputs": [
    {
     "data": {
      "image/png": "[encoded data removed]",
      "text/plain": [
       "<Figure size 1296x432 with 2 Axes>"
      ]
     },
     "metadata": {
      "needs_background": "light"
     },
     "output_type": "display_data"
    }
   ],
   "source": [
    "# plot the shortlistResults\n",
    "cvResultsPlot(shortlistResults)"
   ]
  },
  {
   "cell_type": "markdown",
   "metadata": {},
   "source": [
    "**Observations:**\n",
    "\n",
    "- A reduction from 231 to 20 features results in a slightly better score for the SVC-model (and halfed runtime).\n",
    "- The scores for LogReg and XGB are nearly the same as before / very slightly reduced.\n",
    "\n",
    "In the next step I will test the effect of different thresholds for the three models separately:"
   ]
  },
  {
   "cell_type": "code",
   "execution_count": 32,
   "metadata": {},
   "outputs": [
    {
     "name": "stdout",
     "output_type": "stream",
     "text": [
      "LogReg:\n",
      "Mean F-beta score without feature elimination: 80.22\n",
      "Thresh=0.000, n=37, mean F-beta score: 79.89\n",
      "Thresh=0.001, n=20, mean F-beta score: 79.84\n",
      "Thresh=0.005, n=12, mean F-beta score: 79.85\n",
      "Thresh=0.010, n=10, mean F-beta score: 79.57\n",
      "Thresh=0.050, n=7, mean F-beta score: 78.76\n"
     ]
    }
   ],
   "source": [
    "# check and display LogReg score for different thresholds \n",
    "print(\"LogReg:\\nMean F-beta score without feature elimination: {:.2f}\".format(float(longlistResults.iloc[0,3])*100))\n",
    "thresholds = [0.00000001, 0.001, 0.005, 0.01, 0.05]\n",
    "\n",
    "for thresh in thresholds:\n",
    "    # select features using threshold\n",
    "    selection = SelectFromModel(xgb, threshold=thresh, prefit=True)\n",
    "    selected_train = selection.transform(train_prepared)\n",
    "    # evaluate model with 5-fold CV\n",
    "    scores_selected = cross_validate(shortlist[0], selected_train, trainLabels,cv=StratifiedKFold(5), \n",
    "                                     scoring=make_scorer(fbeta_score, beta=0.5), return_train_score=False)\n",
    "    print(\"Thresh={:.3f}, n={}, mean F-beta score: {:.2f}\".format(thresh, selected_train.shape[1], \n",
    "                                                            np.mean(scores_selected['test_score'])* 100.0))"
   ]
  },
  {
   "cell_type": "code",
   "execution_count": 35,
   "metadata": {},
   "outputs": [
    {
     "name": "stdout",
     "output_type": "stream",
     "text": [
      "SVC:\n",
      "Mean F-beta score without feature elimination: 81.80\n",
      "Thresh=0.000, n=37, mean F-beta score: 83.22\n",
      "Thresh=0.001, n=20, mean F-beta score: 83.14\n",
      "Thresh=0.005, n=12, mean F-beta score: 83.03\n",
      "Thresh=0.010, n=10, mean F-beta score: 83.05\n",
      "Thresh=0.050, n=7, mean F-beta score: 83.16\n"
     ]
    }
   ],
   "source": [
    "# check and display SVC score for different thresholds \n",
    "print(\"SVC:\\nMean F-beta score without feature elimination: {:.2f}\".format(float(longlistResults.iloc[2,3])*100))\n",
    "thresholds = [0.00000001, 0.001, 0.005, 0.01, 0.05]\n",
    "\n",
    "for thresh in thresholds:\n",
    "    # select features using threshold\n",
    "    selection = SelectFromModel(xgb, threshold=thresh, prefit=True)\n",
    "    selected_train = selection.transform(train_prepared)\n",
    "    # evaluate model with 5-fold CV\n",
    "    scores_selected = cross_validate(shortlist[1], selected_train, trainLabels,cv=StratifiedKFold(5), \n",
    "                                     scoring=make_scorer(fbeta_score, beta=0.5), return_train_score=False)\n",
    "    print(\"Thresh={:.3f}, n={}, mean F-beta score: {:.2f}\".format(thresh, selected_train.shape[1], \n",
    "                                                            np.mean(scores_selected['test_score'])* 100.0))"
   ]
  },
  {
   "cell_type": "code",
   "execution_count": 33,
   "metadata": {},
   "outputs": [
    {
     "name": "stdout",
     "output_type": "stream",
     "text": [
      "XGB:\n",
      "Mean F-beta score without feature elimination: 80.10\n",
      "Thresh=0.000, n=37, mean F-beta score: 80.20\n",
      "Thresh=0.001, n=20, mean F-beta score: 80.27\n",
      "Thresh=0.005, n=12, mean F-beta score: 80.20\n",
      "Thresh=0.010, n=10, mean F-beta score: 80.13\n",
      "Thresh=0.050, n=7, mean F-beta score: 79.60\n"
     ]
    }
   ],
   "source": [
    "# check and display XGB score for different thresholds \n",
    "print(\"XGB:\\nMean F-beta score without feature elimination: {:.2f}\".format(float(longlistResults.iloc[5,3])*100))\n",
    "thresholds = [0.00000001, 0.001, 0.005, 0.01, 0.05]\n",
    "\n",
    "for thresh in thresholds:\n",
    "    # select features using threshold\n",
    "    selection = SelectFromModel(xgb, threshold=thresh, prefit=True)\n",
    "    selected_train = selection.transform(train_prepared)\n",
    "    # evaluate model with 5-fold CV\n",
    "    scores_selected = cross_validate(shortlist[2], selected_train, trainLabels,cv=StratifiedKFold(5), \n",
    "                                     scoring=make_scorer(fbeta_score, beta=0.5), return_train_score=False)\n",
    "    print(\"Thresh={:.3f}, n={}, mean F-beta score: {:.2f}\".format(thresh, selected_train.shape[1], \n",
    "                                                            np.mean(scores_selected['test_score'])* 100.0))"
   ]
  },
  {
   "cell_type": "markdown",
   "metadata": {},
   "source": [
    "**Observations:**\n",
    "\n",
    "- XGB (a little bit) and especially SVC both score higher when only features with weight > 0 (--> 29 features) are kept. However a further reduction in the number of features also reduces the score for both models slightly - exception: it is higher again for SVC only when there are only seven features left.\n",
    "\n",
    "Because Feature Importance cannot be automatically applied to the data sets, a dimensionality reduction with PCA will be tested in the next step."
   ]
  },
  {
   "cell_type": "markdown",
   "metadata": {},
   "source": [
    "## Apply dimensionality reduction with PCA"
   ]
  },
  {
   "cell_type": "code",
   "execution_count": 38,
   "metadata": {},
   "outputs": [
    {
     "data": {
      "image/png": "[encoded data removed]",
      "text/plain": [
       "<Figure size 1152x288 with 1 Axes>"
      ]
     },
     "metadata": {},
     "output_type": "display_data"
    }
   ],
   "source": [
    "# fit PCA to training set\n",
    "pca = PCA()\n",
    "pca.fit(train_prepared.toarray())\n",
    "# plot cumulative explained variance curve\n",
    "varSum = np.cumsum(pca.explained_variance_ratio_)\n",
    "plt.figure(figsize=(16,4))\n",
    "sns.lineplot(data=varSum, color='rebeccapurple');\n",
    "plt.xticks([0, 10, 20, 30, 40, 50, 60, 230])\n",
    "plt.title(\"Cumulative Variance Explained relative to Number of Features\", fontsize = 12)\n",
    "plt.ylabel(\"Variance explained\", fontsize = 12)\n",
    "plt.xlabel(\"Number of Features / Attributes\", fontsize = 12);"
   ]
  },
  {
   "cell_type": "code",
   "execution_count": 180,
   "metadata": {},
   "outputs": [
    {
     "data": {
      "text/plain": [
       "GridSearchCV(cv=3, error_score='raise-deprecating',\n",
       "       estimator=Pipeline(memory=None,\n",
       "     steps=[('reduce_dim', PCA(copy=True, iterated_power='auto', n_components=None, random_state=None,\n",
       "  svd_solver='auto', tol=0.0, whiten=False)), ('classify', SVC(C=1.0, cache_size=200, class_weight=None, coef0=0.0,\n",
       "  decision_function_shape='ovr', degree=3, gamma='auto', kernel='rbf',\n",
       "  max_iter=-1, probability=False, random_state=None, shrinking=True,\n",
       "  tol=0.001, verbose=False))]),\n",
       "       fit_params=None, iid='warn', n_jobs=1,\n",
       "       param_grid=[{'reduce_dim__n_components': [0.94, 0.96], 'reduce_dim__whiten': [True, False], 'classify': [SVC(C=1.0, cache_size=200, class_weight=None, coef0=0.0,\n",
       "  decision_function_shape='ovr', degree=3, gamma='auto', kernel='rbf',\n",
       "  max_iter=-1, probability=False, random_state=None, shrinking=True...   subsample=1.0, tol=0.0001, validation_fraction=0.1,\n",
       "              verbose=0, warm_start=False)]}],\n",
       "       pre_dispatch='2*n_jobs', refit=True, return_train_score='warn',\n",
       "       scoring=make_scorer(fbeta_score, beta=0.5), verbose=0)"
      ]
     },
     "execution_count": 180,
     "metadata": {},
     "output_type": "execute_result"
    }
   ],
   "source": [
    "# create pipeline with CV to check some params for PCA that optimize results of SVC and XGB \n",
    "dimPipe = Pipeline([\n",
    "    ('reduce_dim', PCA()), \n",
    "    ('classify', shortlist[1])]\n",
    ")                                        \n",
    "n_components_options = [0.94, 0.96]\n",
    "whiten_options = [True, False]\n",
    "param_grid = [\n",
    "    {\n",
    "        'reduce_dim__n_components': n_components_options,\n",
    "        'reduce_dim__whiten': whiten_options,\n",
    "        'classify': [shortlist[1], shortlist[2]]\n",
    "    },\n",
    "]\n",
    "# reduced to cv=3 to save some time\n",
    "grid = GridSearchCV(dimPipe, cv=3, n_jobs=1, param_grid=param_grid, scoring=make_scorer(fbeta_score, beta=0.5))\n",
    "grid.fit(train_prepared.toarray(), trainLabels)"
   ]
  },
  {
   "cell_type": "code",
   "execution_count": 184,
   "metadata": {},
   "outputs": [
    {
     "data": {
      "text/plain": [
       "Pipeline(memory=None,\n",
       "     steps=[('reduce_dim', PCA(copy=True, iterated_power='auto', n_components=0.96, random_state=None,\n",
       "  svd_solver='auto', tol=0.0, whiten=False)), ('classify', SVC(C=1.0, cache_size=200, class_weight=None, coef0=0.0,\n",
       "  decision_function_shape='ovr', degree=3, gamma='auto', kernel='rbf',\n",
       "  max_iter=-1, probability=False, random_state=None, shrinking=True,\n",
       "  tol=0.001, verbose=False))])"
      ]
     },
     "metadata": {},
     "output_type": "display_data"
    },
    {
     "data": {
      "text/plain": [
       "0.8285488979998528"
      ]
     },
     "metadata": {},
     "output_type": "display_data"
    },
    {
     "name": "stdout",
     "output_type": "stream",
     "text": [
      "Mean test scores for SVC: [0.81736675 0.82771607 0.81306137 0.8285489 ]\n",
      "Mean test scores for XGB: [0.79663369 0.79662018 0.79760511 0.79762899]\n"
     ]
    }
   ],
   "source": [
    "# display the results\n",
    "display(grid.best_estimator_)\n",
    "display(grid.best_score_)\n",
    "print(\"Mean test scores for SVC: {}\".format(grid.cv_results_['mean_test_score'][:4]))\n",
    "print(\"Mean test scores for XGB: {}\".format(grid.cv_results_['mean_test_score'][4:]))"
   ]
  },
  {
   "cell_type": "code",
   "execution_count": 15,
   "metadata": {},
   "outputs": [
    {
     "data": {
      "text/plain": [
       "76"
      ]
     },
     "execution_count": 15,
     "metadata": {},
     "output_type": "execute_result"
    }
   ],
   "source": [
    "# as SVC profits more from PCA than XGB: check if PCA with retained variance of 0.97 is even better for SVC only\n",
    "pca97 = PCA(n_components = 0.97)\n",
    "train_reduced_97 = pca97.fit_transform(train_prepared.toarray())\n",
    "# print number of components\n",
    "len(pca97.explained_variance_ratio_)"
   ]
  },
  {
   "cell_type": "code",
   "execution_count": 79,
   "metadata": {},
   "outputs": [],
   "source": [
    "# calculate mean test scores for SVC and PCA with 0.97 of original variance\n",
    "tempScores = cross_validate(shortlist[1], train_reduced_97, trainLabels, cv=StratifiedKFold(5), \n",
    "                                 scoring=make_scorer(fbeta_score, beta=0.5), return_train_score=False, return_estimator=True)"
   ]
  },
  {
   "cell_type": "code",
   "execution_count": 83,
   "metadata": {},
   "outputs": [
    {
     "data": {
      "text/plain": [
       "0.8306965939655765"
      ]
     },
     "execution_count": 83,
     "metadata": {},
     "output_type": "execute_result"
    }
   ],
   "source": [
    "# show result\n",
    "np.mean(tempScores['test_score'])"
   ]
  },
  {
   "cell_type": "code",
   "execution_count": 84,
   "metadata": {},
   "outputs": [
    {
     "data": {
      "text/plain": [
       "89"
      ]
     },
     "execution_count": 84,
     "metadata": {},
     "output_type": "execute_result"
    }
   ],
   "source": [
    "# check if PCA with retained variance of 0.98 is even better for SVC only\n",
    "pca98 = PCA(n_components = 0.98)\n",
    "train_reduced_98 = pca98.fit_transform(train_prepared.toarray())\n",
    "# print number of components\n",
    "len(pca98.explained_variance_ratio_)"
   ]
  },
  {
   "cell_type": "code",
   "execution_count": 85,
   "metadata": {},
   "outputs": [],
   "source": [
    "# calculate mean test scores for SVC and PCA with 0.98 of original variance\n",
    "tempScores = cross_validate(shortlist[1], train_reduced_98, trainLabels, cv=StratifiedKFold(5), \n",
    "                                 scoring=make_scorer(fbeta_score, beta=0.5), return_train_score=False, return_estimator=True)"
   ]
  },
  {
   "cell_type": "code",
   "execution_count": 86,
   "metadata": {},
   "outputs": [
    {
     "data": {
      "text/plain": [
       "0.8294904931280058"
      ]
     },
     "execution_count": 86,
     "metadata": {},
     "output_type": "execute_result"
    }
   ],
   "source": [
    "# show result\n",
    "np.mean(tempScores['test_score'])"
   ]
  },
  {
   "cell_type": "markdown",
   "metadata": {},
   "source": [
    "**Observations / conclusion:**\n",
    "- SVC scoring peaks when a PCA is applied that retains 97% of the original variance, which means a reduction to 76 components\n",
    "- The best score for SVC is only nearly as high as when Feature Reduction is applied, but PCA has the big advantage that it can automatically applied to the test set too.\n",
    "\n",
    "For finetuning of the 3 remaining models I will use:\n",
    " - PCA 97% for SVC\n",
    " - no dimensionality reduction for LogReg and XGB as they don't  seem to gain (much) from it"
   ]
  },
  {
   "cell_type": "markdown",
   "metadata": {},
   "source": [
    "## Finetuning of shortlisted models (Grid search)"
   ]
  },
  {
   "cell_type": "code",
   "execution_count": 96,
   "metadata": {},
   "outputs": [
    {
     "name": "stderr",
     "output_type": "stream",
     "text": [
      "C:\\Users\\r2d4\\Anaconda3\\lib\\site-packages\\sklearn\\linear_model\\sag.py:334: ConvergenceWarning: The max_iter was reached which means the coef_ did not converge\n",
      "  \"the coef_ did not converge\", ConvergenceWarning)\n"
     ]
    }
   ],
   "source": [
    "# gridsearch for LogReg - fit to training set without dimensionality reduction\n",
    "logReg = LogisticRegression()\n",
    "param_grid = {'solver':['liblinear', 'saga'], 'C': [100.0, 200.0, 500.0]}\n",
    "grid = GridSearchCV(logReg, cv=StratifiedKFold(5), param_grid=param_grid, scoring=make_scorer(fbeta_score, beta=0.5), verbose=10)\n",
    "logRegGrid = grid.fit(train_prepared, trainLabels)"
   ]
  },
  {
   "cell_type": "code",
   "execution_count": 102,
   "metadata": {},
   "outputs": [
    {
     "name": "stdout",
     "output_type": "stream",
     "text": [
      "LogReg:\n"
     ]
    },
    {
     "data": {
      "text/plain": [
       "LogisticRegression(C=500.0, class_weight=None, dual=False, fit_intercept=True,\n",
       "          intercept_scaling=1, max_iter=100, multi_class='warn',\n",
       "          n_jobs=None, penalty='l2', random_state=None, solver='saga',\n",
       "          tol=0.0001, verbose=0, warm_start=False)"
      ]
     },
     "metadata": {},
     "output_type": "display_data"
    },
    {
     "name": "stdout",
     "output_type": "stream",
     "text": [
      "Best mean test score: 80.26\n"
     ]
    }
   ],
   "source": [
    "# display the best estimator and best score\n",
    "print(\"LogReg:\")\n",
    "display(logRegGrid.best_estimator_)\n",
    "print(\"Best mean test score: {:.2f}\".format(logRegGrid.best_score_*100))"
   ]
  },
  {
   "cell_type": "code",
   "execution_count": 103,
   "metadata": {},
   "outputs": [],
   "source": [
    "# gridsearch for XGB - fit to training set without dimensionality reduction\n",
    "xgb = GradientBoostingClassifier()\n",
    "param_grid = {'n_estimators':[200, 500, 1000], 'learning_rate': [0.01, 0.05, 0.1], 'max_depth' : [3, 6]}\n",
    "grid = GridSearchCV(xgb, cv=StratifiedKFold(5), param_grid=param_grid, scoring=make_scorer(fbeta_score, beta=0.5), verbose=10)\n",
    "xgbGrid = grid.fit(train_prepared, trainLabels)"
   ]
  },
  {
   "cell_type": "code",
   "execution_count": 30,
   "metadata": {},
   "outputs": [
    {
     "name": "stdout",
     "output_type": "stream",
     "text": [
      "XGB:\n"
     ]
    },
    {
     "data": {
      "text/plain": [
       "GradientBoostingClassifier(criterion='friedman_mse', init=None,\n",
       "              learning_rate=0.05, loss='deviance', max_depth=6,\n",
       "              max_features=None, max_leaf_nodes=None,\n",
       "              min_impurity_decrease=0.0, min_impurity_split=None,\n",
       "              min_samples_leaf=1, min_samples_split=2,\n",
       "              min_weight_fraction_leaf=0.0, n_estimators=1000,\n",
       "              n_iter_no_change=None, presort='auto', random_state=None,\n",
       "              subsample=1.0, tol=0.0001, validation_fraction=0.1,\n",
       "              verbose=0, warm_start=False)"
      ]
     },
     "metadata": {},
     "output_type": "display_data"
    },
    {
     "name": "stdout",
     "output_type": "stream",
     "text": [
      "Best mean test score: 83.88\n"
     ]
    }
   ],
   "source": [
    "# display the best estimator and best score\n",
    "print(\"XGB:\")\n",
    "display(xgbGrid.best_estimator_)\n",
    "print(\"Best mean test score: {:.2f}\".format(xgbGrid.best_score_*100))"
   ]
  },
  {
   "cell_type": "code",
   "execution_count": 27,
   "metadata": {},
   "outputs": [],
   "source": [
    "# gridsearch for SVC - fit to training set with PCA applied\n",
    "svc = SVC()\n",
    "param_grid = [\n",
    "        {'kernel': ['poly'], 'C': [1, 10]},\n",
    "        {'kernel': ['rbf'], 'C': [1, 10, 100],\n",
    "         'gamma': [0.001, 0.01, 0.1]},\n",
    "    ]\n",
    "grid = GridSearchCV(svc, cv=StratifiedKFold(5), param_grid=param_grid, scoring=make_scorer(fbeta_score, beta=0.5), verbose=10)\n",
    "svcGrid = grid.fit(train_reduced_97, trainLabels)"
   ]
  },
  {
   "cell_type": "code",
   "execution_count": 26,
   "metadata": {},
   "outputs": [
    {
     "data": {
      "text/plain": [
       "'SVC:'"
      ]
     },
     "metadata": {},
     "output_type": "display_data"
    },
    {
     "data": {
      "text/plain": [
       "SVC(C=10, cache_size=200, class_weight=None, coef0=0.0,\n",
       "  decision_function_shape='ovr', degree=3, gamma=0.01, kernel='rbf',\n",
       "  max_iter=-1, probability=False, random_state=None, shrinking=True,\n",
       "  tol=0.001, verbose=False)"
      ]
     },
     "metadata": {},
     "output_type": "display_data"
    },
    {
     "data": {
      "text/plain": [
       "'Best mean test score: 83.58716636384699'"
      ]
     },
     "metadata": {},
     "output_type": "display_data"
    }
   ],
   "source": [
    "# display the best estimator and best score\n",
    "display(\"SVC:\")\n",
    "display(svcGrid.best_estimator_)\n",
    "display(\"Best mean test score: {}\".format(svcGrid.best_score_*100))"
   ]
  },
  {
   "cell_type": "markdown",
   "metadata": {},
   "source": [
    "**Conclusion:** After finetuning a more complex version of XGB has narrowly overtaken SVC. So this model will be used for the final steps of this project. \n",
    "\n",
    "But first I will check that the variance / complexity of the model is not too high and the model does not overfit:"
   ]
  },
  {
   "cell_type": "markdown",
   "metadata": {},
   "source": [
    "## Validate and fit best model XGB"
   ]
  },
  {
   "cell_type": "code",
   "execution_count": 20,
   "metadata": {},
   "outputs": [],
   "source": [
    "# initialize best model as xgbChurn\n",
    "xgbChurn = GradientBoostingClassifier(criterion='friedman_mse', init=None, learning_rate=0.05, loss='deviance', max_depth=6,\n",
    "                                      max_features=None, max_leaf_nodes=None, min_impurity_decrease=0.0, \n",
    "                                      min_impurity_split=None, min_samples_leaf=1, min_samples_split=2, \n",
    "                                      min_weight_fraction_leaf=0.0, n_estimators=1000, n_iter_no_change=None, presort='auto', \n",
    "                                      random_state=None, subsample=1.0, tol=0.0001, validation_fraction=0.1, verbose=1, \n",
    "                                      warm_start=False)"
   ]
  },
  {
   "cell_type": "markdown",
   "metadata": {},
   "source": [
    "### Validate learning curves"
   ]
  },
  {
   "cell_type": "code",
   "execution_count": null,
   "metadata": {},
   "outputs": [
    {
     "name": "stdout",
     "output_type": "stream",
     "text": [
      "[learning_curve] Training set sizes: [  231  1435  2640  3845  5050  6255  7459  8664  9869 11074 12278 13483\n",
      " 14688 15893 17098 18302 19507 20712 21917 23122]\n"
     ]
    },
    {
     "name": "stderr",
     "output_type": "stream",
     "text": [
      "[Parallel(n_jobs=-1)]: Using backend LokyBackend with 4 concurrent workers.\n",
      "[Parallel(n_jobs=-1)]: Done   5 out of  60 | elapsed:  1.2min remaining: 13.6min\n",
      "[Parallel(n_jobs=-1)]: Done  12 out of  60 | elapsed:  6.2min remaining: 24.8min\n",
      "[Parallel(n_jobs=-1)]: Done  19 out of  60 | elapsed: 12.2min remaining: 26.3min\n",
      "[Parallel(n_jobs=-1)]: Done  26 out of  60 | elapsed: 16.5min remaining: 21.5min\n",
      "[Parallel(n_jobs=-1)]: Done  33 out of  60 | elapsed: 21.9min remaining: 18.0min\n",
      "[Parallel(n_jobs=-1)]: Done  40 out of  60 | elapsed: 28.4min remaining: 14.2min\n",
      "[Parallel(n_jobs=-1)]: Done  47 out of  60 | elapsed: 32.1min remaining:  8.9min\n"
     ]
    }
   ],
   "source": [
    "# apply sklearns learning_curve utility on training set with 3-fold CV\n",
    "N, trainCurve, valCurve = learning_curve(xgbChurn, train_prepared, trainLabels, cv=StratifiedKFold(3), \n",
    "                                         scoring=make_scorer(fbeta_score, beta=0.5), train_sizes=np.linspace(0.01,1.0,20),\n",
    "                                         n_jobs=-1, verbose=10)"
   ]
  },
  {
   "cell_type": "code",
   "execution_count": 3,
   "metadata": {},
   "outputs": [
    {
     "ename": "NameError",
     "evalue": "name 'trainCurve' is not defined",
     "output_type": "error",
     "traceback": [
      "\u001b[1;31m---------------------------------------------------------------------------\u001b[0m",
      "\u001b[1;31mNameError\u001b[0m                                 Traceback (most recent call last)",
      "\u001b[1;32m<ipython-input-3-ecd0d650162b>\u001b[0m in \u001b[0;36m<module>\u001b[1;34m()\u001b[0m\n\u001b[0;32m      1\u001b[0m \u001b[1;31m# calculate means and std deviation\u001b[0m\u001b[1;33m\u001b[0m\u001b[1;33m\u001b[0m\u001b[0m\n\u001b[1;32m----> 2\u001b[1;33m \u001b[0mtrainCurveMean\u001b[0m \u001b[1;33m=\u001b[0m \u001b[0mnp\u001b[0m\u001b[1;33m.\u001b[0m\u001b[0mmean\u001b[0m\u001b[1;33m(\u001b[0m\u001b[0mtrainCurve\u001b[0m\u001b[1;33m,\u001b[0m \u001b[0maxis\u001b[0m\u001b[1;33m=\u001b[0m\u001b[1;36m1\u001b[0m\u001b[1;33m)\u001b[0m\u001b[1;33m\u001b[0m\u001b[0m\n\u001b[0m\u001b[0;32m      3\u001b[0m \u001b[0mvalCurveMean\u001b[0m \u001b[1;33m=\u001b[0m \u001b[0mnp\u001b[0m\u001b[1;33m.\u001b[0m\u001b[0mmean\u001b[0m\u001b[1;33m(\u001b[0m\u001b[0mvalCurve\u001b[0m\u001b[1;33m,\u001b[0m \u001b[0maxis\u001b[0m\u001b[1;33m=\u001b[0m\u001b[1;36m1\u001b[0m\u001b[1;33m)\u001b[0m\u001b[1;33m\u001b[0m\u001b[0m\n\u001b[0;32m      4\u001b[0m \u001b[0mtrainCurveStd\u001b[0m \u001b[1;33m=\u001b[0m \u001b[0mnp\u001b[0m\u001b[1;33m.\u001b[0m\u001b[0mstd\u001b[0m\u001b[1;33m(\u001b[0m\u001b[0mtrainCurve\u001b[0m\u001b[1;33m,\u001b[0m \u001b[0maxis\u001b[0m\u001b[1;33m=\u001b[0m\u001b[1;36m1\u001b[0m\u001b[1;33m)\u001b[0m\u001b[1;33m\u001b[0m\u001b[0m\n\u001b[0;32m      5\u001b[0m \u001b[0mvalCurveStd\u001b[0m \u001b[1;33m=\u001b[0m \u001b[0mnp\u001b[0m\u001b[1;33m.\u001b[0m\u001b[0mstd\u001b[0m\u001b[1;33m(\u001b[0m\u001b[0mvalCurve\u001b[0m\u001b[1;33m,\u001b[0m \u001b[0maxis\u001b[0m\u001b[1;33m=\u001b[0m\u001b[1;36m1\u001b[0m\u001b[1;33m)\u001b[0m\u001b[1;33m\u001b[0m\u001b[0m\n",
      "\u001b[1;31mNameError\u001b[0m: name 'trainCurve' is not defined"
     ]
    }
   ],
   "source": [
    "# calculate means and std deviation\n",
    "trainCurveMean = np.mean(trainCurve, axis=1)\n",
    "valCurveMean = np.mean(valCurve, axis=1)\n",
    "trainCurveStd = np.std(trainCurve, axis=1)\n",
    "valCurveStd = np.std(valCurve, axis=1)\n",
    "# plot learning curves\n",
    "plt.figure(figsize=(16,4))\n",
    "plt.plot(N, trainCurveMean, color='rebeccapurple', marker='o', label='training score')\n",
    "plt.plot(N, valCurveMean, color='yellow', marker='o', label='validation score')\n",
    "plt.fill_between(N, trainCurveMean - trainCurveStd,trainCurveMean + trainCurveStd, alpha=0.2, color=\"rebeccapurple\")\n",
    "plt.fill_between(N, valCurveMean - valCurveStd, valCurveMean + valCurveStd, alpha=0.2, color=\"yellow\")\n",
    "plt.hlines(np.mean([trainCurveMean[-1], valCurveMean[-1]]), N[0], N[-1], color='black', linestyle='dashed')\n",
    "# styling\n",
    "plt.ylim(0,1)\n",
    "plt.xlim(N[0], N[-1])\n",
    "plt.xlabel('training size')\n",
    "plt.ylabel('score')\n",
    "plt.title(\"Learning Curves F-Beta-Score (beta=0.5)\")\n",
    "plt.legend(loc='lower right');"
   ]
  },
  {
   "cell_type": "code",
   "execution_count": 30,
   "metadata": {},
   "outputs": [],
   "source": [
    "# check if early stopping is an option\n",
    "xgbChurnES = GradientBoostingClassifier(criterion='friedman_mse', init=None, learning_rate=0.05, loss='deviance', max_depth=6,\n",
    "                                      max_features=None, max_leaf_nodes=None, min_impurity_decrease=0.0, \n",
    "                                      min_impurity_split=None, min_samples_leaf=1, min_samples_split=2, \n",
    "                                      min_weight_fraction_leaf=0.0, n_estimators=1000, n_iter_no_change=25, presort='auto', \n",
    "                                      random_state=None, subsample=1.0, tol=0.0001, validation_fraction=0.1, verbose=1, \n",
    "                                      warm_start=False)"
   ]
  },
  {
   "cell_type": "code",
   "execution_count": 31,
   "metadata": {},
   "outputs": [
    {
     "name": "stdout",
     "output_type": "stream",
     "text": [
      "      Iter       Train Loss   Remaining Time \n",
      "         1           1.2342            6.27m\n",
      "         2           1.2173            5.97m\n",
      "         3           1.2010            5.82m\n",
      "         4           1.1864            5.77m\n",
      "         5           1.1731            5.70m\n",
      "         6           1.1600            5.70m\n",
      "         7           1.1485            5.65m\n",
      "         8           1.1372            5.59m\n",
      "         9           1.1261            5.61m\n",
      "        10           1.1155            5.57m\n",
      "        20           1.0341            5.60m\n",
      "        30           0.9771            5.53m\n",
      "        40           0.9308            5.53m\n",
      "        50           0.8987            5.51m\n",
      "        60           0.8767            5.39m\n",
      "        70           0.8563            5.31m\n",
      "        80           0.8388            5.19m\n",
      "        90           0.8210            5.12m\n",
      "       100           0.8066            5.04m\n",
      "       200           0.7198            4.15m\n",
      "       300           0.6688            3.38m\n",
      "       400           0.6298            2.77m\n",
      "       500           0.5947            2.25m\n"
     ]
    },
    {
     "data": {
      "text/plain": [
       "GradientBoostingClassifier(criterion='friedman_mse', init=None,\n",
       "              learning_rate=0.05, loss='deviance', max_depth=6,\n",
       "              max_features=None, max_leaf_nodes=None,\n",
       "              min_impurity_decrease=0.0, min_impurity_split=None,\n",
       "              min_samples_leaf=1, min_samples_split=2,\n",
       "              min_weight_fraction_leaf=0.0, n_estimators=1000,\n",
       "              n_iter_no_change=25, presort='auto', random_state=None,\n",
       "              subsample=1.0, tol=0.0001, validation_fraction=0.1,\n",
       "              verbose=1, warm_start=False)"
      ]
     },
     "execution_count": 31,
     "metadata": {},
     "output_type": "execute_result"
    }
   ],
   "source": [
    "xgbChurnES.fit(train_prepared, trainLabels)"
   ]
  },
  {
   "cell_type": "code",
   "execution_count": 61,
   "metadata": {},
   "outputs": [
    {
     "name": "stdout",
     "output_type": "stream",
     "text": [
      "Number of estimators: 537\n",
      "Training score / deviance: 0.5835\n"
     ]
    }
   ],
   "source": [
    "print(\"Number of estimators: {}\".format(xgbChurnES.n_estimators_))\n",
    "print(\"Training score / deviance: {:.4f}\".format(xgbChurnES.train_score_[536]))"
   ]
  },
  {
   "cell_type": "code",
   "execution_count": 21,
   "metadata": {},
   "outputs": [
    {
     "name": "stdout",
     "output_type": "stream",
     "text": [
      "      Iter       Train Loss   Remaining Time \n",
      "         1           1.2334            6.73m\n",
      "         2           1.2164            6.49m\n",
      "         3           1.2006            6.44m\n",
      "         4           1.1862            6.30m\n",
      "         5           1.1728            6.52m\n",
      "         6           1.1607            6.56m\n",
      "         7           1.1487            6.51m\n",
      "         8           1.1372            6.50m\n",
      "         9           1.1260            6.43m\n",
      "        10           1.1153            6.44m\n",
      "        20           1.0356            6.44m\n",
      "        30           0.9771            6.47m\n",
      "        40           0.9330            6.41m\n",
      "        50           0.9031            6.26m\n",
      "        60           0.8795            6.16m\n",
      "        70           0.8595            5.97m\n",
      "        80           0.8408            5.85m\n",
      "        90           0.8239            5.73m\n",
      "       100           0.8089            5.61m\n",
      "       200           0.7235            4.52m\n",
      "       300           0.6755            3.70m\n",
      "       400           0.6401            3.02m\n",
      "       500           0.6056            2.47m\n",
      "       600           0.5780            1.93m\n",
      "       700           0.5530            1.43m\n",
      "       800           0.5294           56.30s\n",
      "       900           0.5067           27.94s\n",
      "      1000           0.4859            0.00s\n"
     ]
    },
    {
     "data": {
      "text/plain": [
       "GradientBoostingClassifier(criterion='friedman_mse', init=None,\n",
       "              learning_rate=0.05, loss='deviance', max_depth=6,\n",
       "              max_features=None, max_leaf_nodes=None,\n",
       "              min_impurity_decrease=0.0, min_impurity_split=None,\n",
       "              min_samples_leaf=1, min_samples_split=2,\n",
       "              min_weight_fraction_leaf=0.0, n_estimators=1000,\n",
       "              n_iter_no_change=None, presort='auto', random_state=None,\n",
       "              subsample=1.0, tol=0.0001, validation_fraction=0.1,\n",
       "              verbose=1, warm_start=False)"
      ]
     },
     "execution_count": 21,
     "metadata": {},
     "output_type": "execute_result"
    }
   ],
   "source": [
    "xgbChurn.fit(train_prepared, trainLabels)"
   ]
  },
  {
   "cell_type": "code",
   "execution_count": 23,
   "metadata": {},
   "outputs": [
    {
     "name": "stdout",
     "output_type": "stream",
     "text": [
      "Training score / deviance: 0.4859\n"
     ]
    }
   ],
   "source": [
    "print(\"Training score / deviance: {:.4f}\".format(xgbChurn.train_score_[999]))"
   ]
  },
  {
   "cell_type": "code",
   "execution_count": 3,
   "metadata": {},
   "outputs": [
    {
     "name": "stdout",
     "output_type": "stream",
     "text": [
      "Loaded model from: xgbChurn.joblib.dat\n"
     ]
    }
   ],
   "source": [
    "# save model to file for later reuse\n",
    "# joblib.dump(xgbChurn, \"xgbChurn.joblib.dat\") \n",
    "# print(\"Saved model to: xgbChurn.joblib.dat\")\n",
    "\n",
    "# reload model if needed\n",
    "xgbChurn = joblib.load(\"xgbChurn.joblib.dat\") \n",
    "print(\"Loaded model from: xgbChurn.joblib.dat\")"
   ]
  },
  {
   "cell_type": "markdown",
   "metadata": {},
   "source": [
    "## Prepare Test Set"
   ]
  },
  {
   "cell_type": "code",
   "execution_count": 8,
   "metadata": {},
   "outputs": [
    {
     "data": {
      "text/plain": [
       "'car_nr successfully deleted'"
      ]
     },
     "metadata": {},
     "output_type": "display_data"
    },
    {
     "data": {
      "text/plain": [
       "'ref_dt successfully deleted'"
      ]
     },
     "metadata": {},
     "output_type": "display_data"
    },
    {
     "data": {
      "text/plain": [
       "'ACCIDENT_CAR successfully deleted'"
      ]
     },
     "metadata": {},
     "output_type": "display_data"
    },
    {
     "data": {
      "text/plain": [
       "'DESCRIPTION_DE successfully deleted'"
      ]
     },
     "metadata": {},
     "output_type": "display_data"
    },
    {
     "data": {
      "text/plain": [
       "'DESCRIPTION_DE2 successfully deleted'"
      ]
     },
     "metadata": {},
     "output_type": "display_data"
    },
    {
     "data": {
      "text/plain": [
       "'BUDGET_TYPE_IMPORT successfully deleted'"
      ]
     },
     "metadata": {},
     "output_type": "display_data"
    },
    {
     "data": {
      "text/plain": [
       "'SALES_TYPE_IMPORT successfully deleted'"
      ]
     },
     "metadata": {},
     "output_type": "display_data"
    },
    {
     "data": {
      "text/plain": [
       "'FUNCTION_TYPE_UID successfully deleted'"
      ]
     },
     "metadata": {},
     "output_type": "display_data"
    },
    {
     "data": {
      "text/plain": [
       "'TITLE successfully deleted'"
      ]
     },
     "metadata": {},
     "output_type": "display_data"
    },
    {
     "data": {
      "text/plain": [
       "'POSITION successfully deleted'"
      ]
     },
     "metadata": {},
     "output_type": "display_data"
    },
    {
     "data": {
      "text/plain": [
       "'EVT_BIRTH successfully deleted'"
      ]
     },
     "metadata": {},
     "output_type": "display_data"
    },
    {
     "data": {
      "text/plain": [
       "'NAME successfully deleted'"
      ]
     },
     "metadata": {},
     "output_type": "display_data"
    },
    {
     "data": {
      "text/plain": [
       "'PERSON_CITY successfully deleted'"
      ]
     },
     "metadata": {},
     "output_type": "display_data"
    },
    {
     "data": {
      "text/plain": [
       "'SECTOR_UID successfully deleted'"
      ]
     },
     "metadata": {},
     "output_type": "display_data"
    },
    {
     "data": {
      "text/plain": [
       "'IS_RETAIL_PARTNER successfully deleted'"
      ]
     },
     "metadata": {},
     "output_type": "display_data"
    },
    {
     "data": {
      "text/plain": [
       "'IS_SERVICE_PARTNER successfully deleted'"
      ]
     },
     "metadata": {},
     "output_type": "display_data"
    },
    {
     "data": {
      "text/plain": [
       "'RATING_UID successfully deleted'"
      ]
     },
     "metadata": {},
     "output_type": "display_data"
    },
    {
     "data": {
      "text/plain": [
       "'PARTNER_ADRESS_TYPE_UID successfully deleted'"
      ]
     },
     "metadata": {},
     "output_type": "display_data"
    },
    {
     "data": {
      "text/plain": [
       "'Altersklasse5J successfully deleted'"
      ]
     },
     "metadata": {},
     "output_type": "display_data"
    },
    {
     "data": {
      "text/plain": [
       "'Kanton successfully deleted'"
      ]
     },
     "metadata": {},
     "output_type": "display_data"
    },
    {
     "data": {
      "text/plain": [
       "'CAR_OWNER_JOIN_NR successfully deleted'"
      ]
     },
     "metadata": {},
     "output_type": "display_data"
    },
    {
     "data": {
      "text/plain": [
       "'WEMFWirtschaftsgebiet successfully deleted'"
      ]
     },
     "metadata": {},
     "output_type": "display_data"
    },
    {
     "data": {
      "text/plain": [
       "'PERSON_STREET successfully deleted'"
      ]
     },
     "metadata": {},
     "output_type": "display_data"
    },
    {
     "data": {
      "text/plain": [
       "'PERSON_ZIP_CODE successfully deleted'"
      ]
     },
     "metadata": {},
     "output_type": "display_data"
    },
    {
     "data": {
      "text/plain": [
       "'PARTNER_STREET successfully deleted'"
      ]
     },
     "metadata": {},
     "output_type": "display_data"
    },
    {
     "data": {
      "text/plain": [
       "'PARTNER_ZIP_CODE successfully deleted'"
      ]
     },
     "metadata": {},
     "output_type": "display_data"
    },
    {
     "data": {
      "text/plain": [
       "'PARTNER_LAT successfully deleted'"
      ]
     },
     "metadata": {},
     "output_type": "display_data"
    },
    {
     "data": {
      "text/plain": [
       "'PARTNER_LNG successfully deleted'"
      ]
     },
     "metadata": {},
     "output_type": "display_data"
    },
    {
     "data": {
      "text/plain": [
       "'PARTNER_ADDRESS successfully deleted'"
      ]
     },
     "metadata": {},
     "output_type": "display_data"
    },
    {
     "data": {
      "text/plain": [
       "'PARTNER_COMPANY_NR successfully deleted'"
      ]
     },
     "metadata": {},
     "output_type": "display_data"
    },
    {
     "data": {
      "text/plain": [
       "'Sprachregion successfully deleted'"
      ]
     },
     "metadata": {},
     "output_type": "display_data"
    },
    {
     "data": {
      "text/plain": [
       "'SUM_INVOICE_AMOUNT_IN_SERVICE successfully deleted'"
      ]
     },
     "metadata": {},
     "output_type": "display_data"
    },
    {
     "data": {
      "text/plain": [
       "'Altersklasse1J successfully deleted'"
      ]
     },
     "metadata": {},
     "output_type": "display_data"
    },
    {
     "data": {
      "text/plain": [
       "'dist_seconds successfully deleted'"
      ]
     },
     "metadata": {},
     "output_type": "display_data"
    },
    {
     "data": {
      "text/plain": [
       "'ACTIVE successfully deleted'"
      ]
     },
     "metadata": {},
     "output_type": "display_data"
    },
    {
     "data": {
      "text/plain": [
       "'KANTON_LICENCE_PLATE successfully deleted'"
      ]
     },
     "metadata": {},
     "output_type": "display_data"
    },
    {
     "data": {
      "text/plain": [
       "'LAST_EVT successfully deleted'"
      ]
     },
     "metadata": {},
     "output_type": "display_data"
    },
    {
     "data": {
      "text/plain": [
       "'FIRST_EVT successfully deleted'"
      ]
     },
     "metadata": {},
     "output_type": "display_data"
    },
    {
     "data": {
      "text/plain": [
       "'EXTERIOR_COLOR_DE successfully deleted'"
      ]
     },
     "metadata": {},
     "output_type": "display_data"
    },
    {
     "data": {
      "text/plain": [
       "'INTERIOR_COLOR_DE successfully deleted'"
      ]
     },
     "metadata": {},
     "output_type": "display_data"
    }
   ],
   "source": [
    "# disable warning\n",
    "pd.set_option('mode.chained_assignment', None) \n",
    "\n",
    "# pipeline to clean our test set with same functions as used / defined in EDA notebook\n",
    "testSet = (testSet\n",
    " .pipe(funCleaning.fixDtypes, colsToCat=colsToCat)\n",
    " .pipe(funChurn.funCleanNumericals)\n",
    " .pipe(funCleaning.colsToLog10, colsToLog10=colsToLog10)\n",
    " .pipe(funChurn.funCleanCategoricals)\n",
    " .pipe(funChurn.funCleanStrings)\n",
    " .pipe(funChurn.funCleanMissingStates)\n",
    " .pipe(funCleaning.delCols, colsToDel=colsToDel)\n",
    ");"
   ]
  },
  {
   "cell_type": "code",
   "execution_count": 19,
   "metadata": {},
   "outputs": [],
   "source": [
    "# remove NaN - impute defined NaN-values with values calculated from train set\n",
    "testSet['ownerAge'] = testSet['ownerAge'].fillna(49.0)\n",
    "testSet['SUM_INVOICE_AMOUNT_log'] = testSet['SUM_INVOICE_AMOUNT_log'].fillna(2.9860772029124125)\n",
    "testSet['NUMBER_OF_DOORS_UID'] = testSet['NUMBER_OF_DOORS_UID'].fillna(5.0)\n",
    "# drop the rest according to strategies performed on train set\n",
    "testSet = funCleaning.nanRemoval(testSet, dropAll=True, colsToDrop=colsToDrop)"
   ]
  },
  {
   "cell_type": "code",
   "execution_count": 20,
   "metadata": {},
   "outputs": [
    {
     "name": "stdout",
     "output_type": "stream",
     "text": [
      "Rows removed: 35\n"
     ]
    }
   ],
   "source": [
    "# remove categorical values that are not found in both sets to make sure one-hot-encoding returns same number of cols\n",
    "len1 = len(testSet)\n",
    "testSet = testSet[testSet['END_CUSTOMER_STATUS_UID'] != '64 Mitarbeiter AMAG Filiale'] \n",
    "testSet = testSet[testSet['SALES_TYPE'] != 'R8'] \n",
    "testSet = testSet[testSet['SALES_TYPE'] != 'RS6']\n",
    "testSet = testSet[testSet['SALES_TYPE'] != 'RS7']\n",
    "testSet = testSet[testSet['SALES_TYPE'] != 'S8']\n",
    "testSet = testSet[testSet['PERSON_ADRESS_COUNT'] != 6.0]\n",
    "len2 = len(testSet)\n",
    "print(\"Rows removed: {}\".format(len1-len2))"
   ]
  },
  {
   "cell_type": "code",
   "execution_count": 112,
   "metadata": {},
   "outputs": [],
   "source": [
    "# separate target variable from rest of test set\n",
    "test = testSet.drop('target_event', axis=1)\n",
    "testLabels = testSet['target_event'].copy()"
   ]
  },
  {
   "cell_type": "code",
   "execution_count": 22,
   "metadata": {},
   "outputs": [],
   "source": [
    "# feature preprocessing with scikit-learn pipeline\n",
    "df = test\n",
    "numCols = list(df.select_dtypes(include = ['float64', 'int64']).columns)\n",
    "catCols = list(df.select_dtypes(include = 'category').columns)\n",
    "# make sure every value in all of the two column groups is of the same dtype for the encoding\n",
    "for col in numCols:\n",
    "    df[col] = df[col].astype(float) \n",
    "for col in catCols:\n",
    "    df[col] = df[col].astype(str)\n",
    "# pipeline for standardization and one-hot-encoding\n",
    "fullPipelineTest = ColumnTransformer([\n",
    "        ('std_scaler', StandardScaler(), numCols),\n",
    "        ('encoder', OneHotEncoder(), catCols),\n",
    "    ])\n",
    "\n",
    "test_prepared = fullPipelineTest.fit_transform(df)"
   ]
  },
  {
   "cell_type": "code",
   "execution_count": 23,
   "metadata": {},
   "outputs": [
    {
     "data": {
      "text/plain": [
       "<10284x228 sparse matrix of type '<class 'numpy.float64'>'\n",
       "\twith 308520 stored elements in Compressed Sparse Row format>"
      ]
     },
     "metadata": {},
     "output_type": "display_data"
    }
   ],
   "source": [
    "#check\n",
    "display(test_prepared)"
   ]
  },
  {
   "cell_type": "markdown",
   "metadata": {},
   "source": [
    "## Final evaluation on test set"
   ]
  },
  {
   "cell_type": "code",
   "execution_count": 24,
   "metadata": {},
   "outputs": [
    {
     "name": "stdout",
     "output_type": "stream",
     "text": [
      "Final F-Beta-Score on the testing data: 0.8111\n"
     ]
    }
   ],
   "source": [
    "# make predictions for test set\n",
    "predictions = xgbChurn.predict(test_prepared) \n",
    "# evaluate predictions \n",
    "fBetaFinal = fbeta_score(testLabels, predictions, beta = 0.5) \n",
    "print(\"Final F-Beta-Score on the testing data: {:.4f}\".format(fBetaFinal))"
   ]
  },
  {
   "cell_type": "markdown",
   "metadata": {},
   "source": [
    "## Extract additional information"
   ]
  },
  {
   "cell_type": "code",
   "execution_count": null,
   "metadata": {},
   "outputs": [],
   "source": [
    "# get probabilities of class membership for instances in test set (first col is probability for CHURN)\n",
    "probabilities = xgbChurn.predict_proba(test_prepared)\n",
    "probabilities"
   ]
  },
  {
   "cell_type": "markdown",
   "metadata": {},
   "source": [
    "### Plot ROC curve"
   ]
  },
  {
   "cell_type": "code",
   "execution_count": 202,
   "metadata": {},
   "outputs": [
    {
     "data": {
      "image/png": "[encoded data removed]",
      "text/plain": [
       "<Figure size 576x576 with 1 Axes>"
      ]
     },
     "metadata": {},
     "output_type": "display_data"
    }
   ],
   "source": [
    "# calculate ROC-Curve\n",
    "fpr, tpr, thresholds = roc_curve(testLabels, probabilities[:,1])\n",
    "roc_auc = roc_auc_score(testLabels, probabilites[:,1])\n",
    "# plot ROC curve\n",
    "plt.figure(figsize=(8, 8))\n",
    "plt.plot(fpr, tpr, label=\"ROC curve (area = {:.3f})\".format(roc_auc))\n",
    "plt.plot([0, 1], [0, 1], 'k--')\n",
    "# styling\n",
    "plt.xlim([0.0, 1.0])\n",
    "plt.ylim([0.0, 1.0])\n",
    "plt.xlabel('False Positive Rate (1 - Specificity)', size=12)\n",
    "plt.ylabel('True Positive Rate (Sensitivity)', size=12)\n",
    "plt.title('ROC Curve', size=12)\n",
    "plt.legend(loc='best');"
   ]
  },
  {
   "cell_type": "markdown",
   "metadata": {},
   "source": [
    "### Analyze recall and precision for CHURN in more detail"
   ]
  },
  {
   "cell_type": "code",
   "execution_count": 95,
   "metadata": {},
   "outputs": [
    {
     "data": {
      "image/png": "[encoded data removed]",
      "text/plain": [
       "<Figure size 432x288 with 1 Axes>"
      ]
     },
     "metadata": {},
     "output_type": "display_data"
    }
   ],
   "source": [
    "# quickcheck distribution of returned probabilities for an instance beeing classified as CHURN\n",
    "sns.distplot(probabilites[:,0], color='rebeccapurple')\n",
    "sns.title('Distribution of probabilities for predicting CHURN', size=12);"
   ]
  },
  {
   "cell_type": "markdown",
   "metadata": {},
   "source": [
    "**Observation**: The model seems more confident in predicting with high probability which instances are ACTIVE than which are CHURN."
   ]
  },
  {
   "cell_type": "code",
   "execution_count": 136,
   "metadata": {},
   "outputs": [],
   "source": [
    "# combine probabilities for CHURN, predictions and testLabels in dataframe ordered by probability (highest)\n",
    "finalResultsDF = pd.DataFrame({'proba': probabilities[:,0], 'pred' : predictions, 'label' : np.array(testLabels)}\n",
    "                             ).sort_values('proba', ascending=False).reset_index().drop('index', axis=1)"
   ]
  },
  {
   "cell_type": "code",
   "execution_count": 138,
   "metadata": {},
   "outputs": [
    {
     "data": {
      "text/html": [
       "<div>\n",
       "<style scoped>\n",
       "    .dataframe tbody tr th:only-of-type {\n",
       "        vertical-align: middle;\n",
       "    }\n",
       "\n",
       "    .dataframe tbody tr th {\n",
       "        vertical-align: top;\n",
       "    }\n",
       "\n",
       "    .dataframe thead th {\n",
       "        text-align: right;\n",
       "    }\n",
       "</style>\n",
       "<table border=\"1\" class=\"dataframe\">\n",
       "  <thead>\n",
       "    <tr style=\"text-align: right;\">\n",
       "      <th></th>\n",
       "      <th>proba</th>\n",
       "      <th>pred</th>\n",
       "      <th>label</th>\n",
       "    </tr>\n",
       "  </thead>\n",
       "  <tbody>\n",
       "    <tr>\n",
       "      <th>0</th>\n",
       "      <td>0.993316</td>\n",
       "      <td>0</td>\n",
       "      <td>0</td>\n",
       "    </tr>\n",
       "    <tr>\n",
       "      <th>1</th>\n",
       "      <td>0.991981</td>\n",
       "      <td>0</td>\n",
       "      <td>0</td>\n",
       "    </tr>\n",
       "    <tr>\n",
       "      <th>2</th>\n",
       "      <td>0.991305</td>\n",
       "      <td>0</td>\n",
       "      <td>0</td>\n",
       "    </tr>\n",
       "    <tr>\n",
       "      <th>3</th>\n",
       "      <td>0.989501</td>\n",
       "      <td>0</td>\n",
       "      <td>0</td>\n",
       "    </tr>\n",
       "    <tr>\n",
       "      <th>4</th>\n",
       "      <td>0.986740</td>\n",
       "      <td>0</td>\n",
       "      <td>0</td>\n",
       "    </tr>\n",
       "    <tr>\n",
       "      <th>5</th>\n",
       "      <td>0.985647</td>\n",
       "      <td>0</td>\n",
       "      <td>0</td>\n",
       "    </tr>\n",
       "    <tr>\n",
       "      <th>6</th>\n",
       "      <td>0.985459</td>\n",
       "      <td>0</td>\n",
       "      <td>1</td>\n",
       "    </tr>\n",
       "    <tr>\n",
       "      <th>7</th>\n",
       "      <td>0.984573</td>\n",
       "      <td>0</td>\n",
       "      <td>1</td>\n",
       "    </tr>\n",
       "    <tr>\n",
       "      <th>8</th>\n",
       "      <td>0.983488</td>\n",
       "      <td>0</td>\n",
       "      <td>0</td>\n",
       "    </tr>\n",
       "    <tr>\n",
       "      <th>9</th>\n",
       "      <td>0.981355</td>\n",
       "      <td>0</td>\n",
       "      <td>0</td>\n",
       "    </tr>\n",
       "  </tbody>\n",
       "</table>\n",
       "</div>"
      ],
      "text/plain": [
       "      proba  pred  label\n",
       "0  0.993316     0      0\n",
       "1  0.991981     0      0\n",
       "2  0.991305     0      0\n",
       "3  0.989501     0      0\n",
       "4  0.986740     0      0\n",
       "5  0.985647     0      0\n",
       "6  0.985459     0      1\n",
       "7  0.984573     0      1\n",
       "8  0.983488     0      0\n",
       "9  0.981355     0      0"
      ]
     },
     "execution_count": 138,
     "metadata": {},
     "output_type": "execute_result"
    }
   ],
   "source": [
    "# check\n",
    "finalResultsDF.head(10)"
   ]
  },
  {
   "cell_type": "code",
   "execution_count": 164,
   "metadata": {},
   "outputs": [
    {
     "name": "stdout",
     "output_type": "stream",
     "text": [
      "Number of CHURN predicted: 2721 (26.46% from total)\n",
      "Number of CHURN labeled: 3333, (32.41% from total)\n"
     ]
    }
   ],
   "source": [
    "print(\"Number of CHURN predicted: {} ({:.2f}% from total)\".format(\n",
    "    finalResultsDF['pred'].value_counts()[0], (finalResultsDF['pred'].value_counts()[0]/len(finalResultsDF))*100))\n",
    "print(\"Number of CHURN labeled: {}, ({:.2f}% from total)\".format(\n",
    "    finalResultsDF['label'].value_counts()[0], (finalResultsDF['label'].value_counts()[0]/len(finalResultsDF))*100))"
   ]
  },
  {
   "cell_type": "markdown",
   "metadata": {},
   "source": [
    "**Observation**: The model predicts significantly less CHURN than is labeled in the data. The recall is low."
   ]
  },
  {
   "cell_type": "code",
   "execution_count": 181,
   "metadata": {},
   "outputs": [
    {
     "name": "stdout",
     "output_type": "stream",
     "text": [
      "\n",
      "Probability threshold for CHURN prediction: 50.0%\n",
      "Number of predictions in selection: 2721\n",
      "Share of CHURN predictions: 100.00%\n",
      "Share of all predictions: 26.46%\n",
      "Number of ACTIVE in selection: 916 (33.66% of selection)\n",
      "\n",
      "Probability threshold for CHURN prediction: 60.0%\n",
      "Number of predictions in selection: 1985\n",
      "Share of CHURN predictions: 72.95%\n",
      "Share of all predictions: 19.30%\n",
      "Number of ACTIVE in selection: 584 (29.42% of selection)\n",
      "\n",
      "Probability threshold for CHURN prediction: 70.0%\n",
      "Number of predictions in selection: 1303\n",
      "Share of CHURN predictions: 47.89%\n",
      "Share of all predictions: 12.67%\n",
      "Number of ACTIVE in selection: 338 (25.94% of selection)\n",
      "\n",
      "Probability threshold for CHURN prediction: 80.0%\n",
      "Number of predictions in selection: 712\n",
      "Share of CHURN predictions: 26.17%\n",
      "Share of all predictions: 6.92%\n",
      "Number of ACTIVE in selection: 167 (23.46% of selection)\n",
      "\n",
      "Probability threshold for CHURN prediction: 90.0%\n",
      "Number of predictions in selection: 273\n",
      "Share of CHURN predictions: 10.03%\n",
      "Share of all predictions: 2.65%\n",
      "Number of ACTIVE in selection: 50 (18.32% of selection)\n"
     ]
    }
   ],
   "source": [
    "# calculate some metrics for different thresholds of predicted CHURN probabilty\n",
    "probThresholds = np.arange(0.5, 1.0, 0.1)\n",
    "for threshold in probThresholds:\n",
    "    print(\"\\nProbability threshold for CHURN prediction: {:.1f}%\".format(threshold*100))\n",
    "    df = finalResultsDF[finalResultsDF['proba'] >= threshold]\n",
    "    print(\"Number of predictions in selection: {}\".format(len(df)))\n",
    "    print(\"Share of CHURN predictions: {:.2f}%\".format((len(df)/finalResultsDF['pred'].value_counts()[0])*100))\n",
    "    print(\"Share of all predictions: {:.2f}%\".format((len(df)/len(finalResultsDF))*100))\n",
    "    print(\"Number of ACTIVE in selection: {} ({:.2f}% of selection)\".format(df['label'].sum(), (df['label'].sum()/len(df)*100)))"
   ]
  },
  {
   "cell_type": "markdown",
   "metadata": {},
   "source": [
    "### Plot precision-recall curve"
   ]
  },
  {
   "cell_type": "code",
   "execution_count": 213,
   "metadata": {},
   "outputs": [
    {
     "data": {
      "image/png": "[encoded data removed]",
      "text/plain": [
       "<Figure size 576x576 with 1 Axes>"
      ]
     },
     "metadata": {},
     "output_type": "display_data"
    }
   ],
   "source": [
    "# calculate precision-recall curve\n",
    "average_precision = average_precision_score(testLabels, probabilities[:,1])\n",
    "precision, recall, thresholds = precision_recall_curve(\n",
    "    testLabels, probabilities[:,1])\n",
    "# plot precision-recall curve\n",
    "plt.figure(figsize=(8,8))\n",
    "plt.step(recall, precision, color='rebeccapurple', alpha=0.2, where='post')\n",
    "plt.fill_between(recall, precision, alpha=0.2, color='rebeccapurple')\n",
    "# styling\n",
    "plt.xlabel('Recall')\n",
    "plt.ylabel('Precision')\n",
    "plt.ylim([0.0, 1.05])\n",
    "plt.xlim([0.0, 1.0])\n",
    "plt.title('2-class Precision-Recall curve: AP={0:0.2f}'.format( average_precision));"
   ]
  },
  {
   "cell_type": "markdown",
   "metadata": {},
   "source": [
    "### Re-examine feature importances"
   ]
  },
  {
   "cell_type": "code",
   "execution_count": 29,
   "metadata": {},
   "outputs": [
    {
     "name": "stdout",
     "output_type": "stream",
     "text": [
      "[5.14320206e-02 3.97054694e-02 6.37593795e-02 1.07433028e-01\n",
      " 1.26070603e-01 4.31181051e-02 2.54946674e-01 3.27771784e-02\n",
      " 3.55862234e-02 7.57222075e-02 1.73891906e-03 3.33023713e-03\n",
      " 9.35620100e-04 1.02506550e-03 1.40965838e-03 1.03418082e-03\n",
      " 2.25811605e-02 6.91910235e-04 5.97535736e-04 4.65126833e-04\n",
      " 7.07790528e-04 7.96438626e-04 1.67726309e-04 2.02084134e-03\n",
      " 1.17138692e-04 0.00000000e+00 8.94782094e-04 9.49467384e-04\n",
      " 7.99422696e-04 5.13155908e-04 3.44680373e-05 8.25820951e-04\n",
      " 1.87429743e-03 6.03499078e-04 9.03784022e-04 9.95629500e-04\n",
      " 1.13753314e-03 1.26128349e-03 3.04485781e-04 8.55677740e-04\n",
      " 7.05244812e-05 2.19209354e-04 1.21104756e-03 1.68722283e-03\n",
      " 2.16495313e-04 8.45895280e-04 6.17574489e-04 9.67951393e-04\n",
      " 8.23136324e-04 7.57775221e-04 6.35605733e-04 2.52019965e-04\n",
      " 4.68290559e-05 4.56317918e-04 3.32353199e-04 5.62882363e-04\n",
      " 7.15303453e-04 3.34982278e-04 2.48990369e-04 4.21385082e-04\n",
      " 4.40333994e-05 5.85065414e-04 5.94689432e-04 9.41715954e-04\n",
      " 3.35136273e-04 1.48366823e-03 1.07600395e-03 2.47504547e-04\n",
      " 8.21748842e-04 2.92885426e-05 1.32796045e-03 1.16887156e-03\n",
      " 0.00000000e+00 7.49500279e-04 3.59796948e-04 4.48370223e-04\n",
      " 2.74505504e-04 1.49057343e-05 4.56603969e-04 5.25932636e-04\n",
      " 2.64545809e-04 1.83879765e-04 5.30086557e-04 1.65409244e-05\n",
      " 6.73334471e-04 3.00547382e-04 4.23603653e-04 2.82178969e-05\n",
      " 0.00000000e+00 1.75675273e-04 7.62272995e-04 8.66705072e-04\n",
      " 2.99596793e-04 1.42588777e-03 1.39547296e-04 9.51303355e-04\n",
      " 9.39305332e-05 3.10859260e-04 2.60946885e-03 7.35471021e-04\n",
      " 4.25515147e-04 9.32812123e-04 1.29737718e-03 6.02595787e-04\n",
      " 6.88391361e-04 0.00000000e+00 1.33592229e-04 1.25119741e-03\n",
      " 1.33854167e-03 2.20739740e-04 1.82590614e-04 1.20842231e-03\n",
      " 8.39314713e-04 1.32175176e-04 6.73392164e-04 2.62030558e-04\n",
      " 7.46408372e-04 4.90815407e-04 3.36015025e-04 2.58435438e-04\n",
      " 2.94337609e-04 3.35313504e-04 7.98929258e-04 5.56993034e-04\n",
      " 6.71484844e-04 2.82636721e-04 1.78935738e-04 1.03235088e-03\n",
      " 1.73915385e-03 3.67118598e-04 1.75951140e-03 5.23072408e-03\n",
      " 1.90516965e-03 8.78204438e-04 2.97521479e-04 1.43820076e-04\n",
      " 1.53994559e-04 9.96676913e-04 1.63138367e-03 2.64829499e-04\n",
      " 4.38397014e-04 1.49146807e-04 5.18591100e-04 5.08651187e-04\n",
      " 2.49856601e-03 6.65379643e-04 2.09963207e-04 7.63119785e-04\n",
      " 8.61646367e-04 4.32917496e-04 4.77661885e-04 1.81405500e-04\n",
      " 1.25865703e-03 1.65539297e-04 4.73208088e-04 7.53881129e-04\n",
      " 1.05310549e-03 6.09416578e-04 3.47153395e-04 1.15521808e-04\n",
      " 3.03870936e-04 2.35225394e-04 1.68314298e-04 7.13752773e-04\n",
      " 5.02166615e-04 4.63532678e-04 8.64221701e-04 4.61149500e-04\n",
      " 2.15466777e-04 7.92441157e-04 6.74508688e-04 7.37901480e-04\n",
      " 7.28323559e-04 9.11902677e-04 1.13168959e-03 4.01009905e-04\n",
      " 2.33180466e-04 7.62516451e-04 5.83290286e-04 5.64867021e-04\n",
      " 2.67122588e-04 7.42230765e-04 8.86044886e-04 6.17774722e-04\n",
      " 7.65509598e-04 5.73132288e-04 6.76350601e-04 9.63588615e-04\n",
      " 3.61609992e-04 1.12960208e-03 5.21322101e-04 5.90142147e-04\n",
      " 3.11238678e-04 6.86754003e-04 2.63589018e-04 3.16877232e-04\n",
      " 1.63377741e-03 9.35167417e-04 9.49415890e-04 7.50830207e-04\n",
      " 6.66279715e-04 2.89674474e-04 8.00212634e-04 5.20164955e-04\n",
      " 7.28271075e-04 8.34969484e-04 2.72959692e-04 7.21258661e-04\n",
      " 7.56906388e-04 3.75126826e-04 4.89474287e-04 7.19226146e-04\n",
      " 6.88666187e-04 4.29831763e-04 5.40162298e-04 1.94727124e-04\n",
      " 4.16824042e-04 9.22113568e-04 3.13104546e-04 6.90631867e-04\n",
      " 9.54316000e-04 5.07310477e-04 7.75443031e-04 9.75865557e-04\n",
      " 7.15319401e-04 6.61512207e-04 6.07506071e-04 1.95523897e-04]\n"
     ]
    }
   ],
   "source": [
    "xgbChurnImportances = xgbChurn.feature_importances_\n",
    "print(xgbChurnImportances)"
   ]
  },
  {
   "cell_type": "code",
   "execution_count": 102,
   "metadata": {
    "scrolled": true
   },
   "outputs": [
    {
     "data": {
      "image/png": "[encoded data removed]",
      "text/plain": [
       "<Figure size 1152x360 with 1 Axes>"
      ]
     },
     "metadata": {},
     "output_type": "display_data"
    }
   ],
   "source": [
    "# reconstruct feature names (numCols) & one-hot-encoded-attribute names (catCols) for dimensions in test_prepared\n",
    "encoderTest = fullPipelineTest.named_transformers_['encoder']\n",
    "oneHotAttribs = []\n",
    "for sublist in list(encoderTest.categories_):\n",
    "    for item in sublist:\n",
    "        oneHotAttribs.append(item)\n",
    "attribs = numCols + oneHotAttribs\n",
    "# zip feature names and importances\n",
    "featureImportancesTest = (sorted(zip(xgbChurnImportances, attribs), reverse=True))\n",
    "# create dataframe of featureImportancesTest, select features with biggest weights\n",
    "dfPlot = pd.DataFrame(featureImportancesTest)\n",
    "dfPlot = dfPlot[dfPlot[0] > 0.005]    \n",
    "# plot features with biggest weight\n",
    "fig = plt.figure(figsize = (16,5))\n",
    "plt.bar(np.arange(len(dfPlot)), dfPlot[0], width = 0.6, align=\"center\", color = 'yellow', \\\n",
    "      label = \"Feature / Attribute Weight\")\n",
    "plt.bar(np.arange(len(dfPlot)) - 0.3, np.cumsum(dfPlot[0]), width = 0.2, align = \"center\", color = 'rebeccapurple', \\\n",
    "      label = \"Cumulative Feature Weight\")\n",
    "# styling\n",
    "plt.title(\"Normalized Weights for Predictive Features / Attributes with Weight > 0.005\", fontsize = 12)\n",
    "plt.ylabel(\"Weights\", fontsize = 12)\n",
    "plt.xlabel(\"Features / Attributes\", fontsize = 12)\n",
    "plt.xticks(np.arange(len(dfPlot)), dfPlot[1], rotation=90)\n",
    "plt.legend(loc = 'upper left');"
   ]
  },
  {
   "cell_type": "markdown",
   "metadata": {},
   "source": [
    "**Conclusions:**\n",
    "- it is very interesting to see how many more of the features have got a weight > 0 (nearly all). That looked very different for the first Feature Importance calculation with the simple XGB model.\n",
    "- It is also remarkable how the order of the most important features has changed. For example dist_metres is now less important than MEAN_MILEAGE and LAST_MILEAGE - it seems the more complex model has been able to exploit those latter features better than the simpler one."
   ]
  },
  {
   "cell_type": "markdown",
   "metadata": {},
   "source": [
    "## Back-up"
   ]
  },
  {
   "cell_type": "code",
   "execution_count": null,
   "metadata": {},
   "outputs": [],
   "source": [
    "# old pipeline\n",
    "\n",
    "df = train\n",
    "\n",
    "numCols = list(df.select_dtypes(include = ['float64', 'int64']).columns)\n",
    "catCols = list(df.select_dtypes(include = 'category').columns)\n",
    "\n",
    "# make sure every value in all of the cat column is of the same dtype for the encoding - NaN removal has changed some objects \n",
    "for col in catCols:\n",
    "    df[col] = df[col].astype(str)\n",
    "\n",
    "numPipeline = Pipeline([\n",
    "    ('std_scaler', StandardScaler()),\n",
    "])\n",
    "\n",
    "catPipeline = Pipeline([\n",
    "    ('encoder', OneHotEncoder()),\n",
    "])\n",
    "\n",
    "fullPipeline = ColumnTransformer([\n",
    "        (\"num\", numPipeline, numCols),\n",
    "        (\"cat\", catPipeline, catCols),\n",
    "    ])\n",
    "\n",
    "train_prepared = fullPipeline.fit_transform(df)"
   ]
  },
  {
   "cell_type": "code",
   "execution_count": null,
   "metadata": {},
   "outputs": [],
   "source": [
    "# # Create the RFE object and compute a cross-validated score\n",
    "# logReg = LogisticRegression()\n",
    "# rfecv = RFECV(estimator=logReg, step=1, cv=StratifiedKFold(2), scoring=make_scorer(fbeta_score, beta=0.5))\n",
    "# rfecv.fit(train_prepared, trainLabels)\n",
    "\n",
    "# print(\"Optimal number of features : %d\" % rfecv.n_features_)\n",
    "\n",
    "# # Plot number of features VS. cross-validation scores\n",
    "# plt.figure()\n",
    "# plt.xlabel(\"Number of features selected\")\n",
    "# plt.ylabel(\"Cross validation score\")\n",
    "# plt.plot(range(1, len(rfecv.grid_scores_) + 1), rfecv.grid_scores_);"
   ]
  },
  {
   "cell_type": "code",
   "execution_count": null,
   "metadata": {},
   "outputs": [],
   "source": [
    "# rfecv.support_"
   ]
  },
  {
   "cell_type": "code",
   "execution_count": null,
   "metadata": {},
   "outputs": [],
   "source": [
    "\n",
    "# sorted(scores.keys())\n",
    "\n",
    "# print(scores['test_score'])\n",
    "# print(\"F-Beta: {:.2f} (+/- {:.2f})\".format(np.mean(scores['test_score']), np.std(scores['test_score']) * 2))"
   ]
  }
 ],
 "metadata": {
  "kernelspec": {
   "display_name": "Python [conda env:Anaconda3]",
   "language": "python",
   "name": "conda-env-Anaconda3-py"
  },
  "language_info": {
   "codemirror_mode": {
    "name": "ipython",
    "version": 3
   },
   "file_extension": ".py",
   "mimetype": "text/x-python",
   "name": "python",
   "nbconvert_exporter": "python",
   "pygments_lexer": "ipython3",
   "version": "3.6.3"
  }
 },
 "nbformat": 4,
 "nbformat_minor": 2
}
